{
 "cells": [
  {
   "cell_type": "markdown",
   "metadata": {},
   "source": [
    "Build a regression model using Python’s `statsmodels` module that demonstrates a relationship between the number of bikes in a particular location and the characteristics of the POIs in that location."
   ]
  },
  {
   "cell_type": "code",
   "execution_count": 10,
   "metadata": {},
   "outputs": [],
   "source": [
    "# Imports libaries\n",
    "import pandas as pd\n",
    "import numpy as np\n",
    "import matplotlib.pyplot as plt\n",
    "import seaborn as sns\n",
    "from scipy import stats\n",
    "import statsmodels.api as sm\n",
    "import scipy\n",
    "\n",
    "sns.set_theme()\n",
    "\n",
    "import warnings\n",
    "warnings.filterwarnings('ignore')"
   ]
  },
  {
   "cell_type": "markdown",
   "metadata": {},
   "source": [
    "At the end of part 3 - joining table, we've performed the EDA and feature correlation with the independent variables bearing the bar characteristics (only numeric) are not highly linearly related to our target variable ('cb_bike_num'). Usually the correlation needs to >0.5 or <-0.5 to be significant. However, we chose to keep the variables 'review_count', 'distance' as asked in the assignment.md file; while remove the near zero correlation."
   ]
  },
  {
   "cell_type": "markdown",
   "metadata": {},
   "source": [
    "### Multivariate Linear Regression\n",
    "\n",
    "Multivariate iple linear regression consists of one continuous dependent variable and more than one independent variable. We use 'cb_bike_num' as our dependent variable ($y$) and 'review_count', 'distance' as our independent variables ($x_1$ and $x_2$). This multiple linear regression model uses the relationship:\n",
    "\n",
    "$$\n",
    "y=b_0 + b_1x_1 + b_2x_2\n",
    "$$"
   ]
  },
  {
   "cell_type": "markdown",
   "metadata": {},
   "source": [
    "Provide model output and an interpretation of the results. "
   ]
  },
  {
   "cell_type": "code",
   "execution_count": 11,
   "metadata": {},
   "outputs": [
    {
     "data": {
      "text/html": [
       "<div>\n",
       "<style scoped>\n",
       "    .dataframe tbody tr th:only-of-type {\n",
       "        vertical-align: middle;\n",
       "    }\n",
       "\n",
       "    .dataframe tbody tr th {\n",
       "        vertical-align: top;\n",
       "    }\n",
       "\n",
       "    .dataframe thead th {\n",
       "        text-align: right;\n",
       "    }\n",
       "</style>\n",
       "<table border=\"1\" class=\"dataframe\">\n",
       "  <thead>\n",
       "    <tr style=\"text-align: right;\">\n",
       "      <th></th>\n",
       "      <th>cb_station_id</th>\n",
       "      <th>cb_station_name</th>\n",
       "      <th>cb_latitude</th>\n",
       "      <th>cb_longitude</th>\n",
       "      <th>cb_bike_num</th>\n",
       "      <th>name</th>\n",
       "      <th>postcode</th>\n",
       "      <th>category</th>\n",
       "      <th>distance</th>\n",
       "      <th>review_count</th>\n",
       "      <th>rating</th>\n",
       "      <th>cb_name_count</th>\n",
       "      <th>price_level</th>\n",
       "    </tr>\n",
       "  </thead>\n",
       "  <tbody>\n",
       "    <tr>\n",
       "      <th>0</th>\n",
       "      <td>72bfd647b3d2b650546f42319729757d</td>\n",
       "      <td>Cégep Marie-Victorin</td>\n",
       "      <td>45.617500</td>\n",
       "      <td>-73.606011</td>\n",
       "      <td>11</td>\n",
       "      <td>Resto-bar Capucine - Nord-Est de Montréal</td>\n",
       "      <td>Unavailable</td>\n",
       "      <td>Sports Bar</td>\n",
       "      <td>246.0</td>\n",
       "      <td>44.0</td>\n",
       "      <td>4.0</td>\n",
       "      <td>4</td>\n",
       "      <td>2</td>\n",
       "    </tr>\n",
       "    <tr>\n",
       "      <th>1</th>\n",
       "      <td>72bfd647b3d2b650546f42319729757d</td>\n",
       "      <td>Cégep Marie-Victorin</td>\n",
       "      <td>45.617500</td>\n",
       "      <td>-73.606011</td>\n",
       "      <td>11</td>\n",
       "      <td>Piano Bar la Belle Epoque</td>\n",
       "      <td>H1G 2V6</td>\n",
       "      <td>Cocktail Bar</td>\n",
       "      <td>661.0</td>\n",
       "      <td>44.0</td>\n",
       "      <td>4.0</td>\n",
       "      <td>4</td>\n",
       "      <td>2</td>\n",
       "    </tr>\n",
       "    <tr>\n",
       "      <th>2</th>\n",
       "      <td>72bfd647b3d2b650546f42319729757d</td>\n",
       "      <td>Cégep Marie-Victorin</td>\n",
       "      <td>45.617500</td>\n",
       "      <td>-73.606011</td>\n",
       "      <td>11</td>\n",
       "      <td>Cafe liana bar &amp; grill</td>\n",
       "      <td>H1E 1M4</td>\n",
       "      <td>Bar</td>\n",
       "      <td>809.0</td>\n",
       "      <td>44.0</td>\n",
       "      <td>4.0</td>\n",
       "      <td>4</td>\n",
       "      <td>2</td>\n",
       "    </tr>\n",
       "    <tr>\n",
       "      <th>3</th>\n",
       "      <td>72bfd647b3d2b650546f42319729757d</td>\n",
       "      <td>Cégep Marie-Victorin</td>\n",
       "      <td>45.617500</td>\n",
       "      <td>-73.606011</td>\n",
       "      <td>11</td>\n",
       "      <td>La Veranda</td>\n",
       "      <td>H1G 2V5</td>\n",
       "      <td>Bar</td>\n",
       "      <td>960.0</td>\n",
       "      <td>44.0</td>\n",
       "      <td>4.0</td>\n",
       "      <td>4</td>\n",
       "      <td>2</td>\n",
       "    </tr>\n",
       "    <tr>\n",
       "      <th>4</th>\n",
       "      <td>36c6491aa1b52e5ef7005f984738de27</td>\n",
       "      <td>Gare d'autocars de Montréal (Berri / Ontario)</td>\n",
       "      <td>45.516926</td>\n",
       "      <td>-73.564257</td>\n",
       "      <td>15</td>\n",
       "      <td>Le Saint Bock</td>\n",
       "      <td>H2X 3K4</td>\n",
       "      <td>Bar</td>\n",
       "      <td>132.0</td>\n",
       "      <td>44.0</td>\n",
       "      <td>4.0</td>\n",
       "      <td>10</td>\n",
       "      <td>2</td>\n",
       "    </tr>\n",
       "    <tr>\n",
       "      <th>...</th>\n",
       "      <td>...</td>\n",
       "      <td>...</td>\n",
       "      <td>...</td>\n",
       "      <td>...</td>\n",
       "      <td>...</td>\n",
       "      <td>...</td>\n",
       "      <td>...</td>\n",
       "      <td>...</td>\n",
       "      <td>...</td>\n",
       "      <td>...</td>\n",
       "      <td>...</td>\n",
       "      <td>...</td>\n",
       "      <td>...</td>\n",
       "    </tr>\n",
       "    <tr>\n",
       "      <th>5814</th>\n",
       "      <td>6d0a3c1b3a79bb42f1125970e00cd5b1</td>\n",
       "      <td>Parc du Pélican (1ere Ave / Masson)</td>\n",
       "      <td>45.545188</td>\n",
       "      <td>-73.576443</td>\n",
       "      <td>39</td>\n",
       "      <td>La Succursale</td>\n",
       "      <td>H1Y 1Y1</td>\n",
       "      <td>Lounge</td>\n",
       "      <td>607.0</td>\n",
       "      <td>25.0</td>\n",
       "      <td>4.0</td>\n",
       "      <td>10</td>\n",
       "      <td>2</td>\n",
       "    </tr>\n",
       "    <tr>\n",
       "      <th>5815</th>\n",
       "      <td>6d0a3c1b3a79bb42f1125970e00cd5b1</td>\n",
       "      <td>Parc du Pélican (1ere Ave / Masson)</td>\n",
       "      <td>45.545188</td>\n",
       "      <td>-73.576443</td>\n",
       "      <td>39</td>\n",
       "      <td>Pub Rosemont</td>\n",
       "      <td>H2G 1V2</td>\n",
       "      <td>Lounge</td>\n",
       "      <td>797.0</td>\n",
       "      <td>44.0</td>\n",
       "      <td>4.0</td>\n",
       "      <td>10</td>\n",
       "      <td>2</td>\n",
       "    </tr>\n",
       "    <tr>\n",
       "      <th>5816</th>\n",
       "      <td>6d0a3c1b3a79bb42f1125970e00cd5b1</td>\n",
       "      <td>Parc du Pélican (1ere Ave / Masson)</td>\n",
       "      <td>45.545188</td>\n",
       "      <td>-73.576443</td>\n",
       "      <td>39</td>\n",
       "      <td>Chez Baptiste Sur Masson</td>\n",
       "      <td>H1Y 1X6</td>\n",
       "      <td>Bar</td>\n",
       "      <td>433.0</td>\n",
       "      <td>44.0</td>\n",
       "      <td>4.0</td>\n",
       "      <td>10</td>\n",
       "      <td>2</td>\n",
       "    </tr>\n",
       "    <tr>\n",
       "      <th>5817</th>\n",
       "      <td>6d0a3c1b3a79bb42f1125970e00cd5b1</td>\n",
       "      <td>Parc du Pélican (1ere Ave / Masson)</td>\n",
       "      <td>45.545188</td>\n",
       "      <td>-73.576443</td>\n",
       "      <td>39</td>\n",
       "      <td>Broue Bar Gaspé</td>\n",
       "      <td>H1Y 1W1</td>\n",
       "      <td>Karaoke Bar</td>\n",
       "      <td>25.0</td>\n",
       "      <td>44.0</td>\n",
       "      <td>4.0</td>\n",
       "      <td>10</td>\n",
       "      <td>2</td>\n",
       "    </tr>\n",
       "    <tr>\n",
       "      <th>5818</th>\n",
       "      <td>6d0a3c1b3a79bb42f1125970e00cd5b1</td>\n",
       "      <td>Parc du Pélican (1ere Ave / Masson)</td>\n",
       "      <td>45.545188</td>\n",
       "      <td>-73.576443</td>\n",
       "      <td>39</td>\n",
       "      <td>Aquarium Café Bar</td>\n",
       "      <td>H1Y 1X5</td>\n",
       "      <td>Dive Bar</td>\n",
       "      <td>377.0</td>\n",
       "      <td>44.0</td>\n",
       "      <td>4.0</td>\n",
       "      <td>10</td>\n",
       "      <td>2</td>\n",
       "    </tr>\n",
       "  </tbody>\n",
       "</table>\n",
       "<p>5819 rows × 13 columns</p>\n",
       "</div>"
      ],
      "text/plain": [
       "                         cb_station_id  \\\n",
       "0     72bfd647b3d2b650546f42319729757d   \n",
       "1     72bfd647b3d2b650546f42319729757d   \n",
       "2     72bfd647b3d2b650546f42319729757d   \n",
       "3     72bfd647b3d2b650546f42319729757d   \n",
       "4     36c6491aa1b52e5ef7005f984738de27   \n",
       "...                                ...   \n",
       "5814  6d0a3c1b3a79bb42f1125970e00cd5b1   \n",
       "5815  6d0a3c1b3a79bb42f1125970e00cd5b1   \n",
       "5816  6d0a3c1b3a79bb42f1125970e00cd5b1   \n",
       "5817  6d0a3c1b3a79bb42f1125970e00cd5b1   \n",
       "5818  6d0a3c1b3a79bb42f1125970e00cd5b1   \n",
       "\n",
       "                                    cb_station_name  cb_latitude  \\\n",
       "0                              Cégep Marie-Victorin    45.617500   \n",
       "1                              Cégep Marie-Victorin    45.617500   \n",
       "2                              Cégep Marie-Victorin    45.617500   \n",
       "3                              Cégep Marie-Victorin    45.617500   \n",
       "4     Gare d'autocars de Montréal (Berri / Ontario)    45.516926   \n",
       "...                                             ...          ...   \n",
       "5814            Parc du Pélican (1ere Ave / Masson)    45.545188   \n",
       "5815            Parc du Pélican (1ere Ave / Masson)    45.545188   \n",
       "5816            Parc du Pélican (1ere Ave / Masson)    45.545188   \n",
       "5817            Parc du Pélican (1ere Ave / Masson)    45.545188   \n",
       "5818            Parc du Pélican (1ere Ave / Masson)    45.545188   \n",
       "\n",
       "      cb_longitude  cb_bike_num                                       name  \\\n",
       "0       -73.606011           11  Resto-bar Capucine - Nord-Est de Montréal   \n",
       "1       -73.606011           11                  Piano Bar la Belle Epoque   \n",
       "2       -73.606011           11                     Cafe liana bar & grill   \n",
       "3       -73.606011           11                                 La Veranda   \n",
       "4       -73.564257           15                              Le Saint Bock   \n",
       "...            ...          ...                                        ...   \n",
       "5814    -73.576443           39                              La Succursale   \n",
       "5815    -73.576443           39                               Pub Rosemont   \n",
       "5816    -73.576443           39                   Chez Baptiste Sur Masson   \n",
       "5817    -73.576443           39                            Broue Bar Gaspé   \n",
       "5818    -73.576443           39                          Aquarium Café Bar   \n",
       "\n",
       "         postcode      category  distance  review_count  rating  \\\n",
       "0     Unavailable    Sports Bar     246.0          44.0     4.0   \n",
       "1         H1G 2V6  Cocktail Bar     661.0          44.0     4.0   \n",
       "2         H1E 1M4           Bar     809.0          44.0     4.0   \n",
       "3         H1G 2V5           Bar     960.0          44.0     4.0   \n",
       "4         H2X 3K4           Bar     132.0          44.0     4.0   \n",
       "...           ...           ...       ...           ...     ...   \n",
       "5814      H1Y 1Y1        Lounge     607.0          25.0     4.0   \n",
       "5815      H2G 1V2        Lounge     797.0          44.0     4.0   \n",
       "5816      H1Y 1X6           Bar     433.0          44.0     4.0   \n",
       "5817      H1Y 1W1   Karaoke Bar      25.0          44.0     4.0   \n",
       "5818      H1Y 1X5      Dive Bar     377.0          44.0     4.0   \n",
       "\n",
       "      cb_name_count  price_level  \n",
       "0                 4            2  \n",
       "1                 4            2  \n",
       "2                 4            2  \n",
       "3                 4            2  \n",
       "4                10            2  \n",
       "...             ...          ...  \n",
       "5814             10            2  \n",
       "5815             10            2  \n",
       "5816             10            2  \n",
       "5817             10            2  \n",
       "5818             10            2  \n",
       "\n",
       "[5819 rows x 13 columns]"
      ]
     },
     "execution_count": 11,
     "metadata": {},
     "output_type": "execute_result"
    }
   ],
   "source": [
    "# Load the clean data merged_all_df_clean csv file from part 3 to run the model\n",
    "merged_all_df_clean = pd.read_csv('../data/merged_all_df_clean.csv')\n",
    "merged_all_df_clean"
   ]
  },
  {
   "cell_type": "code",
   "execution_count": 12,
   "metadata": {},
   "outputs": [
    {
     "data": {
      "text/html": [
       "<div>\n",
       "<style scoped>\n",
       "    .dataframe tbody tr th:only-of-type {\n",
       "        vertical-align: middle;\n",
       "    }\n",
       "\n",
       "    .dataframe tbody tr th {\n",
       "        vertical-align: top;\n",
       "    }\n",
       "\n",
       "    .dataframe thead th {\n",
       "        text-align: right;\n",
       "    }\n",
       "</style>\n",
       "<table border=\"1\" class=\"dataframe\">\n",
       "  <thead>\n",
       "    <tr style=\"text-align: right;\">\n",
       "      <th></th>\n",
       "      <th>const</th>\n",
       "      <th>review_count</th>\n",
       "      <th>distance</th>\n",
       "    </tr>\n",
       "  </thead>\n",
       "  <tbody>\n",
       "    <tr>\n",
       "      <th>0</th>\n",
       "      <td>1.0</td>\n",
       "      <td>44.0</td>\n",
       "      <td>246.0</td>\n",
       "    </tr>\n",
       "    <tr>\n",
       "      <th>1</th>\n",
       "      <td>1.0</td>\n",
       "      <td>44.0</td>\n",
       "      <td>661.0</td>\n",
       "    </tr>\n",
       "    <tr>\n",
       "      <th>2</th>\n",
       "      <td>1.0</td>\n",
       "      <td>44.0</td>\n",
       "      <td>809.0</td>\n",
       "    </tr>\n",
       "    <tr>\n",
       "      <th>3</th>\n",
       "      <td>1.0</td>\n",
       "      <td>44.0</td>\n",
       "      <td>960.0</td>\n",
       "    </tr>\n",
       "    <tr>\n",
       "      <th>4</th>\n",
       "      <td>1.0</td>\n",
       "      <td>44.0</td>\n",
       "      <td>132.0</td>\n",
       "    </tr>\n",
       "  </tbody>\n",
       "</table>\n",
       "</div>"
      ],
      "text/plain": [
       "   const  review_count  distance\n",
       "0    1.0          44.0     246.0\n",
       "1    1.0          44.0     661.0\n",
       "2    1.0          44.0     809.0\n",
       "3    1.0          44.0     960.0\n",
       "4    1.0          44.0     132.0"
      ]
     },
     "execution_count": 12,
     "metadata": {},
     "output_type": "execute_result"
    }
   ],
   "source": [
    "y = merged_all_df_clean['cb_bike_num']\n",
    "X = merged_all_df_clean[['review_count', 'distance']]\n",
    "X = sm.add_constant(X) # Adds a column of 1's so the model will contain an intercept\n",
    "X.head()"
   ]
  },
  {
   "cell_type": "code",
   "execution_count": 13,
   "metadata": {},
   "outputs": [
    {
     "name": "stdout",
     "output_type": "stream",
     "text": [
      "                            OLS Regression Results                            \n",
      "==============================================================================\n",
      "Dep. Variable:            cb_bike_num   R-squared:                       0.041\n",
      "Model:                            OLS   Adj. R-squared:                  0.040\n",
      "Method:                 Least Squares   F-statistic:                     123.0\n",
      "Date:                Mon, 25 Sep 2023   Prob (F-statistic):           4.73e-53\n",
      "Time:                        03:33:06   Log-Likelihood:                -19187.\n",
      "No. Observations:                5819   AIC:                         3.838e+04\n",
      "Df Residuals:                    5816   BIC:                         3.840e+04\n",
      "Df Model:                           2                                         \n",
      "Covariance Type:            nonrobust                                         \n",
      "================================================================================\n",
      "                   coef    std err          t      P>|t|      [0.025      0.975]\n",
      "--------------------------------------------------------------------------------\n",
      "const           22.4546      0.247     90.972      0.000      21.971      22.939\n",
      "review_count     0.0278      0.002     13.374      0.000       0.024       0.032\n",
      "distance        -0.0025      0.000     -7.452      0.000      -0.003      -0.002\n",
      "==============================================================================\n",
      "Omnibus:                     1062.529   Durbin-Watson:                   0.261\n",
      "Prob(Omnibus):                  0.000   Jarque-Bera (JB):             1934.207\n",
      "Skew:                           1.148   Prob(JB):                         0.00\n",
      "Kurtosis:                       4.646   Cond. No.                     1.83e+03\n",
      "==============================================================================\n",
      "\n",
      "Notes:\n",
      "[1] Standard Errors assume that the covariance matrix of the errors is correctly specified.\n",
      "[2] The condition number is large, 1.83e+03. This might indicate that there are\n",
      "strong multicollinearity or other numerical problems.\n"
     ]
    }
   ],
   "source": [
    "model = sm.OLS(y, X) # Instantiate\n",
    "results = model.fit() # Fit the model \n",
    "print(results.summary())"
   ]
  },
  {
   "cell_type": "markdown",
   "metadata": {},
   "source": [
    "### Interpret the Model Output"
   ]
  },
  {
   "cell_type": "markdown",
   "metadata": {},
   "source": [
    "* Adj. R-squared: In this particular case, R-squared and the Adj. R-squared are nearly the same with very low values. According to the Adj. R-squared, our multivariate model only explains 4% of the variations in the data. It means that our model doesn't fit the data well.\n",
    "\n",
    "* P>|t| (or the p-value): All of the p-values are zero (the true value of the coefficient is equal to zero) which indicates most likely no relationship between the number of bikes at a station and bar's review counts or distance. No variable has a p-value > 0.05, no variable should be removed from the model in order to get a better model fit.\n",
    "\n",
    "* coef: Multivariate regression outputs will have a coefficient for each independent variable. What we can tell from this output is that the review of bars that are 1Km around the bike station has a very small positive impact on the number of bikes at that station, whereas the distance between the bar and the station has a near zero negative impact on the number of bikes."
   ]
  },
  {
   "cell_type": "code",
   "execution_count": 15,
   "metadata": {},
   "outputs": [
    {
     "data": {
      "text/plain": [
       "ShapiroResult(statistic=0.9249078631401062, pvalue=0.0)"
      ]
     },
     "execution_count": 15,
     "metadata": {},
     "output_type": "execute_result"
    }
   ],
   "source": [
    "# Test the normalilty assumption by checking normality on the residuals\n",
    "scipy.stats.shapiro(residuals)"
   ]
  },
  {
   "cell_type": "markdown",
   "metadata": {},
   "source": [
    "p<0.05, we reject the null hypothesis that the residuals is normally distributed."
   ]
  },
  {
   "cell_type": "code",
   "execution_count": 16,
   "metadata": {},
   "outputs": [
    {
     "name": "stdout",
     "output_type": "stream",
     "text": [
      "1.5183151933479793e-08 1.4491571376089e-08\n"
     ]
    }
   ],
   "source": [
    "# Test the homoscedasticity assumption on the residuals\n",
    "stat, p, f_stat, f_p = sm.stats.diagnostic.het_breuschpagan(residuals,results.model.exog)\n",
    "print(p,f_p)"
   ]
  },
  {
   "cell_type": "markdown",
   "metadata": {},
   "source": [
    "p<0.05, we reject the null hypothesis and conclude that heteroscedasticity is present in the regression model. Therefore, the results of the regression become unreliable."
   ]
  },
  {
   "cell_type": "code",
   "execution_count": 17,
   "metadata": {},
   "outputs": [
    {
     "name": "stdout",
     "output_type": "stream",
     "text": [
      "0.000029674232081741327694780416268649503308552084490656852722\n"
     ]
    }
   ],
   "source": [
    "# Test the multicollinearity between two independent variables\n",
    "stat, p = stats.pearsonr(merged_all_df_clean['review_count'], merged_all_df_clean['distance'])\n",
    "print('%0.60f' % p)"
   ]
  },
  {
   "cell_type": "markdown",
   "metadata": {},
   "source": [
    "p<0.05, we reject the null hypothesis and conclude that there's not a significant correlation between review_count and distance."
   ]
  },
  {
   "cell_type": "markdown",
   "metadata": {},
   "source": [
    "Overall, this Multivariate Linear Regression model is not a strong one, the model doesn't fit really well with our data. We saw earlier in part 3 that all of our variables are not normally distributed."
   ]
  },
  {
   "cell_type": "markdown",
   "metadata": {},
   "source": [
    "# Stretch"
   ]
  },
  {
   "cell_type": "markdown",
   "metadata": {},
   "source": [
    "How can you turn the regression model into a classification model?"
   ]
  },
  {
   "cell_type": "markdown",
   "metadata": {},
   "source": [
    "* When applying a Regression Model, the Regression algorithm is used to determine continuous values. We were treating the bike numbers of a station as a continuous dependent variable to predict its values based on bar's review counts and distance from the bike stations.\n",
    "\n",
    "* We use a Classification model forecast or classify distinct values, the output of a Classification model has a discrete probability distribution (as opposed to regression models, where the output variable is continuous).\n",
    "\n",
    "We might consider using this difference as a main basis to transform the output of the target variable 'cb_bike_num' into discrete distribution."
   ]
  },
  {
   "cell_type": "code",
   "execution_count": 25,
   "metadata": {},
   "outputs": [
    {
     "data": {
      "text/plain": [
       "[11,\n",
       " 13,\n",
       " 14,\n",
       " 15,\n",
       " 16,\n",
       " 17,\n",
       " 18,\n",
       " 19,\n",
       " 21,\n",
       " 22,\n",
       " 23,\n",
       " 24,\n",
       " 25,\n",
       " 26,\n",
       " 27,\n",
       " 29,\n",
       " 30,\n",
       " 31,\n",
       " 32,\n",
       " 33,\n",
       " 34,\n",
       " 35,\n",
       " 37,\n",
       " 38,\n",
       " 39,\n",
       " 41,\n",
       " 43,\n",
       " 46,\n",
       " 47,\n",
       " 49]"
      ]
     },
     "execution_count": 25,
     "metadata": {},
     "output_type": "execute_result"
    }
   ],
   "source": [
    "# List all unique values of 'cb_bike_num'\n",
    "sorted(merged_all_df_clean['cb_bike_num'].unique())"
   ]
  },
  {
   "cell_type": "code",
   "execution_count": 26,
   "metadata": {},
   "outputs": [
    {
     "data": {
      "text/plain": [
       "19    1511\n",
       "23    1312\n",
       "15    1048\n",
       "27     568\n",
       "31     335\n",
       "26     121\n",
       "35     111\n",
       "39      98\n",
       "22      69\n",
       "21      64\n",
       "43      60\n",
       "18      55\n",
       "17      52\n",
       "11      51\n",
       "33      50\n",
       "29      50\n",
       "47      40\n",
       "34      34\n",
       "25      34\n",
       "37      30\n",
       "32      20\n",
       "13      19\n",
       "14      17\n",
       "30      15\n",
       "38      11\n",
       "49      10\n",
       "24      10\n",
       "46      10\n",
       "16       8\n",
       "41       6\n",
       "Name: cb_bike_num, dtype: int64"
      ]
     },
     "execution_count": 26,
     "metadata": {},
     "output_type": "execute_result"
    }
   ],
   "source": [
    "merged_all_df_clean['cb_bike_num'].value_counts().sort_values(ascending=False)"
   ]
  },
  {
   "cell_type": "markdown",
   "metadata": {},
   "source": [
    "Assuming we put all the values of 'cb_bike_num' into equal bins of number of bikes per station to classify the output: \n",
    "\n",
    "* 10-19 bikes per station\n",
    "* 20-29 bikes per station\n",
    "* 30-39 bikes per station\n",
    "* 40-49 bikes per station\n",
    "\n",
    "A Multinomial regression models for multinomial classification might be used in this case to model outputs that can take two or more values. The output variable can take different values, then might be represented as a Multinoulli random vector.\n",
    "\n",
    "For example, if the output variable can belong to one of four classes (10-19, 20-29, 30-39 or 40-49 bikes per station), then [1, 0, 0, 0] will represent the category of 10-19 bikes, [0, 1, 0, 0] will represent the category of 20-29 bikes, [0, 0, 1, 0] will represent the category of 30-39 bikes, and [0, 0, 0, 1] will represent the category of 40-49 bikes."
   ]
  }
 ],
 "metadata": {
  "kernelspec": {
   "display_name": "Python 3",
   "language": "python",
   "name": "python3"
  },
  "language_info": {
   "codemirror_mode": {
    "name": "ipython",
    "version": 3
   },
   "file_extension": ".py",
   "mimetype": "text/x-python",
   "name": "python",
   "nbconvert_exporter": "python",
   "pygments_lexer": "ipython3",
   "version": "3.11.5"
  }
 },
 "nbformat": 4,
 "nbformat_minor": 4
}
