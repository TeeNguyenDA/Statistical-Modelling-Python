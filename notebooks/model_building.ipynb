{
 "cells": [
  {
   "cell_type": "markdown",
   "metadata": {},
   "source": [
    "Build a regression model using Python’s `statsmodels` module that demonstrates a relationship between the number of bikes in a particular location and the characteristics of the POIs in that location."
   ]
  },
  {
   "cell_type": "code",
   "execution_count": 1,
   "metadata": {},
   "outputs": [],
   "source": [
    "# Imports libaries\n",
    "import pandas as pd\n",
    "import numpy as np\n",
    "import matplotlib.pyplot as plt\n",
    "import seaborn as sns\n",
    "from scipy import stats\n",
    "import statsmodels.api as sm\n",
    "import scipy\n",
    "\n",
    "sns.set_theme()\n",
    "\n",
    "import warnings\n",
    "warnings.filterwarnings('ignore')"
   ]
  },
  {
   "cell_type": "markdown",
   "metadata": {},
   "source": [
    "At the end of part 3 - joining table, we've performed the EDA and feature correlation with the independent variables bearing the bar characteristics (only numeric) are not highly linearly related to our target variable ('cb_bike_num'). Usually the correlation needs to >0.5 or <-0.5 to be significant. However, we chose to keep the variables 'review_count', 'distance' as asked in the assignment.md file; while remove the much close to zero correlation."
   ]
  },
  {
   "cell_type": "markdown",
   "metadata": {},
   "source": [
    "### Multivariate Linear Regression\n",
    "\n",
    "Multivariate iple linear regression consists of one continuous dependent variable and more than one independent variable. We use 'cb_bike_num' as our dependent variable ($y$) and 'review_count', 'distance' as our independent variables ($x_1$ and $x_2$). This multiple linear regression model uses the relationship:\n",
    "\n",
    "$$\n",
    "y=b_0 + b_1x_1 + b_2x_2\n",
    "$$"
   ]
  },
  {
   "cell_type": "markdown",
   "metadata": {},
   "source": [
    "Provide model output and an interpretation of the results. "
   ]
  },
  {
   "cell_type": "code",
   "execution_count": 2,
   "metadata": {},
   "outputs": [
    {
     "data": {
      "text/html": [
       "<div>\n",
       "<style scoped>\n",
       "    .dataframe tbody tr th:only-of-type {\n",
       "        vertical-align: middle;\n",
       "    }\n",
       "\n",
       "    .dataframe tbody tr th {\n",
       "        vertical-align: top;\n",
       "    }\n",
       "\n",
       "    .dataframe thead th {\n",
       "        text-align: right;\n",
       "    }\n",
       "</style>\n",
       "<table border=\"1\" class=\"dataframe\">\n",
       "  <thead>\n",
       "    <tr style=\"text-align: right;\">\n",
       "      <th></th>\n",
       "      <th>cb_station_id</th>\n",
       "      <th>cb_station_name</th>\n",
       "      <th>cb_latitude</th>\n",
       "      <th>cb_longitude</th>\n",
       "      <th>cb_bike_num</th>\n",
       "      <th>name</th>\n",
       "      <th>postcode</th>\n",
       "      <th>category</th>\n",
       "      <th>distance</th>\n",
       "      <th>review_count</th>\n",
       "      <th>rating</th>\n",
       "      <th>cb_name_count</th>\n",
       "      <th>price_level</th>\n",
       "    </tr>\n",
       "  </thead>\n",
       "  <tbody>\n",
       "    <tr>\n",
       "      <th>0</th>\n",
       "      <td>72bfd647b3d2b650546f42319729757d</td>\n",
       "      <td>Cégep Marie-Victorin</td>\n",
       "      <td>45.617500</td>\n",
       "      <td>-73.606011</td>\n",
       "      <td>6</td>\n",
       "      <td>Resto-bar Capucine - Nord-Est de Montréal</td>\n",
       "      <td>Unavailable</td>\n",
       "      <td>Sports Bar</td>\n",
       "      <td>246.0</td>\n",
       "      <td>44.0</td>\n",
       "      <td>4.0</td>\n",
       "      <td>4</td>\n",
       "      <td>2</td>\n",
       "    </tr>\n",
       "    <tr>\n",
       "      <th>1</th>\n",
       "      <td>72bfd647b3d2b650546f42319729757d</td>\n",
       "      <td>Cégep Marie-Victorin</td>\n",
       "      <td>45.617500</td>\n",
       "      <td>-73.606011</td>\n",
       "      <td>6</td>\n",
       "      <td>Piano Bar la Belle Epoque</td>\n",
       "      <td>H1G 2V6</td>\n",
       "      <td>Cocktail Bar</td>\n",
       "      <td>661.0</td>\n",
       "      <td>44.0</td>\n",
       "      <td>4.0</td>\n",
       "      <td>4</td>\n",
       "      <td>2</td>\n",
       "    </tr>\n",
       "    <tr>\n",
       "      <th>2</th>\n",
       "      <td>72bfd647b3d2b650546f42319729757d</td>\n",
       "      <td>Cégep Marie-Victorin</td>\n",
       "      <td>45.617500</td>\n",
       "      <td>-73.606011</td>\n",
       "      <td>6</td>\n",
       "      <td>Cafe liana bar &amp; grill</td>\n",
       "      <td>H1E 1M4</td>\n",
       "      <td>Bar</td>\n",
       "      <td>809.0</td>\n",
       "      <td>44.0</td>\n",
       "      <td>4.0</td>\n",
       "      <td>4</td>\n",
       "      <td>2</td>\n",
       "    </tr>\n",
       "    <tr>\n",
       "      <th>3</th>\n",
       "      <td>72bfd647b3d2b650546f42319729757d</td>\n",
       "      <td>Cégep Marie-Victorin</td>\n",
       "      <td>45.617500</td>\n",
       "      <td>-73.606011</td>\n",
       "      <td>6</td>\n",
       "      <td>La Veranda</td>\n",
       "      <td>H1G 2V5</td>\n",
       "      <td>Bar</td>\n",
       "      <td>960.0</td>\n",
       "      <td>44.0</td>\n",
       "      <td>4.0</td>\n",
       "      <td>4</td>\n",
       "      <td>2</td>\n",
       "    </tr>\n",
       "    <tr>\n",
       "      <th>4</th>\n",
       "      <td>36c6491aa1b52e5ef7005f984738de27</td>\n",
       "      <td>Gare d'autocars de Montréal (Berri / Ontario)</td>\n",
       "      <td>45.516926</td>\n",
       "      <td>-73.564257</td>\n",
       "      <td>1</td>\n",
       "      <td>Le Saint Bock</td>\n",
       "      <td>H2X 3K4</td>\n",
       "      <td>Bar</td>\n",
       "      <td>132.0</td>\n",
       "      <td>44.0</td>\n",
       "      <td>4.0</td>\n",
       "      <td>10</td>\n",
       "      <td>2</td>\n",
       "    </tr>\n",
       "    <tr>\n",
       "      <th>...</th>\n",
       "      <td>...</td>\n",
       "      <td>...</td>\n",
       "      <td>...</td>\n",
       "      <td>...</td>\n",
       "      <td>...</td>\n",
       "      <td>...</td>\n",
       "      <td>...</td>\n",
       "      <td>...</td>\n",
       "      <td>...</td>\n",
       "      <td>...</td>\n",
       "      <td>...</td>\n",
       "      <td>...</td>\n",
       "      <td>...</td>\n",
       "    </tr>\n",
       "    <tr>\n",
       "      <th>5831</th>\n",
       "      <td>dd8b2e953a8fe66b74e945dee00a2793</td>\n",
       "      <td>Mont-Royal / St-Denis</td>\n",
       "      <td>45.523877</td>\n",
       "      <td>-73.583049</td>\n",
       "      <td>6</td>\n",
       "      <td>Fitzroy</td>\n",
       "      <td>H2J 1W6</td>\n",
       "      <td>Pool Hall</td>\n",
       "      <td>164.0</td>\n",
       "      <td>45.0</td>\n",
       "      <td>3.0</td>\n",
       "      <td>10</td>\n",
       "      <td>2</td>\n",
       "    </tr>\n",
       "    <tr>\n",
       "      <th>5832</th>\n",
       "      <td>dd8b2e953a8fe66b74e945dee00a2793</td>\n",
       "      <td>Mont-Royal / St-Denis</td>\n",
       "      <td>45.523877</td>\n",
       "      <td>-73.583049</td>\n",
       "      <td>6</td>\n",
       "      <td>Brasserie Dieu du Ciel</td>\n",
       "      <td>H2T 2N2</td>\n",
       "      <td>Beer Bar</td>\n",
       "      <td>815.0</td>\n",
       "      <td>44.0</td>\n",
       "      <td>4.0</td>\n",
       "      <td>10</td>\n",
       "      <td>2</td>\n",
       "    </tr>\n",
       "    <tr>\n",
       "      <th>5833</th>\n",
       "      <td>dd8b2e953a8fe66b74e945dee00a2793</td>\n",
       "      <td>Mont-Royal / St-Denis</td>\n",
       "      <td>45.523877</td>\n",
       "      <td>-73.583049</td>\n",
       "      <td>6</td>\n",
       "      <td>Pub Pit Caribou</td>\n",
       "      <td>H2J 2J4</td>\n",
       "      <td>Beer Bar</td>\n",
       "      <td>608.0</td>\n",
       "      <td>44.0</td>\n",
       "      <td>4.0</td>\n",
       "      <td>10</td>\n",
       "      <td>2</td>\n",
       "    </tr>\n",
       "    <tr>\n",
       "      <th>5834</th>\n",
       "      <td>dd8b2e953a8fe66b74e945dee00a2793</td>\n",
       "      <td>Mont-Royal / St-Denis</td>\n",
       "      <td>45.523877</td>\n",
       "      <td>-73.583049</td>\n",
       "      <td>6</td>\n",
       "      <td>Kabinet</td>\n",
       "      <td>H2T 2N4</td>\n",
       "      <td>Bar</td>\n",
       "      <td>852.0</td>\n",
       "      <td>44.0</td>\n",
       "      <td>4.0</td>\n",
       "      <td>10</td>\n",
       "      <td>2</td>\n",
       "    </tr>\n",
       "    <tr>\n",
       "      <th>5835</th>\n",
       "      <td>dd8b2e953a8fe66b74e945dee00a2793</td>\n",
       "      <td>Mont-Royal / St-Denis</td>\n",
       "      <td>45.523877</td>\n",
       "      <td>-73.583049</td>\n",
       "      <td>6</td>\n",
       "      <td>Réservoir</td>\n",
       "      <td>H2W 1G7</td>\n",
       "      <td>Bar</td>\n",
       "      <td>801.0</td>\n",
       "      <td>44.0</td>\n",
       "      <td>4.0</td>\n",
       "      <td>10</td>\n",
       "      <td>2</td>\n",
       "    </tr>\n",
       "  </tbody>\n",
       "</table>\n",
       "<p>5836 rows × 13 columns</p>\n",
       "</div>"
      ],
      "text/plain": [
       "                         cb_station_id  \\\n",
       "0     72bfd647b3d2b650546f42319729757d   \n",
       "1     72bfd647b3d2b650546f42319729757d   \n",
       "2     72bfd647b3d2b650546f42319729757d   \n",
       "3     72bfd647b3d2b650546f42319729757d   \n",
       "4     36c6491aa1b52e5ef7005f984738de27   \n",
       "...                                ...   \n",
       "5831  dd8b2e953a8fe66b74e945dee00a2793   \n",
       "5832  dd8b2e953a8fe66b74e945dee00a2793   \n",
       "5833  dd8b2e953a8fe66b74e945dee00a2793   \n",
       "5834  dd8b2e953a8fe66b74e945dee00a2793   \n",
       "5835  dd8b2e953a8fe66b74e945dee00a2793   \n",
       "\n",
       "                                    cb_station_name  cb_latitude  \\\n",
       "0                              Cégep Marie-Victorin    45.617500   \n",
       "1                              Cégep Marie-Victorin    45.617500   \n",
       "2                              Cégep Marie-Victorin    45.617500   \n",
       "3                              Cégep Marie-Victorin    45.617500   \n",
       "4     Gare d'autocars de Montréal (Berri / Ontario)    45.516926   \n",
       "...                                             ...          ...   \n",
       "5831                          Mont-Royal / St-Denis    45.523877   \n",
       "5832                          Mont-Royal / St-Denis    45.523877   \n",
       "5833                          Mont-Royal / St-Denis    45.523877   \n",
       "5834                          Mont-Royal / St-Denis    45.523877   \n",
       "5835                          Mont-Royal / St-Denis    45.523877   \n",
       "\n",
       "      cb_longitude  cb_bike_num                                       name  \\\n",
       "0       -73.606011            6  Resto-bar Capucine - Nord-Est de Montréal   \n",
       "1       -73.606011            6                  Piano Bar la Belle Epoque   \n",
       "2       -73.606011            6                     Cafe liana bar & grill   \n",
       "3       -73.606011            6                                 La Veranda   \n",
       "4       -73.564257            1                              Le Saint Bock   \n",
       "...            ...          ...                                        ...   \n",
       "5831    -73.583049            6                                    Fitzroy   \n",
       "5832    -73.583049            6                     Brasserie Dieu du Ciel   \n",
       "5833    -73.583049            6                            Pub Pit Caribou   \n",
       "5834    -73.583049            6                                    Kabinet   \n",
       "5835    -73.583049            6                                  Réservoir   \n",
       "\n",
       "         postcode      category  distance  review_count  rating  \\\n",
       "0     Unavailable    Sports Bar     246.0          44.0     4.0   \n",
       "1         H1G 2V6  Cocktail Bar     661.0          44.0     4.0   \n",
       "2         H1E 1M4           Bar     809.0          44.0     4.0   \n",
       "3         H1G 2V5           Bar     960.0          44.0     4.0   \n",
       "4         H2X 3K4           Bar     132.0          44.0     4.0   \n",
       "...           ...           ...       ...           ...     ...   \n",
       "5831      H2J 1W6     Pool Hall     164.0          45.0     3.0   \n",
       "5832      H2T 2N2      Beer Bar     815.0          44.0     4.0   \n",
       "5833      H2J 2J4      Beer Bar     608.0          44.0     4.0   \n",
       "5834      H2T 2N4           Bar     852.0          44.0     4.0   \n",
       "5835      H2W 1G7           Bar     801.0          44.0     4.0   \n",
       "\n",
       "      cb_name_count  price_level  \n",
       "0                 4            2  \n",
       "1                 4            2  \n",
       "2                 4            2  \n",
       "3                 4            2  \n",
       "4                10            2  \n",
       "...             ...          ...  \n",
       "5831             10            2  \n",
       "5832             10            2  \n",
       "5833             10            2  \n",
       "5834             10            2  \n",
       "5835             10            2  \n",
       "\n",
       "[5836 rows x 13 columns]"
      ]
     },
     "execution_count": 2,
     "metadata": {},
     "output_type": "execute_result"
    }
   ],
   "source": [
    "# Load the clean data merged_all_df_clean csv file from part 3 to run the model\n",
    "merged_all_df_clean = pd.read_csv('../data/merged_all_df_clean.csv')\n",
    "merged_all_df_clean"
   ]
  },
  {
   "cell_type": "code",
   "execution_count": 3,
   "metadata": {},
   "outputs": [
    {
     "data": {
      "text/html": [
       "<div>\n",
       "<style scoped>\n",
       "    .dataframe tbody tr th:only-of-type {\n",
       "        vertical-align: middle;\n",
       "    }\n",
       "\n",
       "    .dataframe tbody tr th {\n",
       "        vertical-align: top;\n",
       "    }\n",
       "\n",
       "    .dataframe thead th {\n",
       "        text-align: right;\n",
       "    }\n",
       "</style>\n",
       "<table border=\"1\" class=\"dataframe\">\n",
       "  <thead>\n",
       "    <tr style=\"text-align: right;\">\n",
       "      <th></th>\n",
       "      <th>const</th>\n",
       "      <th>review_count</th>\n",
       "      <th>distance</th>\n",
       "    </tr>\n",
       "  </thead>\n",
       "  <tbody>\n",
       "    <tr>\n",
       "      <th>0</th>\n",
       "      <td>1.0</td>\n",
       "      <td>44.0</td>\n",
       "      <td>246.0</td>\n",
       "    </tr>\n",
       "    <tr>\n",
       "      <th>1</th>\n",
       "      <td>1.0</td>\n",
       "      <td>44.0</td>\n",
       "      <td>661.0</td>\n",
       "    </tr>\n",
       "    <tr>\n",
       "      <th>2</th>\n",
       "      <td>1.0</td>\n",
       "      <td>44.0</td>\n",
       "      <td>809.0</td>\n",
       "    </tr>\n",
       "    <tr>\n",
       "      <th>3</th>\n",
       "      <td>1.0</td>\n",
       "      <td>44.0</td>\n",
       "      <td>960.0</td>\n",
       "    </tr>\n",
       "    <tr>\n",
       "      <th>4</th>\n",
       "      <td>1.0</td>\n",
       "      <td>44.0</td>\n",
       "      <td>132.0</td>\n",
       "    </tr>\n",
       "  </tbody>\n",
       "</table>\n",
       "</div>"
      ],
      "text/plain": [
       "   const  review_count  distance\n",
       "0    1.0          44.0     246.0\n",
       "1    1.0          44.0     661.0\n",
       "2    1.0          44.0     809.0\n",
       "3    1.0          44.0     960.0\n",
       "4    1.0          44.0     132.0"
      ]
     },
     "execution_count": 3,
     "metadata": {},
     "output_type": "execute_result"
    }
   ],
   "source": [
    "y = merged_all_df_clean['cb_bike_num']\n",
    "X = merged_all_df_clean[['review_count', 'distance']]\n",
    "X = sm.add_constant(X) # Adds a column of 1's so the model will contain an intercept\n",
    "X.head()"
   ]
  },
  {
   "cell_type": "code",
   "execution_count": 4,
   "metadata": {},
   "outputs": [
    {
     "name": "stdout",
     "output_type": "stream",
     "text": [
      "                            OLS Regression Results                            \n",
      "==============================================================================\n",
      "Dep. Variable:            cb_bike_num   R-squared:                       0.068\n",
      "Model:                            OLS   Adj. R-squared:                  0.068\n",
      "Method:                 Least Squares   F-statistic:                     212.9\n",
      "Date:                Mon, 25 Sep 2023   Prob (F-statistic):           5.76e-90\n",
      "Time:                        14:58:07   Log-Likelihood:                -20165.\n",
      "No. Observations:                5836   AIC:                         4.034e+04\n",
      "Df Residuals:                    5833   BIC:                         4.036e+04\n",
      "Df Model:                           2                                         \n",
      "Covariance Type:            nonrobust                                         \n",
      "================================================================================\n",
      "                   coef    std err          t      P>|t|      [0.025      0.975]\n",
      "--------------------------------------------------------------------------------\n",
      "const            6.9658      0.288     24.154      0.000       6.400       7.531\n",
      "review_count     0.0465      0.002     19.147      0.000       0.042       0.051\n",
      "distance        -0.0026      0.000     -6.650      0.000      -0.003      -0.002\n",
      "==============================================================================\n",
      "Omnibus:                     1479.793   Durbin-Watson:                   0.316\n",
      "Prob(Omnibus):                  0.000   Jarque-Bera (JB):             3531.741\n",
      "Skew:                           1.409   Prob(JB):                         0.00\n",
      "Kurtosis:                       5.566   Cond. No.                     1.83e+03\n",
      "==============================================================================\n",
      "\n",
      "Notes:\n",
      "[1] Standard Errors assume that the covariance matrix of the errors is correctly specified.\n",
      "[2] The condition number is large, 1.83e+03. This might indicate that there are\n",
      "strong multicollinearity or other numerical problems.\n"
     ]
    }
   ],
   "source": [
    "model = sm.OLS(y, X) # Instantiate\n",
    "results = model.fit() # Fit the model \n",
    "print(results.summary())"
   ]
  },
  {
   "cell_type": "markdown",
   "metadata": {},
   "source": [
    "### Interpret the Model Output"
   ]
  },
  {
   "cell_type": "markdown",
   "metadata": {},
   "source": [
    "* Adj. R-squared: In this particular case, R-squared and the Adj. R-squared are nearly the same with very low values. According to the Adj. R-squared, our multivariate model only explains 6.8% of the variations in the data. It means that our model doesn't fit the our joined data well.\n",
    "\n",
    "* P>|t| (or the p-value): All of the p-values are zero (the true value of the coefficient is equal to zero) which indicates most likely no relationship between the number of bikes at a station and the nearby bar's review counts or distance. No variable has a p-value > 0.05 at a normal 95% confidence level, no variable should be removed from our current model in order to get a better model fit.\n",
    "\n",
    "* coef: Multivariate regression outputs will have a coefficient for each independent variable. What we can tell from this output is that the number of reviews of bars that are 1Km around the bike station has a very small positive impact on the number of bikes available at that station, whereas the distance between the bars and the station has a near zero negative impact on the number of bikes of that station."
   ]
  },
  {
   "cell_type": "markdown",
   "metadata": {},
   "source": [
    "### Multivariate Linear Regression Assumption Testing"
   ]
  },
  {
   "cell_type": "code",
   "execution_count": 5,
   "metadata": {},
   "outputs": [],
   "source": [
    "# Calculate the residuals\n",
    "residuals = results.resid"
   ]
  },
  {
   "cell_type": "code",
   "execution_count": 6,
   "metadata": {},
   "outputs": [
    {
     "data": {
      "text/plain": [
       "ShapiroResult(statistic=0.891494870185852, pvalue=0.0)"
      ]
     },
     "execution_count": 6,
     "metadata": {},
     "output_type": "execute_result"
    }
   ],
   "source": [
    "# Test the normalilty assumption by checking normality on the residuals\n",
    "scipy.stats.shapiro(residuals)"
   ]
  },
  {
   "cell_type": "markdown",
   "metadata": {},
   "source": [
    "p<0.05, we reject the null hypothesis that the residuals is normally distributed."
   ]
  },
  {
   "cell_type": "code",
   "execution_count": 7,
   "metadata": {},
   "outputs": [
    {
     "name": "stdout",
     "output_type": "stream",
     "text": [
      "1.266933529168896e-27 6.717135700320188e-28\n"
     ]
    }
   ],
   "source": [
    "# Test the homoscedasticity assumption on the residuals\n",
    "stat, p, f_stat, f_p = sm.stats.diagnostic.het_breuschpagan(residuals,results.model.exog)\n",
    "print(p,f_p)"
   ]
  },
  {
   "cell_type": "markdown",
   "metadata": {},
   "source": [
    "p<0.05, we reject the null hypothesis and conclude that heteroscedasticity is present in the regression model. Therefore, the results of the regression become unreliable."
   ]
  },
  {
   "cell_type": "code",
   "execution_count": 8,
   "metadata": {},
   "outputs": [
    {
     "name": "stdout",
     "output_type": "stream",
     "text": [
      "0.000038109315901244538739561090734397907908714842051267623901\n"
     ]
    }
   ],
   "source": [
    "# Test the multicollinearity between two independent variables\n",
    "stat, p = stats.pearsonr(merged_all_df_clean['review_count'], merged_all_df_clean['distance'])\n",
    "print('%0.60f' % p)"
   ]
  },
  {
   "cell_type": "markdown",
   "metadata": {},
   "source": [
    "p<0.05, we reject the null hypothesis and conclude that there's not a significant correlation between review_count and distance."
   ]
  },
  {
   "cell_type": "markdown",
   "metadata": {},
   "source": [
    "Overall, this Multivariate Linear Regression model is not a strong one, the model doesn't fit really well with our data. We saw earlier in part 3 that all of our variables are not normally distributed."
   ]
  },
  {
   "cell_type": "markdown",
   "metadata": {},
   "source": [
    "### Translate the Model Output into Business Insights"
   ]
  },
  {
   "cell_type": "markdown",
   "metadata": {},
   "source": [
    "* Bike-sharing systems represent an innovative evolution in bike rentals, streamlining the process by including membership, rentals, and bike returning through automation. Users can effortlessly rent a bike at one location and conveniently return it at another. There are more than 500 bike-sharing initiatives worldwide, with notable and extensive programs in cities like Hangzhou (China), Paris (France), London (England), New York City (USA), and Montreal (Canada). [Source: https://ericdatascience.wordpress.com/2019/10/16/city-bike-share-data-analysis-part-1-overall-analysis-and-linear-regression-analysis-sas/]\n",
    "\n",
    "* The Montreal Bixi bike rental network is among the most comprehensive ones with 865 BIXI stations. Users can purchase a membership or a one-way pass to discover the city and get to any location in the city and Longueuil. Bike renters can return their BIXI  bikes to the nearest station to finish the bike rental. All they have to do is firmly push it into an available bike dock at the arrival station. [Source: https://bixi.com/en/how-does-bixi-work/]\n",
    "\n",
    "* The process of redistributing bicycles among bike stations plays a crucial role in either replenishing bikes or making docking spaces available at stations. [Source: https://campus.mst.edu/ijde/contents/v15n2p10.pdf].\n",
    "\n",
    "* By trying  to understand the human mobility patterns across various modes of transportation (for example, city bike sharing pattern) constitutes for a multidisciplinary research domain that directly influences some areas such as including urban planning, urban development and so on. [Source: https://www.ncbi.nlm.nih.gov/pmc/articles/PMC6402762/]\n",
    "\n",
    "* A precise prediction of station inventory (specifically the number of bikes available at the station) might, or might not have impacts in the local points of interests nearby, specifically bars is the problem our model is trying to solve in this project.\n",
    "\n",
    "* The business conclusion from the model output indicates a weak linear relationship between the dynamic number of bikes available at a station; and the characteristics of bar POIs close by; such as distance from stations to bars, and its available review counts. Using those mentioned bar characteristics doesn't explain well the connection.\n",
    "\n",
    "* In order to improve the model output in a business context, we need to find a more fitting statistical and machine learning model to predict how bike inventory at a station might be dependent on the bar local interest places nearby. Using other APIs aside from Foursquare and Yelp with more complete attributes is another option to find the independent varianles to explain the relationship with the count of bikes at a particular station and aiming to predict it more accurately.\n"
   ]
  },
  {
   "cell_type": "markdown",
   "metadata": {},
   "source": [
    "# Stretch"
   ]
  },
  {
   "cell_type": "markdown",
   "metadata": {},
   "source": [
    "How can you turn the regression model into a classification model?"
   ]
  },
  {
   "cell_type": "markdown",
   "metadata": {},
   "source": [
    "* When applying a Regression Model, the Regression algorithm is used to determine continuous values. We were treating the bike numbers of a station as a continuous dependent variable to predict its values based on bar's review counts and distance from the bike stations.\n",
    "\n",
    "* We use a Classification model forecast or classify distinct values, the output of a Classification model has a discrete probability distribution (as opposed to regression models, where the output variable is continuous).\n",
    "\n",
    "We might consider using this difference as a main basis to transform the output of the target variable 'cb_bike_num' into discrete distribution."
   ]
  },
  {
   "cell_type": "code",
   "execution_count": 9,
   "metadata": {},
   "outputs": [
    {
     "data": {
      "text/plain": [
       "[0,\n",
       " 1,\n",
       " 2,\n",
       " 3,\n",
       " 4,\n",
       " 5,\n",
       " 6,\n",
       " 7,\n",
       " 8,\n",
       " 9,\n",
       " 10,\n",
       " 11,\n",
       " 12,\n",
       " 13,\n",
       " 14,\n",
       " 15,\n",
       " 16,\n",
       " 17,\n",
       " 18,\n",
       " 19,\n",
       " 20,\n",
       " 21,\n",
       " 22,\n",
       " 23,\n",
       " 24,\n",
       " 25,\n",
       " 26,\n",
       " 27,\n",
       " 28,\n",
       " 29,\n",
       " 30,\n",
       " 31,\n",
       " 32,\n",
       " 33,\n",
       " 34,\n",
       " 35,\n",
       " 37,\n",
       " 41,\n",
       " 49]"
      ]
     },
     "execution_count": 9,
     "metadata": {},
     "output_type": "execute_result"
    }
   ],
   "source": [
    "# List all unique values of 'cb_bike_num'\n",
    "sorted(merged_all_df_clean['cb_bike_num'].unique())"
   ]
  },
  {
   "cell_type": "code",
   "execution_count": 10,
   "metadata": {},
   "outputs": [
    {
     "data": {
      "text/plain": [
       "1     666\n",
       "0     619\n",
       "2     515\n",
       "5     425\n",
       "3     364\n",
       "4     357\n",
       "6     284\n",
       "7     250\n",
       "11    245\n",
       "9     244\n",
       "8     231\n",
       "10    227\n",
       "12    182\n",
       "15    150\n",
       "14    116\n",
       "13    113\n",
       "20    101\n",
       "17     86\n",
       "18     84\n",
       "24     71\n",
       "19     66\n",
       "25     54\n",
       "21     53\n",
       "16     51\n",
       "27     50\n",
       "31     40\n",
       "29     35\n",
       "23     23\n",
       "34     21\n",
       "41     20\n",
       "26     20\n",
       "22     14\n",
       "49     10\n",
       "35     10\n",
       "30     10\n",
       "37     10\n",
       "33     10\n",
       "28      8\n",
       "32      1\n",
       "Name: cb_bike_num, dtype: int64"
      ]
     },
     "execution_count": 10,
     "metadata": {},
     "output_type": "execute_result"
    }
   ],
   "source": [
    "merged_all_df_clean['cb_bike_num'].value_counts().sort_values(ascending=False)"
   ]
  },
  {
   "cell_type": "markdown",
   "metadata": {},
   "source": [
    "Assuming we put all the values of 'cb_bike_num' into equal bins of number of bikes per station to classify the output: \n",
    "\n",
    "* 10-19 bikes per station\n",
    "* 20-29 bikes per station\n",
    "* 30-39 bikes per station\n",
    "* 40-49 bikes per station\n",
    "\n",
    "A Multinomial regression models for multinomial classification might be used in this case to model outputs that can take two or more values. The output variable can take different values, then might be represented as a Multinoulli random vector.\n",
    "\n",
    "For example, if the output variable can belong to one of four classes (10-19, 20-29, 30-39 or 40-49 bikes per station), then [1, 0, 0, 0] will represent the category of 10-19 bikes, [0, 1, 0, 0] will represent the category of 20-29 bikes, [0, 0, 1, 0] will represent the category of 30-39 bikes, and [0, 0, 0, 1] will represent the category of 40-49 bikes."
   ]
  }
 ],
 "metadata": {
  "kernelspec": {
   "display_name": "Python 3",
   "language": "python",
   "name": "python3"
  },
  "language_info": {
   "codemirror_mode": {
    "name": "ipython",
    "version": 3
   },
   "file_extension": ".py",
   "mimetype": "text/x-python",
   "name": "python",
   "nbconvert_exporter": "python",
   "pygments_lexer": "ipython3",
   "version": "3.11.5"
  }
 },
 "nbformat": 4,
 "nbformat_minor": 4
}
