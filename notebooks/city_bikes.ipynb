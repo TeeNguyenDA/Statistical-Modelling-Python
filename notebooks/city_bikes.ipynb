{
 "cells": [
  {
   "cell_type": "markdown",
   "metadata": {},
   "source": [
    "# CityBikes"
   ]
  },
  {
   "cell_type": "markdown",
   "metadata": {},
   "source": [
    "Send a request to CityBikes for the city of your choice. "
   ]
  },
  {
   "cell_type": "code",
   "execution_count": 1,
   "metadata": {},
   "outputs": [],
   "source": [
    "import pandas as pd\n",
    "import requests\n",
    "import pprint"
   ]
  },
  {
   "cell_type": "code",
   "execution_count": 2,
   "metadata": {},
   "outputs": [],
   "source": [
    "# City of choice is Montreal from \"http://api.citybik.es/v2/networks?fields=id,name,href\"\n",
    "id = \"bixi-montreal\""
   ]
  },
  {
   "cell_type": "code",
   "execution_count": 3,
   "metadata": {},
   "outputs": [],
   "source": [
    "citybikes_url = \"http://api.citybik.es/v2/networks/\" + id"
   ]
  },
  {
   "cell_type": "code",
   "execution_count": 4,
   "metadata": {},
   "outputs": [],
   "source": [
    "headers = {\"Accept\": \"application/json\"}"
   ]
  },
  {
   "cell_type": "code",
   "execution_count": 5,
   "metadata": {},
   "outputs": [],
   "source": [
    "citybikes_result = requests.get(citybikes_url, headers=headers)"
   ]
  },
  {
   "cell_type": "code",
   "execution_count": 6,
   "metadata": {},
   "outputs": [
    {
     "name": "stdout",
     "output_type": "stream",
     "text": [
      "<Response [200]>\n"
     ]
    }
   ],
   "source": [
    "# HTTP Status code 200: OK\n",
    "print(citybikes_result)"
   ]
  },
  {
   "cell_type": "code",
   "execution_count": 7,
   "metadata": {},
   "outputs": [],
   "source": [
    "# Review the api call result from CityBikes for Montreal\n",
    "citybikes_montreal_data = citybikes_result.json()\n",
    "# pprint.pprint(citybikes_montreal_data)"
   ]
  },
  {
   "cell_type": "markdown",
   "metadata": {},
   "source": [
    "Parse through the response to get the details you want for the bike stations in that city (latitude, longitude, number of bikes). "
   ]
  },
  {
   "cell_type": "markdown",
   "metadata": {},
   "source": [
    "Put your parsed results into a DataFrame."
   ]
  },
  {
   "cell_type": "code",
   "execution_count": 8,
   "metadata": {},
   "outputs": [
    {
     "data": {
      "text/html": [
       "<div>\n",
       "<style scoped>\n",
       "    .dataframe tbody tr th:only-of-type {\n",
       "        vertical-align: middle;\n",
       "    }\n",
       "\n",
       "    .dataframe tbody tr th {\n",
       "        vertical-align: top;\n",
       "    }\n",
       "\n",
       "    .dataframe thead th {\n",
       "        text-align: right;\n",
       "    }\n",
       "</style>\n",
       "<table border=\"1\" class=\"dataframe\">\n",
       "  <thead>\n",
       "    <tr style=\"text-align: right;\">\n",
       "      <th></th>\n",
       "      <th>cb_station_id</th>\n",
       "      <th>cb_station_name</th>\n",
       "      <th>cb_latitude</th>\n",
       "      <th>cb_longitude</th>\n",
       "      <th>cb_bike_num</th>\n",
       "    </tr>\n",
       "  </thead>\n",
       "  <tbody>\n",
       "    <tr>\n",
       "      <th>0</th>\n",
       "      <td>72bfd647b3d2b650546f42319729757d</td>\n",
       "      <td>Cégep Marie-Victorin</td>\n",
       "      <td>45.617500</td>\n",
       "      <td>-73.606011</td>\n",
       "      <td>6</td>\n",
       "    </tr>\n",
       "    <tr>\n",
       "      <th>1</th>\n",
       "      <td>36c6491aa1b52e5ef7005f984738de27</td>\n",
       "      <td>Gare d'autocars de Montréal (Berri / Ontario)</td>\n",
       "      <td>45.516926</td>\n",
       "      <td>-73.564257</td>\n",
       "      <td>1</td>\n",
       "    </tr>\n",
       "    <tr>\n",
       "      <th>2</th>\n",
       "      <td>8db822a266b5ccb3a1e323ddc8721d62</td>\n",
       "      <td>Ateliers municipaux de St-Laurent (Cavendish /...</td>\n",
       "      <td>45.506176</td>\n",
       "      <td>-73.711186</td>\n",
       "      <td>6</td>\n",
       "    </tr>\n",
       "    <tr>\n",
       "      <th>3</th>\n",
       "      <td>660275cd7d4368cc7590f1606c633bd6</td>\n",
       "      <td>Place Rodolphe-Rousseau (Gohier / Édouard-Laurin)</td>\n",
       "      <td>45.512994</td>\n",
       "      <td>-73.682498</td>\n",
       "      <td>16</td>\n",
       "    </tr>\n",
       "    <tr>\n",
       "      <th>4</th>\n",
       "      <td>fddada5adc997290212b3f540c017274</td>\n",
       "      <td>Centre des loisirs (Tassé / Grenet)</td>\n",
       "      <td>45.514734</td>\n",
       "      <td>-73.691449</td>\n",
       "      <td>3</td>\n",
       "    </tr>\n",
       "    <tr>\n",
       "      <th>5</th>\n",
       "      <td>83d02cd8a043b8305a4031063005d32e</td>\n",
       "      <td>Parc Marlborough (Beauzèle / Robichaud)</td>\n",
       "      <td>45.522341</td>\n",
       "      <td>-73.721679</td>\n",
       "      <td>4</td>\n",
       "    </tr>\n",
       "    <tr>\n",
       "      <th>6</th>\n",
       "      <td>888e6052f1aebab8d8a527776b3499b6</td>\n",
       "      <td>Champdoré / de Lorimier</td>\n",
       "      <td>45.566869</td>\n",
       "      <td>-73.641017</td>\n",
       "      <td>7</td>\n",
       "    </tr>\n",
       "    <tr>\n",
       "      <th>7</th>\n",
       "      <td>f3e8bbaffc3930bc19681467b42595cf</td>\n",
       "      <td>Beurling / Godin</td>\n",
       "      <td>45.447916</td>\n",
       "      <td>-73.583819</td>\n",
       "      <td>9</td>\n",
       "    </tr>\n",
       "    <tr>\n",
       "      <th>8</th>\n",
       "      <td>1ffa6ec805ef0a7803b86fa6bef5c1af</td>\n",
       "      <td>Kirkfield / de Chambois</td>\n",
       "      <td>45.512933</td>\n",
       "      <td>-73.633890</td>\n",
       "      <td>11</td>\n",
       "    </tr>\n",
       "    <tr>\n",
       "      <th>9</th>\n",
       "      <td>65fcf6251f8e1caef9d4ec19d3c37f64</td>\n",
       "      <td>Parc des Rapides (LaSalle / 6e avenue)</td>\n",
       "      <td>45.429471</td>\n",
       "      <td>-73.593099</td>\n",
       "      <td>12</td>\n",
       "    </tr>\n",
       "  </tbody>\n",
       "</table>\n",
       "</div>"
      ],
      "text/plain": [
       "                      cb_station_id  \\\n",
       "0  72bfd647b3d2b650546f42319729757d   \n",
       "1  36c6491aa1b52e5ef7005f984738de27   \n",
       "2  8db822a266b5ccb3a1e323ddc8721d62   \n",
       "3  660275cd7d4368cc7590f1606c633bd6   \n",
       "4  fddada5adc997290212b3f540c017274   \n",
       "5  83d02cd8a043b8305a4031063005d32e   \n",
       "6  888e6052f1aebab8d8a527776b3499b6   \n",
       "7  f3e8bbaffc3930bc19681467b42595cf   \n",
       "8  1ffa6ec805ef0a7803b86fa6bef5c1af   \n",
       "9  65fcf6251f8e1caef9d4ec19d3c37f64   \n",
       "\n",
       "                                     cb_station_name  cb_latitude  \\\n",
       "0                               Cégep Marie-Victorin    45.617500   \n",
       "1      Gare d'autocars de Montréal (Berri / Ontario)    45.516926   \n",
       "2  Ateliers municipaux de St-Laurent (Cavendish /...    45.506176   \n",
       "3  Place Rodolphe-Rousseau (Gohier / Édouard-Laurin)    45.512994   \n",
       "4                Centre des loisirs (Tassé / Grenet)    45.514734   \n",
       "5            Parc Marlborough (Beauzèle / Robichaud)    45.522341   \n",
       "6                            Champdoré / de Lorimier    45.566869   \n",
       "7                                   Beurling / Godin    45.447916   \n",
       "8                            Kirkfield / de Chambois    45.512933   \n",
       "9             Parc des Rapides (LaSalle / 6e avenue)    45.429471   \n",
       "\n",
       "   cb_longitude  cb_bike_num  \n",
       "0    -73.606011            6  \n",
       "1    -73.564257            1  \n",
       "2    -73.711186            6  \n",
       "3    -73.682498           16  \n",
       "4    -73.691449            3  \n",
       "5    -73.721679            4  \n",
       "6    -73.641017            7  \n",
       "7    -73.583819            9  \n",
       "8    -73.633890           11  \n",
       "9    -73.593099           12  "
      ]
     },
     "execution_count": 8,
     "metadata": {},
     "output_type": "execute_result"
    }
   ],
   "source": [
    "# Extract the data from the json result\n",
    "cb_montreal_stations = citybikes_montreal_data['network']['stations']\n",
    "\n",
    "# Initialize lists to store extracted data\n",
    "station_id = []\n",
    "station_name = []\n",
    "station_latitude = []\n",
    "station_longitude = []\n",
    "bike_num = []\n",
    "\n",
    "# Extract data from 'network.station' for: 'id','name', 'latitude', 'longitude', 'slots' (the total number of bikes)\n",
    "for record in cb_montreal_stations:\n",
    "    station_id.append(record['id'])\n",
    "    station_name.append(record['name'])\n",
    "    station_latitude.append(record['latitude'])\n",
    "    station_longitude.append(record['longitude'])\n",
    "    bike_num.append(record['free_bikes'])\n",
    "\n",
    "# Create a DataFrame from the extracted data with new column names\n",
    "cb_montreal_stations = pd.DataFrame({\n",
    "    'cb_station_id': station_id,\n",
    "    'cb_station_name': station_name,\n",
    "    'cb_latitude': station_latitude,\n",
    "    'cb_longitude': station_longitude,\n",
    "    'cb_bike_num': bike_num\n",
    "})\n",
    "\n",
    "# Print the first 10 rows the DataFrame\n",
    "cb_montreal_stations.head(10)"
   ]
  },
  {
   "cell_type": "code",
   "execution_count": 9,
   "metadata": {},
   "outputs": [
    {
     "name": "stdout",
     "output_type": "stream",
     "text": [
      "<class 'pandas.core.frame.DataFrame'>\n",
      "RangeIndex: 797 entries, 0 to 796\n",
      "Data columns (total 5 columns):\n",
      " #   Column           Non-Null Count  Dtype  \n",
      "---  ------           --------------  -----  \n",
      " 0   cb_station_id    797 non-null    object \n",
      " 1   cb_station_name  797 non-null    object \n",
      " 2   cb_latitude      797 non-null    float64\n",
      " 3   cb_longitude     797 non-null    float64\n",
      " 4   cb_bike_num      797 non-null    int64  \n",
      "dtypes: float64(2), int64(1), object(2)\n",
      "memory usage: 31.3+ KB\n"
     ]
    }
   ],
   "source": [
    "cb_montreal_stations.info()"
   ]
  },
  {
   "cell_type": "code",
   "execution_count": 10,
   "metadata": {},
   "outputs": [],
   "source": [
    "# First, save all the Montreal bike station coordinates into 'montreal_stations_coordinate.csv' for part 2\n",
    "montreal_stations_coordinate = cb_montreal_stations[['cb_latitude', 'cb_longitude']]\n",
    "montreal_stations_coordinate.to_csv('../data/montreal_stations_coordinate.csv', index=False)"
   ]
  },
  {
   "cell_type": "code",
   "execution_count": 11,
   "metadata": {},
   "outputs": [],
   "source": [
    "# An extra step to save 'cb_montreal_stations' in a csv for joining data in part 3\n",
    "cb_montreal_stations.to_csv('../data/cb_montreal_stations.csv', index=False)"
   ]
  },
  {
   "cell_type": "code",
   "execution_count": null,
   "metadata": {},
   "outputs": [],
   "source": []
  }
 ],
 "metadata": {
  "kernelspec": {
   "display_name": "Python 3",
   "language": "python",
   "name": "python3"
  },
  "language_info": {
   "codemirror_mode": {
    "name": "ipython",
    "version": 3
   },
   "file_extension": ".py",
   "mimetype": "text/x-python",
   "name": "python",
   "nbconvert_exporter": "python",
   "pygments_lexer": "ipython3",
   "version": "3.11.5"
  }
 },
 "nbformat": 4,
 "nbformat_minor": 4
}
