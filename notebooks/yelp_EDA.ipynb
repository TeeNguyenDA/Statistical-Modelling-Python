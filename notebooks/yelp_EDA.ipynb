{
 "cells": [
  {
   "cell_type": "code",
   "execution_count": null,
   "metadata": {},
   "outputs": [],
   "source": [
    "# Import libaries\n",
    "import pandas as pd\n",
    "import numpy as np\n",
    "import requests\n",
    "import os\n",
    "import pprint\n",
    "\n",
    "# Set option to view max 500 columns\n",
    "pd.set_option('display.max_columns', 500)"
   ]
  },
  {
   "cell_type": "code",
   "execution_count": null,
   "metadata": {},
   "outputs": [],
   "source": [
    "# Recall the bike stations latitude and logitude from our saved 'montreal_stations_coordinate.csv' file\n",
    "montreal_stations_coordinate = pd.read_csv('../data/montreal_stations_coordinate.csv')\n",
    "montreal_stations_coordinate"
   ]
  },
  {
   "cell_type": "markdown",
   "metadata": {},
   "source": [
    "# Yelp"
   ]
  },
  {
   "cell_type": "markdown",
   "metadata": {},
   "source": [
    "Send a request to Yelp with a small radius (1000m) for all the bike stations in your city of choice. "
   ]
  },
  {
   "cell_type": "code",
   "execution_count": null,
   "metadata": {},
   "outputs": [],
   "source": [
    "# As Yelp API has a daily limit of 500 per day, we'll take split into two sets of the coordinates at 400 rows for Yelp\n",
    "montreal_stations_coordinate1 = montreal_stations_coordinate[:400]\n",
    "montreal_stations_coordinate2 = montreal_stations_coordinate[400:]"
   ]
  },
  {
   "cell_type": "code",
   "execution_count": null,
   "metadata": {},
   "outputs": [],
   "source": [
    "# The new Montreal station coordinates dataframes to iterate and make Yelp API call is now 'montreal_stations_coordinate1' and 'montreal_stations_coordinate2'\n",
    "# Scheduled to run 2 sub-groups in two different days to bypass the Yelp API limit\n",
    "print(\"Length of the first set of montreal bike stations coordinates :\", len(montreal_stations_coordinate1))\n",
    "print(\"Length of the first set of montreal bike stations coordinates :\", len(montreal_stations_coordinate2))"
   ]
  },
  {
   "cell_type": "code",
   "execution_count": null,
   "metadata": {},
   "outputs": [],
   "source": [
    "YELP_KEY1 = os.getenv('yelp_key1')"
   ]
  },
  {
   "cell_type": "code",
   "execution_count": null,
   "metadata": {},
   "outputs": [],
   "source": [
    "# Due to the 5000 limit per day, let's test out a small sample of 5 coordinates to figure out the response data structure from Yelp API\n",
    "montreal_stations_coordinate_s = montreal_stations_coordinate[:5]\n",
    "\n",
    "# Create a test function to get sample businesses from Yelp API with limit \n",
    "def get_yelp_business_sample(latitude, longitude, radius, api_key, categories, limit):\n",
    "\n",
    "    # Form the url with a limit per coordinate\n",
    "    yelp_url_limit = 'https://api.yelp.com/v3/businesses/search?' + f\"latitude={latitude}&longitude={longitude}\" + f\"&radius={radius}\" + f\"&categories={categories}\" + f\"&limit={limit}\"\n",
    "    \n",
    "    # Create dictionary for headers, add key with our API KEY\n",
    "    headers = {\"Accept\": \"application/json\",\n",
    "              \"Authorization\": f\"Bearer {api_key}\"}\n",
    "    \n",
    "    # Get the response\n",
    "    yelp_result_sample = requests.get(yelp_url_limit, headers=headers)\n",
    "    \n",
    "    return yelp_result_sample.json()"
   ]
  },
  {
   "cell_type": "code",
   "execution_count": null,
   "metadata": {},
   "outputs": [],
   "source": [
    "# Create an empty DataFrame to store the sample results from Yelp for bars with 1000m radius from Montreal bike stations, limit=1 for each coordinate\n",
    "yelp_bars_df_s = pd.DataFrame()\n",
    "\n",
    "for index, row in montreal_stations_coordinate_s.iterrows():\n",
    "    latitude = row['cb_latitude']\n",
    "    longitude = row['cb_longitude']\n",
    "    yelp_bar_data_sample = get_yelp_business_sample(latitude=latitude, longitude=longitude, radius=1000, api_key=YELP_KEY1, categories=\"bars\", limit=1)\n",
    "\n",
    "    # Extract the 'businesses' key from the JSON response and create a DataFrame from it\n",
    "    yelp_businesses_sample = yelp_bar_data_sample.get('businesses', [])\n",
    "    yelp_bar_details_sample = pd.DataFrame(yelp_businesses_sample)\n",
    "\n",
    "    # Add latitude and longitude to yelp_bar_details_sample DataFrame\n",
    "    yelp_bar_details_sample['yelp_latitude'] = latitude\n",
    "    yelp_bar_details_sample['yelp_longitude'] = longitude\n",
    "\n",
    "    # Append it to 'yelp_bars_df_s'\n",
    "    yelp_bars_df_s = pd.concat([yelp_bars_df_s, yelp_bar_details_sample], ignore_index=True)"
   ]
  },
  {
   "cell_type": "code",
   "execution_count": null,
   "metadata": {},
   "outputs": [],
   "source": [
    "yelp_bars_df_s.head()"
   ]
  },
  {
   "cell_type": "code",
   "execution_count": null,
   "metadata": {},
   "outputs": [],
   "source": [
    "# The five sample coordinate API call works with the 'businesses' key\n",
    "# Let's apply it to the two sets of the coordinates at 400 row with an official function\n",
    "\n",
    "# Create a function to get businesses from Yelp API\n",
    "def get_yelp_business(latitude, longitude, radius, api_key, categories):\n",
    "\n",
    "    \"\"\"\n",
    "    Get business information from Yelp API based on latitude, longitude, radius, and categories.\n",
    "\n",
    "    Parameters:\n",
    "        latitude (float): The latitude coordinate of the location.\n",
    "        longitude (float): The longitude coordinate of the location.\n",
    "        radius (int): The search radius in meters.\n",
    "        api_key (str): Your Yelp API key for authentication.\n",
    "        categories (str): A comma-separated list of venue categories.\n",
    "        \n",
    "    Returns:\n",
    "        json: JSON data containing the response data from the Yelp API.\n",
    "\n",
    "    Example:\n",
    "        response_data = get_yelp_business(latitude=40.7128, longitude=-74.0060, radius=1000, \"YOUR_API_KEY\", categories=\"bars\")\n",
    "        # Returns JSON data with business information based on the provided parameters.\n",
    "    \"\"\"\n",
    "\n",
    "    # Form the url with a limit as Yelp API has a daily limit of 500 per day\n",
    "    yelp_url = 'https://api.yelp.com/v3/businesses/search?' + f\"latitude={latitude}&longitude={longitude}\" + f\"&radius={radius}\" + f\"&categories={categories}\"\n",
    "    \n",
    "    # Create dictionary for headers, add key with our API KEY\n",
    "    headers = {\"Accept\": \"application/json\",\n",
    "              \"Authorization\": f\"Bearer {api_key}\"}\n",
    "    \n",
    "    # Get the response, check status\n",
    "    yelp_result = requests.get(yelp_url, headers=headers)\n",
    "    \n",
    "    return yelp_result.json()"
   ]
  },
  {
   "cell_type": "markdown",
   "metadata": {},
   "source": [
    "Parse through the response to get the POI (such as restaurants, bars, etc) details you want (ratings, name, location, etc)"
   ]
  },
  {
   "cell_type": "code",
   "execution_count": null,
   "metadata": {},
   "outputs": [],
   "source": [
    "# Start with the first 400 station coordinates from 'montreal_stations_coordinate1'\n",
    "\n",
    "# Create an empty DataFrame to store the results from Yelp for bars with 1000m radius from Montreal bike stations\n",
    "yelp_bars_df1 = pd.DataFrame()\n",
    "\n",
    "for index, row in montreal_stations_coordinate1.iterrows():\n",
    "    latitude = row['cb_latitude']\n",
    "    longitude = row['cb_longitude']\n",
    "    yelp_bar_data1 = get_yelp_business(latitude=latitude, longitude=longitude, radius=1000, api_key=YELP_KEY1, categories=\"bars\")\n",
    "    \n",
    "    # Extract the 'businesses' key from the JSON response and create a DataFrame from it\n",
    "    yelp_businesses1 = yelp_bar_data1.get('businesses', [])\n",
    "    yelp_bar_details1 = pd.DataFrame(yelp_businesses1)\n",
    "\n",
    "    # Add latitude and longitude to yelp_bar_details1 DataFrame\n",
    "    yelp_bar_details1['yelp_latitude'] = latitude\n",
    "    yelp_bar_details1['yelp_longitude'] = longitude\n",
    "\n",
    "    # Append it to 'yelp_bars_df1'\n",
    "    yelp_bars_df1 = pd.concat([yelp_bars_df1, yelp_bar_details1], ignore_index=True)"
   ]
  },
  {
   "cell_type": "code",
   "execution_count": null,
   "metadata": {},
   "outputs": [],
   "source": [
    "yelp_bars_df1.head()"
   ]
  },
  {
   "cell_type": "code",
   "execution_count": null,
   "metadata": {},
   "outputs": [],
   "source": [
    "# Save the dataframe 'yelp_bars_df1' as 'yelp_bars_df1.csv' to archive the first API call data for safety\n",
    "yelp_bars_df1.to_csv('../data/yelp_bars_df1.csv')"
   ]
  },
  {
   "cell_type": "code",
   "execution_count": null,
   "metadata": {},
   "outputs": [],
   "source": [
    "# Due to Yelp's limit of 500 requests per day, we can get creative with another API key for the rest of Montreal station coordinates\n",
    "YELP_KEY2 = os.getenv('yelp_key2')"
   ]
  },
  {
   "cell_type": "code",
   "execution_count": null,
   "metadata": {},
   "outputs": [],
   "source": [
    "# Continue with rest of station coordinates with 'montreal_stations_coordinate2' (398 rows)\n",
    "\n",
    "# Create an empty DataFrame to store the results from Yelp for bars with 1000m radius from Montreal bike stations\n",
    "yelp_bars_df2 = pd.DataFrame()\n",
    "\n",
    "for index, row in montreal_stations_coordinate2.iterrows():\n",
    "    latitude = row['cb_latitude']\n",
    "    longitude = row['cb_longitude']\n",
    "    yelp_bar_data2 = get_yelp_business(latitude=latitude, longitude=longitude, radius=1000, api_key=YELP_KEY2, categories=\"bars\")\n",
    "    \n",
    "    # Extract the 'businesses' key from the JSON response and create a DataFrame from it\n",
    "    yelp_businesses2 = yelp_bar_data2.get('businesses', [])\n",
    "    yelp_bar_details2 = pd.DataFrame(yelp_businesses2)\n",
    "\n",
    "    # Add latitude and longitude to yelp_bar_details1 DataFrame\n",
    "    yelp_bar_details2['yelp_latitude'] = latitude\n",
    "    yelp_bar_details2['yelp_longitude'] = longitude\n",
    "\n",
    "    # Append it to 'yelp_bars_df2'\n",
    "    yelp_bars_df2 = pd.concat([yelp_bars_df2, yelp_bar_details2], ignore_index=True)"
   ]
  },
  {
   "cell_type": "code",
   "execution_count": null,
   "metadata": {},
   "outputs": [],
   "source": [
    "yelp_bars_df2.head()"
   ]
  },
  {
   "cell_type": "code",
   "execution_count": null,
   "metadata": {},
   "outputs": [],
   "source": [
    "# Save the dataframe 'yelp_bars_df2' as 'yelp_bars_df2.csv' to archive the second API call data for safety\n",
    "yelp_bars_df2.to_csv('../data/yelp_bars_df2.csv')"
   ]
  },
  {
   "cell_type": "code",
   "execution_count": null,
   "metadata": {},
   "outputs": [],
   "source": [
    "# Check the shape of the two API results before merging into one dataframe\n",
    "print(yelp_bars_df1.shape)\n",
    "print(yelp_bars_df2.shape)"
   ]
  },
  {
   "cell_type": "code",
   "execution_count": null,
   "metadata": {},
   "outputs": [],
   "source": [
    "# The columns of the two results match\n",
    "yelp_bars_df1.columns == yelp_bars_df2.columns"
   ]
  },
  {
   "cell_type": "code",
   "execution_count": null,
   "metadata": {},
   "outputs": [],
   "source": [
    "# Concatenate the two results into the 'merged_yelp_bars_df' dataframe\n",
    "merged_yelp_bars_df = pd.concat([yelp_bars_df1, yelp_bars_df2], ignore_index=True)\n",
    "merged_yelp_bars_df.info()"
   ]
  },
  {
   "cell_type": "code",
   "execution_count": null,
   "metadata": {},
   "outputs": [],
   "source": [
    "# Convert into 'merged_yelp_bars_df.csv' file for archival\n",
    "merged_yelp_bars_df.to_csv('../data/merged_yelp_bars_df.csv')"
   ]
  },
  {
   "cell_type": "code",
   "execution_count": null,
   "metadata": {},
   "outputs": [],
   "source": [
    "# This master Yelp dataframe provides rating for bars whereas Foursquare doesn't\n",
    "# Check if bar 'id' is duplicated, as they might be good for imputation\n",
    "yelp_dup = merged_yelp_bars_df[merged_yelp_bars_df[['id']].duplicated() == True].sort_values('id')\n",
    "yelp_dup"
   ]
  },
  {
   "cell_type": "markdown",
   "metadata": {},
   "source": [
    "Those duplicated rows can't be eliminated yet. While the majority of columns look the same, we used coordinates of the bike stations in Montreal to look up bars nearby. We'll revisit this issue in part 3."
   ]
  },
  {
   "cell_type": "markdown",
   "metadata": {},
   "source": [
    "Put your parsed results into a DataFrame"
   ]
  },
  {
   "cell_type": "code",
   "execution_count": null,
   "metadata": {},
   "outputs": [],
   "source": [
    "merged_yelp_bars_df.columns"
   ]
  },
  {
   "cell_type": "code",
   "execution_count": null,
   "metadata": {},
   "outputs": [],
   "source": [
    "# Initialize lists to only select data from some meaningful columns: name, is_closed, review_count, rating, price, zip_code, distance\n",
    "name = []\n",
    "zip_code = []\n",
    "category = []\n",
    "review_count = []\n",
    "rating = []\n",
    "price = []\n",
    "\n",
    "distance = []\n",
    "\n",
    "# Extract data from 'result_df'\n",
    "for index, record in merged_yelp_bars_df.iterrows():\n",
    "    name.append(record['name'])\n",
    "    zip_code.append(location['zip_code'])\n",
    "\n",
    "    # Extract the category alias with \"bar\" from the categories alias\n",
    "    categories = record['categories']\n",
    "    for alias in categories:\n",
    "        if 'bar' in category['alias']:\n",
    "            category.append(row)\n",
    "            break\n",
    "\n",
    "    review_count.append(record['review_count'])\n",
    "    rating.append(record['rating'])\n",
    "    price.append(record['price'])\n",
    "    location = record['location']\n",
    "\n",
    "    distance.append(record['distance'])\n",
    "\n",
    "# Create a DataFrame from the extracted data\n",
    "yelp_bar_features_df = pd.DataFrame({\n",
    "    'name': name,\n",
    "    'review_count': review_count,\n",
    "    'rating': rating,\n",
    "    'price': price,\n",
    "    'postcode': zip_code,\n",
    "    'distance': distance\n",
    "})\n",
    "\n",
    "# Print the head of the DataFrame\n",
    "yelp_bar_features_df.head(5)"
   ]
  },
  {
   "cell_type": "code",
   "execution_count": null,
   "metadata": {},
   "outputs": [],
   "source": [
    "# Save the Yelp's Montreal bar result with desired columns to 'yelp_bar_features.csv'\n",
    "yelp_bar_features_df.to_csv('../data/yelp_bar_features.csv')"
   ]
  },
  {
   "cell_type": "markdown",
   "metadata": {},
   "source": [
    "# Comparing Results"
   ]
  },
  {
   "cell_type": "markdown",
   "metadata": {},
   "source": [
    "**Which API provided you with more complete data? Provide an explanation.**"
   ]
  },
  {
   "cell_type": "markdown",
   "metadata": {},
   "source": [
    "Comparing both the pre-processed and cleaned up data (mostly removing duplicated ids) responses from Foursquare and Yelp API, Yelp has a slightly better edge in complete data; regarding Montreal bar places within a kilometer away from the shared bike stations.\n",
    "\n",
    "* **Foursquare**: 5907 entries with 10 columns initially received from API - 482 unique bar places returned after cleanup with more modest information about the place. But they have geographical indicators specific to the place (like geocodes, timezone) as well as connected places (chains, related places)\n",
    "* **Yelp**: 5220 entries with 16 columns initially received from API - 482 unique bar places returned after cleanup with incredible indicators such as rating, review counts, prices and all.\n",
    "\n",
    "Given the same amount of unique bars we get from the two API sources, we have the possibility to further explore whether these bars are the same. If true, there's no clear conclusion which API has a more completed data in terms of quantity."
   ]
  },
  {
   "cell_type": "markdown",
   "metadata": {},
   "source": [
    "**Get the top 10 restaurants or bars according to their rating**"
   ]
  },
  {
   "cell_type": "code",
   "execution_count": null,
   "metadata": {},
   "outputs": [],
   "source": [
    "yelp_bar_features_df.sort_values(by='rating', ascending=False).head(10)"
   ]
  },
  {
   "cell_type": "code",
   "execution_count": null,
   "metadata": {},
   "outputs": [],
   "source": []
  }
 ],
 "metadata": {
  "kernelspec": {
   "display_name": "Python 3",
   "language": "python",
   "name": "python3"
  },
  "language_info": {
   "codemirror_mode": {
    "name": "ipython",
    "version": 3
   },
   "file_extension": ".py",
   "mimetype": "text/x-python",
   "name": "python",
   "nbconvert_exporter": "python",
   "pygments_lexer": "ipython3",
   "version": "3.11.5"
  }
 },
 "nbformat": 4,
 "nbformat_minor": 4
}
