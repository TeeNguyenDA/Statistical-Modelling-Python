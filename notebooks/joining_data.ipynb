{
 "cells": [
  {
   "cell_type": "markdown",
   "metadata": {},
   "source": [
    "Join the data from Part 1 with the data from Part 2 to create a new dataframe."
   ]
  },
  {
   "cell_type": "code",
   "execution_count": 1,
   "metadata": {},
   "outputs": [],
   "source": [
    "# Imports libaries\n",
    "import pandas as pd\n",
    "import numpy as np\n",
    "import matplotlib.pyplot as plt\n",
    "import seaborn as sns\n",
    "from scipy import stats\n",
    "\n",
    "sns.set_theme()\n",
    "\n",
    "import warnings\n",
    "warnings.filterwarnings('ignore')"
   ]
  },
  {
   "cell_type": "code",
   "execution_count": 2,
   "metadata": {},
   "outputs": [],
   "source": [
    "# Load the csv files from part 2 with Foursquare and Yelp EDA\n",
    "cb = pd.read_csv('../data/cb_montreal_stations.csv')\n",
    "fsq = pd.read_csv('../data/fsq_bar_features.csv')\n",
    "yelp = pd.read_csv('../data/yelp_bar_features.csv')"
   ]
  },
  {
   "cell_type": "code",
   "execution_count": 3,
   "metadata": {},
   "outputs": [
    {
     "data": {
      "text/html": [
       "<div>\n",
       "<style scoped>\n",
       "    .dataframe tbody tr th:only-of-type {\n",
       "        vertical-align: middle;\n",
       "    }\n",
       "\n",
       "    .dataframe tbody tr th {\n",
       "        vertical-align: top;\n",
       "    }\n",
       "\n",
       "    .dataframe thead th {\n",
       "        text-align: right;\n",
       "    }\n",
       "</style>\n",
       "<table border=\"1\" class=\"dataframe\">\n",
       "  <thead>\n",
       "    <tr style=\"text-align: right;\">\n",
       "      <th></th>\n",
       "      <th>name</th>\n",
       "      <th>postcode</th>\n",
       "      <th>category</th>\n",
       "      <th>distance</th>\n",
       "      <th>latitude</th>\n",
       "      <th>longitude</th>\n",
       "    </tr>\n",
       "  </thead>\n",
       "  <tbody>\n",
       "    <tr>\n",
       "      <th>3969</th>\n",
       "      <td>132 Bar Vintage</td>\n",
       "      <td>H3L 1T4</td>\n",
       "      <td>Cocktail Bar</td>\n",
       "      <td>299.0</td>\n",
       "      <td>45.544079</td>\n",
       "      <td>-73.667357</td>\n",
       "    </tr>\n",
       "    <tr>\n",
       "      <th>87</th>\n",
       "      <td>132 Bar Vintage</td>\n",
       "      <td>H3L 1T4</td>\n",
       "      <td>Cocktail Bar</td>\n",
       "      <td>810.0</td>\n",
       "      <td>45.553400</td>\n",
       "      <td>-73.662255</td>\n",
       "    </tr>\n",
       "    <tr>\n",
       "      <th>3952</th>\n",
       "      <td>132 Bar Vintage</td>\n",
       "      <td>H3L 1T4</td>\n",
       "      <td>Cocktail Bar</td>\n",
       "      <td>123.0</td>\n",
       "      <td>45.547582</td>\n",
       "      <td>-73.665229</td>\n",
       "    </tr>\n",
       "    <tr>\n",
       "      <th>3651</th>\n",
       "      <td>132 Bar Vintage</td>\n",
       "      <td>H3L 1T4</td>\n",
       "      <td>Cocktail Bar</td>\n",
       "      <td>871.0</td>\n",
       "      <td>45.550692</td>\n",
       "      <td>-73.656367</td>\n",
       "    </tr>\n",
       "    <tr>\n",
       "      <th>2330</th>\n",
       "      <td>3 Amigos Laval</td>\n",
       "      <td>H7T 2J2</td>\n",
       "      <td>Bar</td>\n",
       "      <td>857.0</td>\n",
       "      <td>45.561570</td>\n",
       "      <td>-73.754480</td>\n",
       "    </tr>\n",
       "    <tr>\n",
       "      <th>...</th>\n",
       "      <td>...</td>\n",
       "      <td>...</td>\n",
       "      <td>...</td>\n",
       "      <td>...</td>\n",
       "      <td>...</td>\n",
       "      <td>...</td>\n",
       "    </tr>\n",
       "    <tr>\n",
       "      <th>1603</th>\n",
       "      <td>Zoé Fondues-Karaoke</td>\n",
       "      <td>H2A 1W3</td>\n",
       "      <td>Bar</td>\n",
       "      <td>895.0</td>\n",
       "      <td>45.551937</td>\n",
       "      <td>-73.593928</td>\n",
       "    </tr>\n",
       "    <tr>\n",
       "      <th>3271</th>\n",
       "      <td>Zoé Fondues-Karaoke</td>\n",
       "      <td>H2A 1W3</td>\n",
       "      <td>Bar</td>\n",
       "      <td>988.0</td>\n",
       "      <td>45.551774</td>\n",
       "      <td>-73.603478</td>\n",
       "    </tr>\n",
       "    <tr>\n",
       "      <th>2284</th>\n",
       "      <td>À Domicile</td>\n",
       "      <td>H7T 2K9</td>\n",
       "      <td>Bar</td>\n",
       "      <td>685.0</td>\n",
       "      <td>45.570727</td>\n",
       "      <td>-73.737086</td>\n",
       "    </tr>\n",
       "    <tr>\n",
       "      <th>2291</th>\n",
       "      <td>À Domicile</td>\n",
       "      <td>H7T 2K9</td>\n",
       "      <td>Bar</td>\n",
       "      <td>760.0</td>\n",
       "      <td>45.562512</td>\n",
       "      <td>-73.743706</td>\n",
       "    </tr>\n",
       "    <tr>\n",
       "      <th>3987</th>\n",
       "      <td>À Domicile</td>\n",
       "      <td>H7T 2K9</td>\n",
       "      <td>Bar</td>\n",
       "      <td>130.0</td>\n",
       "      <td>45.568420</td>\n",
       "      <td>-73.746873</td>\n",
       "    </tr>\n",
       "  </tbody>\n",
       "</table>\n",
       "<p>5907 rows × 6 columns</p>\n",
       "</div>"
      ],
      "text/plain": [
       "                     name postcode      category  distance   latitude  \\\n",
       "3969      132 Bar Vintage  H3L 1T4  Cocktail Bar     299.0  45.544079   \n",
       "87        132 Bar Vintage  H3L 1T4  Cocktail Bar     810.0  45.553400   \n",
       "3952      132 Bar Vintage  H3L 1T4  Cocktail Bar     123.0  45.547582   \n",
       "3651      132 Bar Vintage  H3L 1T4  Cocktail Bar     871.0  45.550692   \n",
       "2330       3 Amigos Laval  H7T 2J2           Bar     857.0  45.561570   \n",
       "...                   ...      ...           ...       ...        ...   \n",
       "1603  Zoé Fondues-Karaoke  H2A 1W3           Bar     895.0  45.551937   \n",
       "3271  Zoé Fondues-Karaoke  H2A 1W3           Bar     988.0  45.551774   \n",
       "2284           À Domicile  H7T 2K9           Bar     685.0  45.570727   \n",
       "2291           À Domicile  H7T 2K9           Bar     760.0  45.562512   \n",
       "3987           À Domicile  H7T 2K9           Bar     130.0  45.568420   \n",
       "\n",
       "      longitude  \n",
       "3969 -73.667357  \n",
       "87   -73.662255  \n",
       "3952 -73.665229  \n",
       "3651 -73.656367  \n",
       "2330 -73.754480  \n",
       "...         ...  \n",
       "1603 -73.593928  \n",
       "3271 -73.603478  \n",
       "2284 -73.737086  \n",
       "2291 -73.743706  \n",
       "3987 -73.746873  \n",
       "\n",
       "[5907 rows x 6 columns]"
      ]
     },
     "execution_count": 3,
     "metadata": {},
     "output_type": "execute_result"
    }
   ],
   "source": [
    "fsq.sort_values(by='name')"
   ]
  },
  {
   "cell_type": "code",
   "execution_count": 4,
   "metadata": {},
   "outputs": [
    {
     "data": {
      "text/html": [
       "<div>\n",
       "<style scoped>\n",
       "    .dataframe tbody tr th:only-of-type {\n",
       "        vertical-align: middle;\n",
       "    }\n",
       "\n",
       "    .dataframe tbody tr th {\n",
       "        vertical-align: top;\n",
       "    }\n",
       "\n",
       "    .dataframe thead th {\n",
       "        text-align: right;\n",
       "    }\n",
       "</style>\n",
       "<table border=\"1\" class=\"dataframe\">\n",
       "  <thead>\n",
       "    <tr style=\"text-align: right;\">\n",
       "      <th></th>\n",
       "      <th>name</th>\n",
       "      <th>postcode</th>\n",
       "      <th>category</th>\n",
       "      <th>review_count</th>\n",
       "      <th>rating</th>\n",
       "      <th>price</th>\n",
       "      <th>distance</th>\n",
       "      <th>latitude</th>\n",
       "      <th>longitude</th>\n",
       "    </tr>\n",
       "  </thead>\n",
       "  <tbody>\n",
       "    <tr>\n",
       "      <th>5921</th>\n",
       "      <td>123 Dzo</td>\n",
       "      <td>H7S 1Z4</td>\n",
       "      <td>Bars</td>\n",
       "      <td>6.0</td>\n",
       "      <td>4.0</td>\n",
       "      <td>NaN</td>\n",
       "      <td>536.542852</td>\n",
       "      <td>45.568420</td>\n",
       "      <td>-73.746873</td>\n",
       "    </tr>\n",
       "    <tr>\n",
       "      <th>3245</th>\n",
       "      <td>123 Dzo</td>\n",
       "      <td>H7S 1Z4</td>\n",
       "      <td>Bars</td>\n",
       "      <td>6.0</td>\n",
       "      <td>4.0</td>\n",
       "      <td>NaN</td>\n",
       "      <td>1134.200694</td>\n",
       "      <td>45.565007</td>\n",
       "      <td>-73.731905</td>\n",
       "    </tr>\n",
       "    <tr>\n",
       "      <th>3623</th>\n",
       "      <td>123 Dzo</td>\n",
       "      <td>H7S 1Z4</td>\n",
       "      <td>Bars</td>\n",
       "      <td>6.0</td>\n",
       "      <td>4.0</td>\n",
       "      <td>NaN</td>\n",
       "      <td>439.941107</td>\n",
       "      <td>45.570727</td>\n",
       "      <td>-73.737086</td>\n",
       "    </tr>\n",
       "    <tr>\n",
       "      <th>6779</th>\n",
       "      <td>Abreuvoir Bar &amp; Terrasse</td>\n",
       "      <td>H2L 1N5</td>\n",
       "      <td>Bars</td>\n",
       "      <td>25.0</td>\n",
       "      <td>4.0</td>\n",
       "      <td>$$</td>\n",
       "      <td>361.475505</td>\n",
       "      <td>45.518206</td>\n",
       "      <td>-73.561619</td>\n",
       "    </tr>\n",
       "    <tr>\n",
       "      <th>897</th>\n",
       "      <td>Abreuvoir Bar &amp; Terrasse</td>\n",
       "      <td>H2L 1N5</td>\n",
       "      <td>Bars</td>\n",
       "      <td>25.0</td>\n",
       "      <td>4.0</td>\n",
       "      <td>$$</td>\n",
       "      <td>945.413135</td>\n",
       "      <td>45.524790</td>\n",
       "      <td>-73.565450</td>\n",
       "    </tr>\n",
       "    <tr>\n",
       "      <th>...</th>\n",
       "      <td>...</td>\n",
       "      <td>...</td>\n",
       "      <td>...</td>\n",
       "      <td>...</td>\n",
       "      <td>...</td>\n",
       "      <td>...</td>\n",
       "      <td>...</td>\n",
       "      <td>...</td>\n",
       "      <td>...</td>\n",
       "    </tr>\n",
       "    <tr>\n",
       "      <th>4879</th>\n",
       "      <td>Über Cafbar</td>\n",
       "      <td>H2C 1P8</td>\n",
       "      <td>Bars</td>\n",
       "      <td>6.0</td>\n",
       "      <td>4.5</td>\n",
       "      <td>$$</td>\n",
       "      <td>113.590897</td>\n",
       "      <td>45.557022</td>\n",
       "      <td>-73.659902</td>\n",
       "    </tr>\n",
       "    <tr>\n",
       "      <th>4856</th>\n",
       "      <td>Über Cafbar</td>\n",
       "      <td>H2C 1P8</td>\n",
       "      <td>Bars</td>\n",
       "      <td>6.0</td>\n",
       "      <td>4.5</td>\n",
       "      <td>$$</td>\n",
       "      <td>221.727177</td>\n",
       "      <td>45.559828</td>\n",
       "      <td>-73.658325</td>\n",
       "    </tr>\n",
       "    <tr>\n",
       "      <th>7598</th>\n",
       "      <td>Über Cafbar</td>\n",
       "      <td>H2C 1P8</td>\n",
       "      <td>Bars</td>\n",
       "      <td>6.0</td>\n",
       "      <td>4.5</td>\n",
       "      <td>$$</td>\n",
       "      <td>1285.066401</td>\n",
       "      <td>45.549847</td>\n",
       "      <td>-73.647674</td>\n",
       "    </tr>\n",
       "    <tr>\n",
       "      <th>4816</th>\n",
       "      <td>Über Cafbar</td>\n",
       "      <td>H2C 1P8</td>\n",
       "      <td>Bars</td>\n",
       "      <td>6.0</td>\n",
       "      <td>4.5</td>\n",
       "      <td>$$</td>\n",
       "      <td>719.766522</td>\n",
       "      <td>45.563872</td>\n",
       "      <td>-73.655568</td>\n",
       "    </tr>\n",
       "    <tr>\n",
       "      <th>387</th>\n",
       "      <td>Über Cafbar</td>\n",
       "      <td>H2C 1P8</td>\n",
       "      <td>Bars</td>\n",
       "      <td>6.0</td>\n",
       "      <td>4.5</td>\n",
       "      <td>$$</td>\n",
       "      <td>619.738926</td>\n",
       "      <td>45.556751</td>\n",
       "      <td>-73.667162</td>\n",
       "    </tr>\n",
       "  </tbody>\n",
       "</table>\n",
       "<p>9081 rows × 9 columns</p>\n",
       "</div>"
      ],
      "text/plain": [
       "                          name postcode category  review_count  rating price  \\\n",
       "5921                   123 Dzo  H7S 1Z4     Bars           6.0     4.0   NaN   \n",
       "3245                   123 Dzo  H7S 1Z4     Bars           6.0     4.0   NaN   \n",
       "3623                   123 Dzo  H7S 1Z4     Bars           6.0     4.0   NaN   \n",
       "6779  Abreuvoir Bar & Terrasse  H2L 1N5     Bars          25.0     4.0    $$   \n",
       "897   Abreuvoir Bar & Terrasse  H2L 1N5     Bars          25.0     4.0    $$   \n",
       "...                        ...      ...      ...           ...     ...   ...   \n",
       "4879               Über Cafbar  H2C 1P8     Bars           6.0     4.5    $$   \n",
       "4856               Über Cafbar  H2C 1P8     Bars           6.0     4.5    $$   \n",
       "7598               Über Cafbar  H2C 1P8     Bars           6.0     4.5    $$   \n",
       "4816               Über Cafbar  H2C 1P8     Bars           6.0     4.5    $$   \n",
       "387                Über Cafbar  H2C 1P8     Bars           6.0     4.5    $$   \n",
       "\n",
       "         distance   latitude  longitude  \n",
       "5921   536.542852  45.568420 -73.746873  \n",
       "3245  1134.200694  45.565007 -73.731905  \n",
       "3623   439.941107  45.570727 -73.737086  \n",
       "6779   361.475505  45.518206 -73.561619  \n",
       "897    945.413135  45.524790 -73.565450  \n",
       "...           ...        ...        ...  \n",
       "4879   113.590897  45.557022 -73.659902  \n",
       "4856   221.727177  45.559828 -73.658325  \n",
       "7598  1285.066401  45.549847 -73.647674  \n",
       "4816   719.766522  45.563872 -73.655568  \n",
       "387    619.738926  45.556751 -73.667162  \n",
       "\n",
       "[9081 rows x 9 columns]"
      ]
     },
     "execution_count": 4,
     "metadata": {},
     "output_type": "execute_result"
    }
   ],
   "source": [
    "yelp.sort_values(by='name')"
   ]
  },
  {
   "cell_type": "code",
   "execution_count": 5,
   "metadata": {},
   "outputs": [
    {
     "data": {
      "text/plain": [
       "563"
      ]
     },
     "execution_count": 5,
     "metadata": {},
     "output_type": "execute_result"
    }
   ],
   "source": [
    "fsq['name'].nunique()"
   ]
  },
  {
   "cell_type": "code",
   "execution_count": 6,
   "metadata": {},
   "outputs": [
    {
     "data": {
      "text/plain": [
       "471"
      ]
     },
     "execution_count": 6,
     "metadata": {},
     "output_type": "execute_result"
    }
   ],
   "source": [
    "yelp['name'].nunique()"
   ]
  },
  {
   "cell_type": "markdown",
   "metadata": {},
   "source": [
    "A few observations here:\n",
    "\n",
    "* There are more unique bar names in the 'fsq' dataframe.\n",
    "* The category of bars from 'fsq' is better categorized, because Foursquare already has a taxonomy of well-define category. We used search string \"bars\" for categories in the Yelp API call, thus it's not as well-organized. We also added \n",
    "* The 'distance' column in Yelp has values greater than 1000m, although we set the radius=1000 only.\n",
    "\n",
    "For the reasons above, we'll use bar information from Foursquare as the base of our clean data; then add additional information such as 'review_count', 'rating', 'price' from Yelp."
   ]
  },
  {
   "cell_type": "code",
   "execution_count": 7,
   "metadata": {},
   "outputs": [],
   "source": [
    "# Merge to add 'review_count', 'rating', 'price' columns from the 'yelp' to 'fsq' dataframe\n",
    "fsq = fsq.merge(yelp[['name', 'review_count', 'rating', 'price']].drop_duplicates(subset=['name']), on='name', how='left')"
   ]
  },
  {
   "cell_type": "code",
   "execution_count": 8,
   "metadata": {},
   "outputs": [
    {
     "data": {
      "text/html": [
       "<div>\n",
       "<style scoped>\n",
       "    .dataframe tbody tr th:only-of-type {\n",
       "        vertical-align: middle;\n",
       "    }\n",
       "\n",
       "    .dataframe tbody tr th {\n",
       "        vertical-align: top;\n",
       "    }\n",
       "\n",
       "    .dataframe thead th {\n",
       "        text-align: right;\n",
       "    }\n",
       "</style>\n",
       "<table border=\"1\" class=\"dataframe\">\n",
       "  <thead>\n",
       "    <tr style=\"text-align: right;\">\n",
       "      <th></th>\n",
       "      <th>name</th>\n",
       "      <th>postcode</th>\n",
       "      <th>category</th>\n",
       "      <th>distance</th>\n",
       "      <th>latitude</th>\n",
       "      <th>longitude</th>\n",
       "      <th>review_count</th>\n",
       "      <th>rating</th>\n",
       "      <th>price</th>\n",
       "    </tr>\n",
       "  </thead>\n",
       "  <tbody>\n",
       "    <tr>\n",
       "      <th>0</th>\n",
       "      <td>Resto-bar Capucine - Nord-Est de Montréal</td>\n",
       "      <td>NaN</td>\n",
       "      <td>Sports Bar</td>\n",
       "      <td>246.0</td>\n",
       "      <td>45.617500</td>\n",
       "      <td>-73.606011</td>\n",
       "      <td>NaN</td>\n",
       "      <td>NaN</td>\n",
       "      <td>NaN</td>\n",
       "    </tr>\n",
       "    <tr>\n",
       "      <th>1</th>\n",
       "      <td>Piano Bar la Belle Epoque</td>\n",
       "      <td>H1G 2V6</td>\n",
       "      <td>Cocktail Bar</td>\n",
       "      <td>661.0</td>\n",
       "      <td>45.617500</td>\n",
       "      <td>-73.606011</td>\n",
       "      <td>NaN</td>\n",
       "      <td>NaN</td>\n",
       "      <td>NaN</td>\n",
       "    </tr>\n",
       "    <tr>\n",
       "      <th>2</th>\n",
       "      <td>Cafe liana bar &amp; grill</td>\n",
       "      <td>H1E 1M4</td>\n",
       "      <td>Bar</td>\n",
       "      <td>809.0</td>\n",
       "      <td>45.617500</td>\n",
       "      <td>-73.606011</td>\n",
       "      <td>NaN</td>\n",
       "      <td>NaN</td>\n",
       "      <td>NaN</td>\n",
       "    </tr>\n",
       "    <tr>\n",
       "      <th>3</th>\n",
       "      <td>La Veranda</td>\n",
       "      <td>H1G 2V5</td>\n",
       "      <td>Bar</td>\n",
       "      <td>960.0</td>\n",
       "      <td>45.617500</td>\n",
       "      <td>-73.606011</td>\n",
       "      <td>NaN</td>\n",
       "      <td>NaN</td>\n",
       "      <td>NaN</td>\n",
       "    </tr>\n",
       "    <tr>\n",
       "      <th>4</th>\n",
       "      <td>Le Saint Bock</td>\n",
       "      <td>H2X 3K4</td>\n",
       "      <td>Bar</td>\n",
       "      <td>132.0</td>\n",
       "      <td>45.516926</td>\n",
       "      <td>-73.564257</td>\n",
       "      <td>NaN</td>\n",
       "      <td>NaN</td>\n",
       "      <td>NaN</td>\n",
       "    </tr>\n",
       "    <tr>\n",
       "      <th>...</th>\n",
       "      <td>...</td>\n",
       "      <td>...</td>\n",
       "      <td>...</td>\n",
       "      <td>...</td>\n",
       "      <td>...</td>\n",
       "      <td>...</td>\n",
       "      <td>...</td>\n",
       "      <td>...</td>\n",
       "      <td>...</td>\n",
       "    </tr>\n",
       "    <tr>\n",
       "      <th>5902</th>\n",
       "      <td>La Succursale</td>\n",
       "      <td>H1Y 1Y1</td>\n",
       "      <td>Lounge</td>\n",
       "      <td>607.0</td>\n",
       "      <td>45.545188</td>\n",
       "      <td>-73.576443</td>\n",
       "      <td>25.0</td>\n",
       "      <td>4.0</td>\n",
       "      <td>$$</td>\n",
       "    </tr>\n",
       "    <tr>\n",
       "      <th>5903</th>\n",
       "      <td>Pub Rosemont</td>\n",
       "      <td>H2G 1V2</td>\n",
       "      <td>Lounge</td>\n",
       "      <td>797.0</td>\n",
       "      <td>45.545188</td>\n",
       "      <td>-73.576443</td>\n",
       "      <td>NaN</td>\n",
       "      <td>NaN</td>\n",
       "      <td>NaN</td>\n",
       "    </tr>\n",
       "    <tr>\n",
       "      <th>5904</th>\n",
       "      <td>Chez Baptiste Sur Masson</td>\n",
       "      <td>H1Y 1X6</td>\n",
       "      <td>Bar</td>\n",
       "      <td>433.0</td>\n",
       "      <td>45.545188</td>\n",
       "      <td>-73.576443</td>\n",
       "      <td>NaN</td>\n",
       "      <td>NaN</td>\n",
       "      <td>NaN</td>\n",
       "    </tr>\n",
       "    <tr>\n",
       "      <th>5905</th>\n",
       "      <td>Broue Bar Gaspé</td>\n",
       "      <td>H1Y 1W1</td>\n",
       "      <td>Karaoke Bar</td>\n",
       "      <td>25.0</td>\n",
       "      <td>45.545188</td>\n",
       "      <td>-73.576443</td>\n",
       "      <td>NaN</td>\n",
       "      <td>NaN</td>\n",
       "      <td>NaN</td>\n",
       "    </tr>\n",
       "    <tr>\n",
       "      <th>5906</th>\n",
       "      <td>Aquarium Café Bar</td>\n",
       "      <td>H1Y 1X5</td>\n",
       "      <td>Dive Bar</td>\n",
       "      <td>377.0</td>\n",
       "      <td>45.545188</td>\n",
       "      <td>-73.576443</td>\n",
       "      <td>NaN</td>\n",
       "      <td>NaN</td>\n",
       "      <td>NaN</td>\n",
       "    </tr>\n",
       "  </tbody>\n",
       "</table>\n",
       "<p>5907 rows × 9 columns</p>\n",
       "</div>"
      ],
      "text/plain": [
       "                                           name postcode      category  \\\n",
       "0     Resto-bar Capucine - Nord-Est de Montréal      NaN    Sports Bar   \n",
       "1                     Piano Bar la Belle Epoque  H1G 2V6  Cocktail Bar   \n",
       "2                        Cafe liana bar & grill  H1E 1M4           Bar   \n",
       "3                                    La Veranda  H1G 2V5           Bar   \n",
       "4                                 Le Saint Bock  H2X 3K4           Bar   \n",
       "...                                         ...      ...           ...   \n",
       "5902                              La Succursale  H1Y 1Y1        Lounge   \n",
       "5903                               Pub Rosemont  H2G 1V2        Lounge   \n",
       "5904                   Chez Baptiste Sur Masson  H1Y 1X6           Bar   \n",
       "5905                            Broue Bar Gaspé  H1Y 1W1   Karaoke Bar   \n",
       "5906                          Aquarium Café Bar  H1Y 1X5      Dive Bar   \n",
       "\n",
       "      distance   latitude  longitude  review_count  rating price  \n",
       "0        246.0  45.617500 -73.606011           NaN     NaN   NaN  \n",
       "1        661.0  45.617500 -73.606011           NaN     NaN   NaN  \n",
       "2        809.0  45.617500 -73.606011           NaN     NaN   NaN  \n",
       "3        960.0  45.617500 -73.606011           NaN     NaN   NaN  \n",
       "4        132.0  45.516926 -73.564257           NaN     NaN   NaN  \n",
       "...        ...        ...        ...           ...     ...   ...  \n",
       "5902     607.0  45.545188 -73.576443          25.0     4.0    $$  \n",
       "5903     797.0  45.545188 -73.576443           NaN     NaN   NaN  \n",
       "5904     433.0  45.545188 -73.576443           NaN     NaN   NaN  \n",
       "5905      25.0  45.545188 -73.576443           NaN     NaN   NaN  \n",
       "5906     377.0  45.545188 -73.576443           NaN     NaN   NaN  \n",
       "\n",
       "[5907 rows x 9 columns]"
      ]
     },
     "execution_count": 8,
     "metadata": {},
     "output_type": "execute_result"
    }
   ],
   "source": [
    "# Check again the new 'fsq' dataframe after adding 'review_count', 'rating', 'price' from Yelp\n",
    "fsq"
   ]
  },
  {
   "cell_type": "markdown",
   "metadata": {},
   "source": [
    "Now, we just need to merge the new 'fsq' with the Citybikes data in the 'cb' dataframe."
   ]
  },
  {
   "cell_type": "code",
   "execution_count": 9,
   "metadata": {},
   "outputs": [
    {
     "data": {
      "text/html": [
       "<div>\n",
       "<style scoped>\n",
       "    .dataframe tbody tr th:only-of-type {\n",
       "        vertical-align: middle;\n",
       "    }\n",
       "\n",
       "    .dataframe tbody tr th {\n",
       "        vertical-align: top;\n",
       "    }\n",
       "\n",
       "    .dataframe thead th {\n",
       "        text-align: right;\n",
       "    }\n",
       "</style>\n",
       "<table border=\"1\" class=\"dataframe\">\n",
       "  <thead>\n",
       "    <tr style=\"text-align: right;\">\n",
       "      <th></th>\n",
       "      <th>cb_station_id</th>\n",
       "      <th>cb_station_name</th>\n",
       "      <th>cb_latitude</th>\n",
       "      <th>cb_longitude</th>\n",
       "      <th>cb_bike_num</th>\n",
       "      <th>name</th>\n",
       "      <th>postcode</th>\n",
       "      <th>category</th>\n",
       "      <th>distance</th>\n",
       "      <th>review_count</th>\n",
       "      <th>rating</th>\n",
       "      <th>price</th>\n",
       "    </tr>\n",
       "  </thead>\n",
       "  <tbody>\n",
       "    <tr>\n",
       "      <th>0</th>\n",
       "      <td>72bfd647b3d2b650546f42319729757d</td>\n",
       "      <td>Cégep Marie-Victorin</td>\n",
       "      <td>45.617500</td>\n",
       "      <td>-73.606011</td>\n",
       "      <td>11</td>\n",
       "      <td>Resto-bar Capucine - Nord-Est de Montréal</td>\n",
       "      <td>NaN</td>\n",
       "      <td>Sports Bar</td>\n",
       "      <td>246.0</td>\n",
       "      <td>NaN</td>\n",
       "      <td>NaN</td>\n",
       "      <td>NaN</td>\n",
       "    </tr>\n",
       "    <tr>\n",
       "      <th>1</th>\n",
       "      <td>72bfd647b3d2b650546f42319729757d</td>\n",
       "      <td>Cégep Marie-Victorin</td>\n",
       "      <td>45.617500</td>\n",
       "      <td>-73.606011</td>\n",
       "      <td>11</td>\n",
       "      <td>Piano Bar la Belle Epoque</td>\n",
       "      <td>H1G 2V6</td>\n",
       "      <td>Cocktail Bar</td>\n",
       "      <td>661.0</td>\n",
       "      <td>NaN</td>\n",
       "      <td>NaN</td>\n",
       "      <td>NaN</td>\n",
       "    </tr>\n",
       "    <tr>\n",
       "      <th>2</th>\n",
       "      <td>72bfd647b3d2b650546f42319729757d</td>\n",
       "      <td>Cégep Marie-Victorin</td>\n",
       "      <td>45.617500</td>\n",
       "      <td>-73.606011</td>\n",
       "      <td>11</td>\n",
       "      <td>Cafe liana bar &amp; grill</td>\n",
       "      <td>H1E 1M4</td>\n",
       "      <td>Bar</td>\n",
       "      <td>809.0</td>\n",
       "      <td>NaN</td>\n",
       "      <td>NaN</td>\n",
       "      <td>NaN</td>\n",
       "    </tr>\n",
       "    <tr>\n",
       "      <th>3</th>\n",
       "      <td>72bfd647b3d2b650546f42319729757d</td>\n",
       "      <td>Cégep Marie-Victorin</td>\n",
       "      <td>45.617500</td>\n",
       "      <td>-73.606011</td>\n",
       "      <td>11</td>\n",
       "      <td>La Veranda</td>\n",
       "      <td>H1G 2V5</td>\n",
       "      <td>Bar</td>\n",
       "      <td>960.0</td>\n",
       "      <td>NaN</td>\n",
       "      <td>NaN</td>\n",
       "      <td>NaN</td>\n",
       "    </tr>\n",
       "    <tr>\n",
       "      <th>4</th>\n",
       "      <td>36c6491aa1b52e5ef7005f984738de27</td>\n",
       "      <td>Gare d'autocars de Montréal (Berri / Ontario)</td>\n",
       "      <td>45.516926</td>\n",
       "      <td>-73.564257</td>\n",
       "      <td>15</td>\n",
       "      <td>Le Saint Bock</td>\n",
       "      <td>H2X 3K4</td>\n",
       "      <td>Bar</td>\n",
       "      <td>132.0</td>\n",
       "      <td>NaN</td>\n",
       "      <td>NaN</td>\n",
       "      <td>NaN</td>\n",
       "    </tr>\n",
       "    <tr>\n",
       "      <th>...</th>\n",
       "      <td>...</td>\n",
       "      <td>...</td>\n",
       "      <td>...</td>\n",
       "      <td>...</td>\n",
       "      <td>...</td>\n",
       "      <td>...</td>\n",
       "      <td>...</td>\n",
       "      <td>...</td>\n",
       "      <td>...</td>\n",
       "      <td>...</td>\n",
       "      <td>...</td>\n",
       "      <td>...</td>\n",
       "    </tr>\n",
       "    <tr>\n",
       "      <th>5902</th>\n",
       "      <td>6d0a3c1b3a79bb42f1125970e00cd5b1</td>\n",
       "      <td>Parc du Pélican (1ere Ave / Masson)</td>\n",
       "      <td>45.545188</td>\n",
       "      <td>-73.576443</td>\n",
       "      <td>39</td>\n",
       "      <td>La Succursale</td>\n",
       "      <td>H1Y 1Y1</td>\n",
       "      <td>Lounge</td>\n",
       "      <td>607.0</td>\n",
       "      <td>25.0</td>\n",
       "      <td>4.0</td>\n",
       "      <td>$$</td>\n",
       "    </tr>\n",
       "    <tr>\n",
       "      <th>5903</th>\n",
       "      <td>6d0a3c1b3a79bb42f1125970e00cd5b1</td>\n",
       "      <td>Parc du Pélican (1ere Ave / Masson)</td>\n",
       "      <td>45.545188</td>\n",
       "      <td>-73.576443</td>\n",
       "      <td>39</td>\n",
       "      <td>Pub Rosemont</td>\n",
       "      <td>H2G 1V2</td>\n",
       "      <td>Lounge</td>\n",
       "      <td>797.0</td>\n",
       "      <td>NaN</td>\n",
       "      <td>NaN</td>\n",
       "      <td>NaN</td>\n",
       "    </tr>\n",
       "    <tr>\n",
       "      <th>5904</th>\n",
       "      <td>6d0a3c1b3a79bb42f1125970e00cd5b1</td>\n",
       "      <td>Parc du Pélican (1ere Ave / Masson)</td>\n",
       "      <td>45.545188</td>\n",
       "      <td>-73.576443</td>\n",
       "      <td>39</td>\n",
       "      <td>Chez Baptiste Sur Masson</td>\n",
       "      <td>H1Y 1X6</td>\n",
       "      <td>Bar</td>\n",
       "      <td>433.0</td>\n",
       "      <td>NaN</td>\n",
       "      <td>NaN</td>\n",
       "      <td>NaN</td>\n",
       "    </tr>\n",
       "    <tr>\n",
       "      <th>5905</th>\n",
       "      <td>6d0a3c1b3a79bb42f1125970e00cd5b1</td>\n",
       "      <td>Parc du Pélican (1ere Ave / Masson)</td>\n",
       "      <td>45.545188</td>\n",
       "      <td>-73.576443</td>\n",
       "      <td>39</td>\n",
       "      <td>Broue Bar Gaspé</td>\n",
       "      <td>H1Y 1W1</td>\n",
       "      <td>Karaoke Bar</td>\n",
       "      <td>25.0</td>\n",
       "      <td>NaN</td>\n",
       "      <td>NaN</td>\n",
       "      <td>NaN</td>\n",
       "    </tr>\n",
       "    <tr>\n",
       "      <th>5906</th>\n",
       "      <td>6d0a3c1b3a79bb42f1125970e00cd5b1</td>\n",
       "      <td>Parc du Pélican (1ere Ave / Masson)</td>\n",
       "      <td>45.545188</td>\n",
       "      <td>-73.576443</td>\n",
       "      <td>39</td>\n",
       "      <td>Aquarium Café Bar</td>\n",
       "      <td>H1Y 1X5</td>\n",
       "      <td>Dive Bar</td>\n",
       "      <td>377.0</td>\n",
       "      <td>NaN</td>\n",
       "      <td>NaN</td>\n",
       "      <td>NaN</td>\n",
       "    </tr>\n",
       "  </tbody>\n",
       "</table>\n",
       "<p>5907 rows × 12 columns</p>\n",
       "</div>"
      ],
      "text/plain": [
       "                         cb_station_id  \\\n",
       "0     72bfd647b3d2b650546f42319729757d   \n",
       "1     72bfd647b3d2b650546f42319729757d   \n",
       "2     72bfd647b3d2b650546f42319729757d   \n",
       "3     72bfd647b3d2b650546f42319729757d   \n",
       "4     36c6491aa1b52e5ef7005f984738de27   \n",
       "...                                ...   \n",
       "5902  6d0a3c1b3a79bb42f1125970e00cd5b1   \n",
       "5903  6d0a3c1b3a79bb42f1125970e00cd5b1   \n",
       "5904  6d0a3c1b3a79bb42f1125970e00cd5b1   \n",
       "5905  6d0a3c1b3a79bb42f1125970e00cd5b1   \n",
       "5906  6d0a3c1b3a79bb42f1125970e00cd5b1   \n",
       "\n",
       "                                    cb_station_name  cb_latitude  \\\n",
       "0                              Cégep Marie-Victorin    45.617500   \n",
       "1                              Cégep Marie-Victorin    45.617500   \n",
       "2                              Cégep Marie-Victorin    45.617500   \n",
       "3                              Cégep Marie-Victorin    45.617500   \n",
       "4     Gare d'autocars de Montréal (Berri / Ontario)    45.516926   \n",
       "...                                             ...          ...   \n",
       "5902            Parc du Pélican (1ere Ave / Masson)    45.545188   \n",
       "5903            Parc du Pélican (1ere Ave / Masson)    45.545188   \n",
       "5904            Parc du Pélican (1ere Ave / Masson)    45.545188   \n",
       "5905            Parc du Pélican (1ere Ave / Masson)    45.545188   \n",
       "5906            Parc du Pélican (1ere Ave / Masson)    45.545188   \n",
       "\n",
       "      cb_longitude  cb_bike_num                                       name  \\\n",
       "0       -73.606011           11  Resto-bar Capucine - Nord-Est de Montréal   \n",
       "1       -73.606011           11                  Piano Bar la Belle Epoque   \n",
       "2       -73.606011           11                     Cafe liana bar & grill   \n",
       "3       -73.606011           11                                 La Veranda   \n",
       "4       -73.564257           15                              Le Saint Bock   \n",
       "...            ...          ...                                        ...   \n",
       "5902    -73.576443           39                              La Succursale   \n",
       "5903    -73.576443           39                               Pub Rosemont   \n",
       "5904    -73.576443           39                   Chez Baptiste Sur Masson   \n",
       "5905    -73.576443           39                            Broue Bar Gaspé   \n",
       "5906    -73.576443           39                          Aquarium Café Bar   \n",
       "\n",
       "     postcode      category  distance  review_count  rating price  \n",
       "0         NaN    Sports Bar     246.0           NaN     NaN   NaN  \n",
       "1     H1G 2V6  Cocktail Bar     661.0           NaN     NaN   NaN  \n",
       "2     H1E 1M4           Bar     809.0           NaN     NaN   NaN  \n",
       "3     H1G 2V5           Bar     960.0           NaN     NaN   NaN  \n",
       "4     H2X 3K4           Bar     132.0           NaN     NaN   NaN  \n",
       "...       ...           ...       ...           ...     ...   ...  \n",
       "5902  H1Y 1Y1        Lounge     607.0          25.0     4.0    $$  \n",
       "5903  H2G 1V2        Lounge     797.0           NaN     NaN   NaN  \n",
       "5904  H1Y 1X6           Bar     433.0           NaN     NaN   NaN  \n",
       "5905  H1Y 1W1   Karaoke Bar      25.0           NaN     NaN   NaN  \n",
       "5906  H1Y 1X5      Dive Bar     377.0           NaN     NaN   NaN  \n",
       "\n",
       "[5907 rows x 12 columns]"
      ]
     },
     "execution_count": 9,
     "metadata": {},
     "output_type": "execute_result"
    }
   ],
   "source": [
    "# Merge 'cb' and 'fsq' based on 'cb_latitude' and 'cb_longitude' in 'cb' and 'latitude' and 'longitude' in 'fsq'\n",
    "merged_all_df = pd.merge(cb, fsq, left_on=['cb_latitude', 'cb_longitude'], right_on=['latitude', 'longitude'], how='inner')\n",
    "\n",
    "# Drop the repeated 'latitude' and 'longitude' columns from the merged DataFrame\n",
    "merged_all_df = merged_all_df.drop(['latitude', 'longitude'], axis=1)\n",
    "\n",
    "merged_all_df"
   ]
  },
  {
   "cell_type": "code",
   "execution_count": 10,
   "metadata": {},
   "outputs": [
    {
     "data": {
      "text/plain": [
       "(5907, 12)"
      ]
     },
     "execution_count": 10,
     "metadata": {},
     "output_type": "execute_result"
    }
   ],
   "source": [
    "merged_all_df.shape"
   ]
  },
  {
   "cell_type": "code",
   "execution_count": 11,
   "metadata": {},
   "outputs": [],
   "source": [
    "# Save our master dataframe 'merged_all_df' results to csv\n",
    "merged_all_df.to_csv('../data/merged_all_df.csv', index=False)"
   ]
  },
  {
   "cell_type": "markdown",
   "metadata": {},
   "source": [
    "### Exploring the data"
   ]
  },
  {
   "cell_type": "code",
   "execution_count": 12,
   "metadata": {},
   "outputs": [
    {
     "name": "stdout",
     "output_type": "stream",
     "text": [
      "<class 'pandas.core.frame.DataFrame'>\n",
      "Int64Index: 5907 entries, 0 to 5906\n",
      "Data columns (total 12 columns):\n",
      " #   Column           Non-Null Count  Dtype  \n",
      "---  ------           --------------  -----  \n",
      " 0   cb_station_id    5907 non-null   object \n",
      " 1   cb_station_name  5907 non-null   object \n",
      " 2   cb_latitude      5907 non-null   float64\n",
      " 3   cb_longitude     5907 non-null   float64\n",
      " 4   cb_bike_num      5907 non-null   int64  \n",
      " 5   name             5907 non-null   object \n",
      " 6   postcode         5726 non-null   object \n",
      " 7   category         5907 non-null   object \n",
      " 8   distance         5907 non-null   float64\n",
      " 9   review_count     1757 non-null   float64\n",
      " 10  rating           1757 non-null   float64\n",
      " 11  price            1525 non-null   object \n",
      "dtypes: float64(5), int64(1), object(6)\n",
      "memory usage: 599.9+ KB\n"
     ]
    }
   ],
   "source": [
    "merged_all_df.info()"
   ]
  },
  {
   "cell_type": "markdown",
   "metadata": {},
   "source": [
    "Provide a visualization that you used as part of your EDA process. Explain the initial pattern or relationship you discoved through this visualization. "
   ]
  },
  {
   "cell_type": "code",
   "execution_count": 13,
   "metadata": {},
   "outputs": [
    {
     "data": {
      "text/html": [
       "<div>\n",
       "<style scoped>\n",
       "    .dataframe tbody tr th:only-of-type {\n",
       "        vertical-align: middle;\n",
       "    }\n",
       "\n",
       "    .dataframe tbody tr th {\n",
       "        vertical-align: top;\n",
       "    }\n",
       "\n",
       "    .dataframe thead th {\n",
       "        text-align: right;\n",
       "    }\n",
       "</style>\n",
       "<table border=\"1\" class=\"dataframe\">\n",
       "  <thead>\n",
       "    <tr style=\"text-align: right;\">\n",
       "      <th></th>\n",
       "      <th>cb_latitude</th>\n",
       "      <th>cb_longitude</th>\n",
       "      <th>cb_bike_num</th>\n",
       "      <th>distance</th>\n",
       "      <th>review_count</th>\n",
       "      <th>rating</th>\n",
       "    </tr>\n",
       "  </thead>\n",
       "  <tbody>\n",
       "    <tr>\n",
       "      <th>count</th>\n",
       "      <td>5907.000000</td>\n",
       "      <td>5907.000000</td>\n",
       "      <td>5907.000000</td>\n",
       "      <td>5907.00000</td>\n",
       "      <td>1757.000000</td>\n",
       "      <td>1757.000000</td>\n",
       "    </tr>\n",
       "    <tr>\n",
       "      <th>mean</th>\n",
       "      <td>45.521242</td>\n",
       "      <td>-73.587392</td>\n",
       "      <td>22.743525</td>\n",
       "      <td>584.92839</td>\n",
       "      <td>75.631759</td>\n",
       "      <td>3.895845</td>\n",
       "    </tr>\n",
       "    <tr>\n",
       "      <th>std</th>\n",
       "      <td>0.030818</td>\n",
       "      <td>0.034018</td>\n",
       "      <td>7.579631</td>\n",
       "      <td>255.71585</td>\n",
       "      <td>72.566797</td>\n",
       "      <td>0.512897</td>\n",
       "    </tr>\n",
       "    <tr>\n",
       "      <th>min</th>\n",
       "      <td>45.417746</td>\n",
       "      <td>-73.758227</td>\n",
       "      <td>11.000000</td>\n",
       "      <td>5.00000</td>\n",
       "      <td>1.000000</td>\n",
       "      <td>2.000000</td>\n",
       "    </tr>\n",
       "    <tr>\n",
       "      <th>25%</th>\n",
       "      <td>45.501863</td>\n",
       "      <td>-73.603984</td>\n",
       "      <td>19.000000</td>\n",
       "      <td>385.00000</td>\n",
       "      <td>20.000000</td>\n",
       "      <td>3.500000</td>\n",
       "    </tr>\n",
       "    <tr>\n",
       "      <th>50%</th>\n",
       "      <td>45.523615</td>\n",
       "      <td>-73.579389</td>\n",
       "      <td>23.000000</td>\n",
       "      <td>597.00000</td>\n",
       "      <td>44.000000</td>\n",
       "      <td>4.000000</td>\n",
       "    </tr>\n",
       "    <tr>\n",
       "      <th>75%</th>\n",
       "      <td>45.539385</td>\n",
       "      <td>-73.565987</td>\n",
       "      <td>27.000000</td>\n",
       "      <td>801.00000</td>\n",
       "      <td>121.000000</td>\n",
       "      <td>4.000000</td>\n",
       "    </tr>\n",
       "    <tr>\n",
       "      <th>max</th>\n",
       "      <td>45.702349</td>\n",
       "      <td>-73.436058</td>\n",
       "      <td>81.000000</td>\n",
       "      <td>1151.00000</td>\n",
       "      <td>388.000000</td>\n",
       "      <td>5.000000</td>\n",
       "    </tr>\n",
       "  </tbody>\n",
       "</table>\n",
       "</div>"
      ],
      "text/plain": [
       "       cb_latitude  cb_longitude  cb_bike_num    distance  review_count  \\\n",
       "count  5907.000000   5907.000000  5907.000000  5907.00000   1757.000000   \n",
       "mean     45.521242    -73.587392    22.743525   584.92839     75.631759   \n",
       "std       0.030818      0.034018     7.579631   255.71585     72.566797   \n",
       "min      45.417746    -73.758227    11.000000     5.00000      1.000000   \n",
       "25%      45.501863    -73.603984    19.000000   385.00000     20.000000   \n",
       "50%      45.523615    -73.579389    23.000000   597.00000     44.000000   \n",
       "75%      45.539385    -73.565987    27.000000   801.00000    121.000000   \n",
       "max      45.702349    -73.436058    81.000000  1151.00000    388.000000   \n",
       "\n",
       "            rating  \n",
       "count  1757.000000  \n",
       "mean      3.895845  \n",
       "std       0.512897  \n",
       "min       2.000000  \n",
       "25%       3.500000  \n",
       "50%       4.000000  \n",
       "75%       4.000000  \n",
       "max       5.000000  "
      ]
     },
     "execution_count": 13,
     "metadata": {},
     "output_type": "execute_result"
    }
   ],
   "source": [
    "merged_all_df.describe()"
   ]
  },
  {
   "cell_type": "code",
   "execution_count": 14,
   "metadata": {},
   "outputs": [],
   "source": [
    "# Add a new column 'unique_name_count' to store the count of unique bars per citybike station in Montreal\n",
    "merged_all_df['cb_name_count'] = merged_all_df.groupby('cb_station_name')['name'].transform('nunique')"
   ]
  },
  {
   "cell_type": "code",
   "execution_count": 15,
   "metadata": {},
   "outputs": [
    {
     "data": {
      "text/html": [
       "<div>\n",
       "<style scoped>\n",
       "    .dataframe tbody tr th:only-of-type {\n",
       "        vertical-align: middle;\n",
       "    }\n",
       "\n",
       "    .dataframe tbody tr th {\n",
       "        vertical-align: top;\n",
       "    }\n",
       "\n",
       "    .dataframe thead th {\n",
       "        text-align: right;\n",
       "    }\n",
       "</style>\n",
       "<table border=\"1\" class=\"dataframe\">\n",
       "  <thead>\n",
       "    <tr style=\"text-align: right;\">\n",
       "      <th></th>\n",
       "      <th>cb_station_id</th>\n",
       "      <th>cb_station_name</th>\n",
       "      <th>cb_latitude</th>\n",
       "      <th>cb_longitude</th>\n",
       "      <th>cb_bike_num</th>\n",
       "      <th>name</th>\n",
       "      <th>postcode</th>\n",
       "      <th>category</th>\n",
       "      <th>distance</th>\n",
       "      <th>review_count</th>\n",
       "      <th>rating</th>\n",
       "      <th>price</th>\n",
       "      <th>cb_name_count</th>\n",
       "    </tr>\n",
       "  </thead>\n",
       "  <tbody>\n",
       "    <tr>\n",
       "      <th>0</th>\n",
       "      <td>72bfd647b3d2b650546f42319729757d</td>\n",
       "      <td>Cégep Marie-Victorin</td>\n",
       "      <td>45.617500</td>\n",
       "      <td>-73.606011</td>\n",
       "      <td>11</td>\n",
       "      <td>Resto-bar Capucine - Nord-Est de Montréal</td>\n",
       "      <td>NaN</td>\n",
       "      <td>Sports Bar</td>\n",
       "      <td>246.0</td>\n",
       "      <td>NaN</td>\n",
       "      <td>NaN</td>\n",
       "      <td>NaN</td>\n",
       "      <td>4</td>\n",
       "    </tr>\n",
       "    <tr>\n",
       "      <th>1</th>\n",
       "      <td>72bfd647b3d2b650546f42319729757d</td>\n",
       "      <td>Cégep Marie-Victorin</td>\n",
       "      <td>45.617500</td>\n",
       "      <td>-73.606011</td>\n",
       "      <td>11</td>\n",
       "      <td>Piano Bar la Belle Epoque</td>\n",
       "      <td>H1G 2V6</td>\n",
       "      <td>Cocktail Bar</td>\n",
       "      <td>661.0</td>\n",
       "      <td>NaN</td>\n",
       "      <td>NaN</td>\n",
       "      <td>NaN</td>\n",
       "      <td>4</td>\n",
       "    </tr>\n",
       "    <tr>\n",
       "      <th>2</th>\n",
       "      <td>72bfd647b3d2b650546f42319729757d</td>\n",
       "      <td>Cégep Marie-Victorin</td>\n",
       "      <td>45.617500</td>\n",
       "      <td>-73.606011</td>\n",
       "      <td>11</td>\n",
       "      <td>Cafe liana bar &amp; grill</td>\n",
       "      <td>H1E 1M4</td>\n",
       "      <td>Bar</td>\n",
       "      <td>809.0</td>\n",
       "      <td>NaN</td>\n",
       "      <td>NaN</td>\n",
       "      <td>NaN</td>\n",
       "      <td>4</td>\n",
       "    </tr>\n",
       "    <tr>\n",
       "      <th>3</th>\n",
       "      <td>72bfd647b3d2b650546f42319729757d</td>\n",
       "      <td>Cégep Marie-Victorin</td>\n",
       "      <td>45.617500</td>\n",
       "      <td>-73.606011</td>\n",
       "      <td>11</td>\n",
       "      <td>La Veranda</td>\n",
       "      <td>H1G 2V5</td>\n",
       "      <td>Bar</td>\n",
       "      <td>960.0</td>\n",
       "      <td>NaN</td>\n",
       "      <td>NaN</td>\n",
       "      <td>NaN</td>\n",
       "      <td>4</td>\n",
       "    </tr>\n",
       "    <tr>\n",
       "      <th>4</th>\n",
       "      <td>36c6491aa1b52e5ef7005f984738de27</td>\n",
       "      <td>Gare d'autocars de Montréal (Berri / Ontario)</td>\n",
       "      <td>45.516926</td>\n",
       "      <td>-73.564257</td>\n",
       "      <td>15</td>\n",
       "      <td>Le Saint Bock</td>\n",
       "      <td>H2X 3K4</td>\n",
       "      <td>Bar</td>\n",
       "      <td>132.0</td>\n",
       "      <td>NaN</td>\n",
       "      <td>NaN</td>\n",
       "      <td>NaN</td>\n",
       "      <td>10</td>\n",
       "    </tr>\n",
       "  </tbody>\n",
       "</table>\n",
       "</div>"
      ],
      "text/plain": [
       "                      cb_station_id  \\\n",
       "0  72bfd647b3d2b650546f42319729757d   \n",
       "1  72bfd647b3d2b650546f42319729757d   \n",
       "2  72bfd647b3d2b650546f42319729757d   \n",
       "3  72bfd647b3d2b650546f42319729757d   \n",
       "4  36c6491aa1b52e5ef7005f984738de27   \n",
       "\n",
       "                                 cb_station_name  cb_latitude  cb_longitude  \\\n",
       "0                           Cégep Marie-Victorin    45.617500    -73.606011   \n",
       "1                           Cégep Marie-Victorin    45.617500    -73.606011   \n",
       "2                           Cégep Marie-Victorin    45.617500    -73.606011   \n",
       "3                           Cégep Marie-Victorin    45.617500    -73.606011   \n",
       "4  Gare d'autocars de Montréal (Berri / Ontario)    45.516926    -73.564257   \n",
       "\n",
       "   cb_bike_num                                       name postcode  \\\n",
       "0           11  Resto-bar Capucine - Nord-Est de Montréal      NaN   \n",
       "1           11                  Piano Bar la Belle Epoque  H1G 2V6   \n",
       "2           11                     Cafe liana bar & grill  H1E 1M4   \n",
       "3           11                                 La Veranda  H1G 2V5   \n",
       "4           15                              Le Saint Bock  H2X 3K4   \n",
       "\n",
       "       category  distance  review_count  rating price  cb_name_count  \n",
       "0    Sports Bar     246.0           NaN     NaN   NaN              4  \n",
       "1  Cocktail Bar     661.0           NaN     NaN   NaN              4  \n",
       "2           Bar     809.0           NaN     NaN   NaN              4  \n",
       "3           Bar     960.0           NaN     NaN   NaN              4  \n",
       "4           Bar     132.0           NaN     NaN   NaN             10  "
      ]
     },
     "execution_count": 15,
     "metadata": {},
     "output_type": "execute_result"
    }
   ],
   "source": [
    "merged_all_df.head()"
   ]
  },
  {
   "cell_type": "code",
   "execution_count": 16,
   "metadata": {},
   "outputs": [
    {
     "data": {
      "text/plain": [
       "cb_station_id         0\n",
       "cb_station_name       0\n",
       "cb_latitude           0\n",
       "cb_longitude          0\n",
       "cb_bike_num           0\n",
       "name                  0\n",
       "postcode            181\n",
       "category              0\n",
       "distance              0\n",
       "review_count       4150\n",
       "rating             4150\n",
       "price              4382\n",
       "cb_name_count         0\n",
       "dtype: int64"
      ]
     },
     "execution_count": 16,
     "metadata": {},
     "output_type": "execute_result"
    }
   ],
   "source": [
    "# Check where the missing values are located\n",
    "merged_all_df.isnull().sum()"
   ]
  },
  {
   "cell_type": "markdown",
   "metadata": {},
   "source": [
    "* Treat missing values in 'postcode':"
   ]
  },
  {
   "cell_type": "code",
   "execution_count": 17,
   "metadata": {},
   "outputs": [
    {
     "data": {
      "text/html": [
       "<div>\n",
       "<style scoped>\n",
       "    .dataframe tbody tr th:only-of-type {\n",
       "        vertical-align: middle;\n",
       "    }\n",
       "\n",
       "    .dataframe tbody tr th {\n",
       "        vertical-align: top;\n",
       "    }\n",
       "\n",
       "    .dataframe thead th {\n",
       "        text-align: right;\n",
       "    }\n",
       "</style>\n",
       "<table border=\"1\" class=\"dataframe\">\n",
       "  <thead>\n",
       "    <tr style=\"text-align: right;\">\n",
       "      <th></th>\n",
       "      <th>name</th>\n",
       "      <th>postcode</th>\n",
       "    </tr>\n",
       "  </thead>\n",
       "  <tbody>\n",
       "    <tr>\n",
       "      <th>0</th>\n",
       "      <td>Le 4e Mur</td>\n",
       "      <td>H2X 3K8</td>\n",
       "    </tr>\n",
       "    <tr>\n",
       "      <th>1</th>\n",
       "      <td>La Distillerie No.1</td>\n",
       "      <td>H2X 1H6</td>\n",
       "    </tr>\n",
       "    <tr>\n",
       "      <th>2</th>\n",
       "      <td>Les Deux Gamins</td>\n",
       "      <td>H2X 1B7</td>\n",
       "    </tr>\n",
       "    <tr>\n",
       "      <th>3</th>\n",
       "      <td>Les 3 Brasseurs</td>\n",
       "      <td>H2X 3K6</td>\n",
       "    </tr>\n",
       "    <tr>\n",
       "      <th>4</th>\n",
       "      <td>Randolph Pub Ludique</td>\n",
       "      <td>H2X 3K8</td>\n",
       "    </tr>\n",
       "    <tr>\n",
       "      <th>...</th>\n",
       "      <td>...</td>\n",
       "      <td>...</td>\n",
       "    </tr>\n",
       "    <tr>\n",
       "      <th>7247</th>\n",
       "      <td>La Confrérie</td>\n",
       "      <td>J6W 1E3</td>\n",
       "    </tr>\n",
       "    <tr>\n",
       "      <th>7248</th>\n",
       "      <td>La Buvette du Vieux-Terrebonne</td>\n",
       "      <td>J6W 1J9</td>\n",
       "    </tr>\n",
       "    <tr>\n",
       "      <th>7959</th>\n",
       "      <td>Le Boudoir Cafe Bar</td>\n",
       "      <td>H2J 1X1</td>\n",
       "    </tr>\n",
       "    <tr>\n",
       "      <th>8060</th>\n",
       "      <td>Peroni Resto Bar</td>\n",
       "      <td>H3B</td>\n",
       "    </tr>\n",
       "    <tr>\n",
       "      <th>8194</th>\n",
       "      <td>Robert Burns Pub</td>\n",
       "      <td>H4W 2B4</td>\n",
       "    </tr>\n",
       "  </tbody>\n",
       "</table>\n",
       "<p>499 rows × 2 columns</p>\n",
       "</div>"
      ],
      "text/plain": [
       "                                name postcode\n",
       "0                          Le 4e Mur  H2X 3K8\n",
       "1                La Distillerie No.1  H2X 1H6\n",
       "2                    Les Deux Gamins  H2X 1B7\n",
       "3                    Les 3 Brasseurs  H2X 3K6\n",
       "4               Randolph Pub Ludique  H2X 3K8\n",
       "...                              ...      ...\n",
       "7247                    La Confrérie  J6W 1E3\n",
       "7248  La Buvette du Vieux-Terrebonne  J6W 1J9\n",
       "7959             Le Boudoir Cafe Bar  H2J 1X1\n",
       "8060                Peroni Resto Bar      H3B\n",
       "8194                Robert Burns Pub  H4W 2B4\n",
       "\n",
       "[499 rows x 2 columns]"
      ]
     },
     "execution_count": 17,
     "metadata": {},
     "output_type": "execute_result"
    }
   ],
   "source": [
    "yelp[['name','postcode']].drop_duplicates()"
   ]
  },
  {
   "cell_type": "code",
   "execution_count": 18,
   "metadata": {},
   "outputs": [],
   "source": [
    "# Create a mapping of 'name' to 'postcode' from the Yelp dataframe above. It has a bigger dataset than Foursquare\n",
    "unique_yelp_postcode_mapping = yelp[['name', 'postcode']].drop_duplicates().set_index('name')['postcode'].to_dict()\n",
    "\n",
    "# Use the mapping to fill missing 'postcode' values in merged_all_df\n",
    "merged_all_df['postcode'].fillna(merged_all_df['name'].map(unique_yelp_postcode_mapping), inplace=True)"
   ]
  },
  {
   "cell_type": "code",
   "execution_count": 19,
   "metadata": {},
   "outputs": [
    {
     "data": {
      "text/plain": [
       "176"
      ]
     },
     "execution_count": 19,
     "metadata": {},
     "output_type": "execute_result"
    }
   ],
   "source": [
    "merged_all_df['postcode'].isnull().sum()"
   ]
  },
  {
   "cell_type": "code",
   "execution_count": 20,
   "metadata": {},
   "outputs": [],
   "source": [
    "# Fill the rest of 176 missing values in 'postcode' with 'Postcode Unavailable'\n",
    "merged_all_df['postcode'].fillna('Unavailable', inplace=True)"
   ]
  },
  {
   "cell_type": "markdown",
   "metadata": {},
   "source": [
    "* Treat missing values in 'review_count', 'rating':"
   ]
  },
  {
   "cell_type": "code",
   "execution_count": 21,
   "metadata": {},
   "outputs": [
    {
     "data": {
      "image/png": "[encoded data removed]",
      "text/plain": [
       "<Figure size 1400x400 with 2 Axes>"
      ]
     },
     "metadata": {},
     "output_type": "display_data"
    }
   ],
   "source": [
    "# Create 2 graphs to visualize the distribution of  'review_count' and 'rating':\n",
    "fig, axes = plt.subplots(nrows=1, ncols=2, figsize=(14, 4))\n",
    "\n",
    "# Plot 0\n",
    "axes[0].hist(merged_all_df['review_count'])\n",
    "axes[0].set_title('Histogram of review_count')\n",
    "axes[0].set_xlabel('review_count')\n",
    "axes[0].set_ylabel('counts')\n",
    "\n",
    "# Plot 1\n",
    "axes[1].hist(merged_all_df['rating'], color='green')\n",
    "axes[1].set_title('Histogram of rating')\n",
    "axes[1].set_xlabel('rating')\n",
    "axes[1].set_ylabel('counts')\n",
    "axes[1].set_xlim(left=0)\n",
    "\n",
    "plt.show()"
   ]
  },
  {
   "cell_type": "code",
   "execution_count": 22,
   "metadata": {},
   "outputs": [],
   "source": [
    "# As the distributions of these two columns are skewed, we will fill in the missing values with the median.\n",
    "merged_all_df['review_count'].fillna(merged_all_df['review_count'].median(), inplace=True)\n",
    "merged_all_df['rating'].fillna(merged_all_df['rating'].median(), inplace=True)"
   ]
  },
  {
   "cell_type": "markdown",
   "metadata": {},
   "source": [
    "* Treat missing values in 'price':"
   ]
  },
  {
   "cell_type": "code",
   "execution_count": 23,
   "metadata": {},
   "outputs": [
    {
     "data": {
      "text/plain": [
       "$$     1243\n",
       "$$$     179\n",
       "$       103\n",
       "Name: price, dtype: int64"
      ]
     },
     "execution_count": 23,
     "metadata": {},
     "output_type": "execute_result"
    }
   ],
   "source": [
    "merged_all_df['price'].value_counts()"
   ]
  },
  {
   "cell_type": "code",
   "execution_count": 24,
   "metadata": {},
   "outputs": [
    {
     "data": {
      "text/plain": [
       "$$     81.508197\n",
       "$$$    11.737705\n",
       "$       6.754098\n",
       "Name: price, dtype: float64"
      ]
     },
     "execution_count": 24,
     "metadata": {},
     "output_type": "execute_result"
    }
   ],
   "source": [
    "# Calculate the percentage of each price category\n",
    "(merged_all_df['price'].value_counts() / merged_all_df['price'].notnull().sum()) * 100"
   ]
  },
  {
   "cell_type": "code",
   "execution_count": 25,
   "metadata": {},
   "outputs": [],
   "source": [
    "# The '$$' value is most populated with > 80%, we'll use it to fill in missing values in this column\n",
    "merged_all_df['price'].fillna('$$', inplace=True)"
   ]
  },
  {
   "cell_type": "markdown",
   "metadata": {},
   "source": [
    "According to this paper at: https://journals.plos.org/plosone/article?id=10.1371/journal.pone.0252157#:~:text=Yelp%20use%20dollar%20signs%20(%24),higher%20level%20means%20more%20expensive\n",
    "\n",
    "\"Yelp uses dollar signs to categorize approximate cost per person for a meal in a restaurant. In particular, one dollar sign means under 10 dollars; two dollar signs means from 11 to 30 dollars; three dollar signa means from 31 to 60 dollars; and four dollar signs means above 61 dollars.\n",
    "\n",
    "We can reassign the funky dollar sign values in 'price' column into a categorical system that takes 1 to 4 as price levels. Higher level means more expensive."
   ]
  },
  {
   "cell_type": "code",
   "execution_count": 26,
   "metadata": {},
   "outputs": [],
   "source": [
    "def assign_price_level(price):\n",
    "    if price == '$':\n",
    "        return 1\n",
    "    elif price == '$$':\n",
    "        return 2\n",
    "    elif price == '$$$':\n",
    "        return 3\n",
    "    else:\n",
    "        return 4\n",
    "    \n",
    "merged_all_df['price_level'] = merged_all_df['price'].apply(assign_price_level)"
   ]
  },
  {
   "cell_type": "code",
   "execution_count": 27,
   "metadata": {},
   "outputs": [],
   "source": [
    "# Drop 'price' as we already indicated the same thing in 'price_level'\n",
    "merged_all_df = merged_all_df.drop('price', axis=1)"
   ]
  },
  {
   "cell_type": "code",
   "execution_count": 28,
   "metadata": {},
   "outputs": [
    {
     "data": {
      "text/html": [
       "<div>\n",
       "<style scoped>\n",
       "    .dataframe tbody tr th:only-of-type {\n",
       "        vertical-align: middle;\n",
       "    }\n",
       "\n",
       "    .dataframe tbody tr th {\n",
       "        vertical-align: top;\n",
       "    }\n",
       "\n",
       "    .dataframe thead th {\n",
       "        text-align: right;\n",
       "    }\n",
       "</style>\n",
       "<table border=\"1\" class=\"dataframe\">\n",
       "  <thead>\n",
       "    <tr style=\"text-align: right;\">\n",
       "      <th></th>\n",
       "      <th>cb_station_id</th>\n",
       "      <th>cb_station_name</th>\n",
       "      <th>cb_latitude</th>\n",
       "      <th>cb_longitude</th>\n",
       "      <th>cb_bike_num</th>\n",
       "      <th>name</th>\n",
       "      <th>postcode</th>\n",
       "      <th>category</th>\n",
       "      <th>distance</th>\n",
       "      <th>review_count</th>\n",
       "      <th>rating</th>\n",
       "      <th>cb_name_count</th>\n",
       "      <th>price_level</th>\n",
       "    </tr>\n",
       "  </thead>\n",
       "  <tbody>\n",
       "    <tr>\n",
       "      <th>0</th>\n",
       "      <td>72bfd647b3d2b650546f42319729757d</td>\n",
       "      <td>Cégep Marie-Victorin</td>\n",
       "      <td>45.617500</td>\n",
       "      <td>-73.606011</td>\n",
       "      <td>11</td>\n",
       "      <td>Resto-bar Capucine - Nord-Est de Montréal</td>\n",
       "      <td>Unavailable</td>\n",
       "      <td>Sports Bar</td>\n",
       "      <td>246.0</td>\n",
       "      <td>44.0</td>\n",
       "      <td>4.0</td>\n",
       "      <td>4</td>\n",
       "      <td>2</td>\n",
       "    </tr>\n",
       "    <tr>\n",
       "      <th>1</th>\n",
       "      <td>72bfd647b3d2b650546f42319729757d</td>\n",
       "      <td>Cégep Marie-Victorin</td>\n",
       "      <td>45.617500</td>\n",
       "      <td>-73.606011</td>\n",
       "      <td>11</td>\n",
       "      <td>Piano Bar la Belle Epoque</td>\n",
       "      <td>H1G 2V6</td>\n",
       "      <td>Cocktail Bar</td>\n",
       "      <td>661.0</td>\n",
       "      <td>44.0</td>\n",
       "      <td>4.0</td>\n",
       "      <td>4</td>\n",
       "      <td>2</td>\n",
       "    </tr>\n",
       "    <tr>\n",
       "      <th>2</th>\n",
       "      <td>72bfd647b3d2b650546f42319729757d</td>\n",
       "      <td>Cégep Marie-Victorin</td>\n",
       "      <td>45.617500</td>\n",
       "      <td>-73.606011</td>\n",
       "      <td>11</td>\n",
       "      <td>Cafe liana bar &amp; grill</td>\n",
       "      <td>H1E 1M4</td>\n",
       "      <td>Bar</td>\n",
       "      <td>809.0</td>\n",
       "      <td>44.0</td>\n",
       "      <td>4.0</td>\n",
       "      <td>4</td>\n",
       "      <td>2</td>\n",
       "    </tr>\n",
       "    <tr>\n",
       "      <th>3</th>\n",
       "      <td>72bfd647b3d2b650546f42319729757d</td>\n",
       "      <td>Cégep Marie-Victorin</td>\n",
       "      <td>45.617500</td>\n",
       "      <td>-73.606011</td>\n",
       "      <td>11</td>\n",
       "      <td>La Veranda</td>\n",
       "      <td>H1G 2V5</td>\n",
       "      <td>Bar</td>\n",
       "      <td>960.0</td>\n",
       "      <td>44.0</td>\n",
       "      <td>4.0</td>\n",
       "      <td>4</td>\n",
       "      <td>2</td>\n",
       "    </tr>\n",
       "    <tr>\n",
       "      <th>4</th>\n",
       "      <td>36c6491aa1b52e5ef7005f984738de27</td>\n",
       "      <td>Gare d'autocars de Montréal (Berri / Ontario)</td>\n",
       "      <td>45.516926</td>\n",
       "      <td>-73.564257</td>\n",
       "      <td>15</td>\n",
       "      <td>Le Saint Bock</td>\n",
       "      <td>H2X 3K4</td>\n",
       "      <td>Bar</td>\n",
       "      <td>132.0</td>\n",
       "      <td>44.0</td>\n",
       "      <td>4.0</td>\n",
       "      <td>10</td>\n",
       "      <td>2</td>\n",
       "    </tr>\n",
       "    <tr>\n",
       "      <th>...</th>\n",
       "      <td>...</td>\n",
       "      <td>...</td>\n",
       "      <td>...</td>\n",
       "      <td>...</td>\n",
       "      <td>...</td>\n",
       "      <td>...</td>\n",
       "      <td>...</td>\n",
       "      <td>...</td>\n",
       "      <td>...</td>\n",
       "      <td>...</td>\n",
       "      <td>...</td>\n",
       "      <td>...</td>\n",
       "      <td>...</td>\n",
       "    </tr>\n",
       "    <tr>\n",
       "      <th>5902</th>\n",
       "      <td>6d0a3c1b3a79bb42f1125970e00cd5b1</td>\n",
       "      <td>Parc du Pélican (1ere Ave / Masson)</td>\n",
       "      <td>45.545188</td>\n",
       "      <td>-73.576443</td>\n",
       "      <td>39</td>\n",
       "      <td>La Succursale</td>\n",
       "      <td>H1Y 1Y1</td>\n",
       "      <td>Lounge</td>\n",
       "      <td>607.0</td>\n",
       "      <td>25.0</td>\n",
       "      <td>4.0</td>\n",
       "      <td>10</td>\n",
       "      <td>2</td>\n",
       "    </tr>\n",
       "    <tr>\n",
       "      <th>5903</th>\n",
       "      <td>6d0a3c1b3a79bb42f1125970e00cd5b1</td>\n",
       "      <td>Parc du Pélican (1ere Ave / Masson)</td>\n",
       "      <td>45.545188</td>\n",
       "      <td>-73.576443</td>\n",
       "      <td>39</td>\n",
       "      <td>Pub Rosemont</td>\n",
       "      <td>H2G 1V2</td>\n",
       "      <td>Lounge</td>\n",
       "      <td>797.0</td>\n",
       "      <td>44.0</td>\n",
       "      <td>4.0</td>\n",
       "      <td>10</td>\n",
       "      <td>2</td>\n",
       "    </tr>\n",
       "    <tr>\n",
       "      <th>5904</th>\n",
       "      <td>6d0a3c1b3a79bb42f1125970e00cd5b1</td>\n",
       "      <td>Parc du Pélican (1ere Ave / Masson)</td>\n",
       "      <td>45.545188</td>\n",
       "      <td>-73.576443</td>\n",
       "      <td>39</td>\n",
       "      <td>Chez Baptiste Sur Masson</td>\n",
       "      <td>H1Y 1X6</td>\n",
       "      <td>Bar</td>\n",
       "      <td>433.0</td>\n",
       "      <td>44.0</td>\n",
       "      <td>4.0</td>\n",
       "      <td>10</td>\n",
       "      <td>2</td>\n",
       "    </tr>\n",
       "    <tr>\n",
       "      <th>5905</th>\n",
       "      <td>6d0a3c1b3a79bb42f1125970e00cd5b1</td>\n",
       "      <td>Parc du Pélican (1ere Ave / Masson)</td>\n",
       "      <td>45.545188</td>\n",
       "      <td>-73.576443</td>\n",
       "      <td>39</td>\n",
       "      <td>Broue Bar Gaspé</td>\n",
       "      <td>H1Y 1W1</td>\n",
       "      <td>Karaoke Bar</td>\n",
       "      <td>25.0</td>\n",
       "      <td>44.0</td>\n",
       "      <td>4.0</td>\n",
       "      <td>10</td>\n",
       "      <td>2</td>\n",
       "    </tr>\n",
       "    <tr>\n",
       "      <th>5906</th>\n",
       "      <td>6d0a3c1b3a79bb42f1125970e00cd5b1</td>\n",
       "      <td>Parc du Pélican (1ere Ave / Masson)</td>\n",
       "      <td>45.545188</td>\n",
       "      <td>-73.576443</td>\n",
       "      <td>39</td>\n",
       "      <td>Aquarium Café Bar</td>\n",
       "      <td>H1Y 1X5</td>\n",
       "      <td>Dive Bar</td>\n",
       "      <td>377.0</td>\n",
       "      <td>44.0</td>\n",
       "      <td>4.0</td>\n",
       "      <td>10</td>\n",
       "      <td>2</td>\n",
       "    </tr>\n",
       "  </tbody>\n",
       "</table>\n",
       "<p>5907 rows × 13 columns</p>\n",
       "</div>"
      ],
      "text/plain": [
       "                         cb_station_id  \\\n",
       "0     72bfd647b3d2b650546f42319729757d   \n",
       "1     72bfd647b3d2b650546f42319729757d   \n",
       "2     72bfd647b3d2b650546f42319729757d   \n",
       "3     72bfd647b3d2b650546f42319729757d   \n",
       "4     36c6491aa1b52e5ef7005f984738de27   \n",
       "...                                ...   \n",
       "5902  6d0a3c1b3a79bb42f1125970e00cd5b1   \n",
       "5903  6d0a3c1b3a79bb42f1125970e00cd5b1   \n",
       "5904  6d0a3c1b3a79bb42f1125970e00cd5b1   \n",
       "5905  6d0a3c1b3a79bb42f1125970e00cd5b1   \n",
       "5906  6d0a3c1b3a79bb42f1125970e00cd5b1   \n",
       "\n",
       "                                    cb_station_name  cb_latitude  \\\n",
       "0                              Cégep Marie-Victorin    45.617500   \n",
       "1                              Cégep Marie-Victorin    45.617500   \n",
       "2                              Cégep Marie-Victorin    45.617500   \n",
       "3                              Cégep Marie-Victorin    45.617500   \n",
       "4     Gare d'autocars de Montréal (Berri / Ontario)    45.516926   \n",
       "...                                             ...          ...   \n",
       "5902            Parc du Pélican (1ere Ave / Masson)    45.545188   \n",
       "5903            Parc du Pélican (1ere Ave / Masson)    45.545188   \n",
       "5904            Parc du Pélican (1ere Ave / Masson)    45.545188   \n",
       "5905            Parc du Pélican (1ere Ave / Masson)    45.545188   \n",
       "5906            Parc du Pélican (1ere Ave / Masson)    45.545188   \n",
       "\n",
       "      cb_longitude  cb_bike_num                                       name  \\\n",
       "0       -73.606011           11  Resto-bar Capucine - Nord-Est de Montréal   \n",
       "1       -73.606011           11                  Piano Bar la Belle Epoque   \n",
       "2       -73.606011           11                     Cafe liana bar & grill   \n",
       "3       -73.606011           11                                 La Veranda   \n",
       "4       -73.564257           15                              Le Saint Bock   \n",
       "...            ...          ...                                        ...   \n",
       "5902    -73.576443           39                              La Succursale   \n",
       "5903    -73.576443           39                               Pub Rosemont   \n",
       "5904    -73.576443           39                   Chez Baptiste Sur Masson   \n",
       "5905    -73.576443           39                            Broue Bar Gaspé   \n",
       "5906    -73.576443           39                          Aquarium Café Bar   \n",
       "\n",
       "         postcode      category  distance  review_count  rating  \\\n",
       "0     Unavailable    Sports Bar     246.0          44.0     4.0   \n",
       "1         H1G 2V6  Cocktail Bar     661.0          44.0     4.0   \n",
       "2         H1E 1M4           Bar     809.0          44.0     4.0   \n",
       "3         H1G 2V5           Bar     960.0          44.0     4.0   \n",
       "4         H2X 3K4           Bar     132.0          44.0     4.0   \n",
       "...           ...           ...       ...           ...     ...   \n",
       "5902      H1Y 1Y1        Lounge     607.0          25.0     4.0   \n",
       "5903      H2G 1V2        Lounge     797.0          44.0     4.0   \n",
       "5904      H1Y 1X6           Bar     433.0          44.0     4.0   \n",
       "5905      H1Y 1W1   Karaoke Bar      25.0          44.0     4.0   \n",
       "5906      H1Y 1X5      Dive Bar     377.0          44.0     4.0   \n",
       "\n",
       "      cb_name_count  price_level  \n",
       "0                 4            2  \n",
       "1                 4            2  \n",
       "2                 4            2  \n",
       "3                 4            2  \n",
       "4                10            2  \n",
       "...             ...          ...  \n",
       "5902             10            2  \n",
       "5903             10            2  \n",
       "5904             10            2  \n",
       "5905             10            2  \n",
       "5906             10            2  \n",
       "\n",
       "[5907 rows x 13 columns]"
      ]
     },
     "execution_count": 28,
     "metadata": {},
     "output_type": "execute_result"
    }
   ],
   "source": [
    "merged_all_df"
   ]
  },
  {
   "cell_type": "code",
   "execution_count": 29,
   "metadata": {},
   "outputs": [
    {
     "data": {
      "text/plain": [
       "cb_station_id      0\n",
       "cb_station_name    0\n",
       "cb_latitude        0\n",
       "cb_longitude       0\n",
       "cb_bike_num        0\n",
       "name               0\n",
       "postcode           0\n",
       "category           0\n",
       "distance           0\n",
       "review_count       0\n",
       "rating             0\n",
       "cb_name_count      0\n",
       "price_level        0\n",
       "dtype: int64"
      ]
     },
     "execution_count": 29,
     "metadata": {},
     "output_type": "execute_result"
    }
   ],
   "source": [
    "# Final check for missing values\n",
    "merged_all_df.isnull().sum()"
   ]
  },
  {
   "cell_type": "code",
   "execution_count": 30,
   "metadata": {},
   "outputs": [
    {
     "data": {
      "text/plain": [
       "(5907, 13)"
      ]
     },
     "execution_count": 30,
     "metadata": {},
     "output_type": "execute_result"
    }
   ],
   "source": [
    "merged_all_df.shape"
   ]
  },
  {
   "cell_type": "code",
   "execution_count": 31,
   "metadata": {},
   "outputs": [],
   "source": [
    "# Drop duplicates (if any) after treating n/a, but there aren't any because cb_station_id is unique\n",
    "merged_all_df.drop_duplicates(inplace=True)"
   ]
  },
  {
   "cell_type": "markdown",
   "metadata": {},
   "source": [
    "### Visualizing the data"
   ]
  },
  {
   "cell_type": "code",
   "execution_count": 32,
   "metadata": {},
   "outputs": [
    {
     "name": "stdout",
     "output_type": "stream",
     "text": [
      "<class 'pandas.core.frame.DataFrame'>\n",
      "Int64Index: 5907 entries, 0 to 5906\n",
      "Data columns (total 13 columns):\n",
      " #   Column           Non-Null Count  Dtype  \n",
      "---  ------           --------------  -----  \n",
      " 0   cb_station_id    5907 non-null   object \n",
      " 1   cb_station_name  5907 non-null   object \n",
      " 2   cb_latitude      5907 non-null   float64\n",
      " 3   cb_longitude     5907 non-null   float64\n",
      " 4   cb_bike_num      5907 non-null   int64  \n",
      " 5   name             5907 non-null   object \n",
      " 6   postcode         5907 non-null   object \n",
      " 7   category         5907 non-null   object \n",
      " 8   distance         5907 non-null   float64\n",
      " 9   review_count     5907 non-null   float64\n",
      " 10  rating           5907 non-null   float64\n",
      " 11  cb_name_count    5907 non-null   int64  \n",
      " 12  price_level      5907 non-null   int64  \n",
      "dtypes: float64(5), int64(3), object(5)\n",
      "memory usage: 646.1+ KB\n"
     ]
    }
   ],
   "source": [
    "merged_all_df.info()"
   ]
  },
  {
   "cell_type": "markdown",
   "metadata": {},
   "source": [
    "* Exploring numeric columns:"
   ]
  },
  {
   "cell_type": "code",
   "execution_count": 33,
   "metadata": {},
   "outputs": [
    {
     "data": {
      "text/plain": [
       "Index(['cb_latitude', 'cb_longitude', 'cb_bike_num', 'distance',\n",
       "       'review_count', 'rating', 'cb_name_count', 'price_level'],\n",
       "      dtype='object')"
      ]
     },
     "execution_count": 33,
     "metadata": {},
     "output_type": "execute_result"
    }
   ],
   "source": [
    "numeric_cols = merged_all_df.select_dtypes(include=['number']).columns\n",
    "numeric_cols"
   ]
  },
  {
   "cell_type": "code",
   "execution_count": 34,
   "metadata": {},
   "outputs": [
    {
     "data": {
      "text/html": [
       "<div>\n",
       "<style scoped>\n",
       "    .dataframe tbody tr th:only-of-type {\n",
       "        vertical-align: middle;\n",
       "    }\n",
       "\n",
       "    .dataframe tbody tr th {\n",
       "        vertical-align: top;\n",
       "    }\n",
       "\n",
       "    .dataframe thead th {\n",
       "        text-align: right;\n",
       "    }\n",
       "</style>\n",
       "<table border=\"1\" class=\"dataframe\">\n",
       "  <thead>\n",
       "    <tr style=\"text-align: right;\">\n",
       "      <th></th>\n",
       "      <th>cb_latitude</th>\n",
       "      <th>cb_longitude</th>\n",
       "      <th>cb_bike_num</th>\n",
       "      <th>distance</th>\n",
       "      <th>review_count</th>\n",
       "      <th>rating</th>\n",
       "      <th>cb_name_count</th>\n",
       "      <th>price_level</th>\n",
       "    </tr>\n",
       "  </thead>\n",
       "  <tbody>\n",
       "    <tr>\n",
       "      <th>0</th>\n",
       "      <td>45.617500</td>\n",
       "      <td>-73.606011</td>\n",
       "      <td>11</td>\n",
       "      <td>246.0</td>\n",
       "      <td>44.0</td>\n",
       "      <td>4.0</td>\n",
       "      <td>4</td>\n",
       "      <td>2</td>\n",
       "    </tr>\n",
       "    <tr>\n",
       "      <th>1</th>\n",
       "      <td>45.617500</td>\n",
       "      <td>-73.606011</td>\n",
       "      <td>11</td>\n",
       "      <td>661.0</td>\n",
       "      <td>44.0</td>\n",
       "      <td>4.0</td>\n",
       "      <td>4</td>\n",
       "      <td>2</td>\n",
       "    </tr>\n",
       "    <tr>\n",
       "      <th>2</th>\n",
       "      <td>45.617500</td>\n",
       "      <td>-73.606011</td>\n",
       "      <td>11</td>\n",
       "      <td>809.0</td>\n",
       "      <td>44.0</td>\n",
       "      <td>4.0</td>\n",
       "      <td>4</td>\n",
       "      <td>2</td>\n",
       "    </tr>\n",
       "    <tr>\n",
       "      <th>3</th>\n",
       "      <td>45.617500</td>\n",
       "      <td>-73.606011</td>\n",
       "      <td>11</td>\n",
       "      <td>960.0</td>\n",
       "      <td>44.0</td>\n",
       "      <td>4.0</td>\n",
       "      <td>4</td>\n",
       "      <td>2</td>\n",
       "    </tr>\n",
       "    <tr>\n",
       "      <th>4</th>\n",
       "      <td>45.516926</td>\n",
       "      <td>-73.564257</td>\n",
       "      <td>15</td>\n",
       "      <td>132.0</td>\n",
       "      <td>44.0</td>\n",
       "      <td>4.0</td>\n",
       "      <td>10</td>\n",
       "      <td>2</td>\n",
       "    </tr>\n",
       "    <tr>\n",
       "      <th>...</th>\n",
       "      <td>...</td>\n",
       "      <td>...</td>\n",
       "      <td>...</td>\n",
       "      <td>...</td>\n",
       "      <td>...</td>\n",
       "      <td>...</td>\n",
       "      <td>...</td>\n",
       "      <td>...</td>\n",
       "    </tr>\n",
       "    <tr>\n",
       "      <th>5902</th>\n",
       "      <td>45.545188</td>\n",
       "      <td>-73.576443</td>\n",
       "      <td>39</td>\n",
       "      <td>607.0</td>\n",
       "      <td>25.0</td>\n",
       "      <td>4.0</td>\n",
       "      <td>10</td>\n",
       "      <td>2</td>\n",
       "    </tr>\n",
       "    <tr>\n",
       "      <th>5903</th>\n",
       "      <td>45.545188</td>\n",
       "      <td>-73.576443</td>\n",
       "      <td>39</td>\n",
       "      <td>797.0</td>\n",
       "      <td>44.0</td>\n",
       "      <td>4.0</td>\n",
       "      <td>10</td>\n",
       "      <td>2</td>\n",
       "    </tr>\n",
       "    <tr>\n",
       "      <th>5904</th>\n",
       "      <td>45.545188</td>\n",
       "      <td>-73.576443</td>\n",
       "      <td>39</td>\n",
       "      <td>433.0</td>\n",
       "      <td>44.0</td>\n",
       "      <td>4.0</td>\n",
       "      <td>10</td>\n",
       "      <td>2</td>\n",
       "    </tr>\n",
       "    <tr>\n",
       "      <th>5905</th>\n",
       "      <td>45.545188</td>\n",
       "      <td>-73.576443</td>\n",
       "      <td>39</td>\n",
       "      <td>25.0</td>\n",
       "      <td>44.0</td>\n",
       "      <td>4.0</td>\n",
       "      <td>10</td>\n",
       "      <td>2</td>\n",
       "    </tr>\n",
       "    <tr>\n",
       "      <th>5906</th>\n",
       "      <td>45.545188</td>\n",
       "      <td>-73.576443</td>\n",
       "      <td>39</td>\n",
       "      <td>377.0</td>\n",
       "      <td>44.0</td>\n",
       "      <td>4.0</td>\n",
       "      <td>10</td>\n",
       "      <td>2</td>\n",
       "    </tr>\n",
       "  </tbody>\n",
       "</table>\n",
       "<p>5907 rows × 8 columns</p>\n",
       "</div>"
      ],
      "text/plain": [
       "      cb_latitude  cb_longitude  cb_bike_num  distance  review_count  rating  \\\n",
       "0       45.617500    -73.606011           11     246.0          44.0     4.0   \n",
       "1       45.617500    -73.606011           11     661.0          44.0     4.0   \n",
       "2       45.617500    -73.606011           11     809.0          44.0     4.0   \n",
       "3       45.617500    -73.606011           11     960.0          44.0     4.0   \n",
       "4       45.516926    -73.564257           15     132.0          44.0     4.0   \n",
       "...           ...           ...          ...       ...           ...     ...   \n",
       "5902    45.545188    -73.576443           39     607.0          25.0     4.0   \n",
       "5903    45.545188    -73.576443           39     797.0          44.0     4.0   \n",
       "5904    45.545188    -73.576443           39     433.0          44.0     4.0   \n",
       "5905    45.545188    -73.576443           39      25.0          44.0     4.0   \n",
       "5906    45.545188    -73.576443           39     377.0          44.0     4.0   \n",
       "\n",
       "      cb_name_count  price_level  \n",
       "0                 4            2  \n",
       "1                 4            2  \n",
       "2                 4            2  \n",
       "3                 4            2  \n",
       "4                10            2  \n",
       "...             ...          ...  \n",
       "5902             10            2  \n",
       "5903             10            2  \n",
       "5904             10            2  \n",
       "5905             10            2  \n",
       "5906             10            2  \n",
       "\n",
       "[5907 rows x 8 columns]"
      ]
     },
     "execution_count": 34,
     "metadata": {},
     "output_type": "execute_result"
    }
   ],
   "source": [
    "numeric_merge_df = merged_all_df[numeric_cols]\n",
    "numeric_merge_df"
   ]
  },
  {
   "cell_type": "code",
   "execution_count": 35,
   "metadata": {},
   "outputs": [
    {
     "data": {
      "image/png": "[encoded data removed]",
      "text/plain": [
       "<Figure size 2000x2000 with 8 Axes>"
      ]
     },
     "metadata": {},
     "output_type": "display_data"
    }
   ],
   "source": [
    "def draw_histograms(dataframe, features, rows, cols):\n",
    "    fig=plt.figure(figsize=(20,20))\n",
    "    for i, feature in enumerate(features):\n",
    "        ax=fig.add_subplot(rows, cols, i+1)\n",
    "        dataframe[feature].hist(bins=20, ax=ax, facecolor='Midnightblue')\n",
    "        ax.set_title(feature + \" Distribution\",color='DarkRed')\n",
    "        ax.set_yscale('log')\n",
    "    fig.tight_layout()  \n",
    "    plt.show()\n",
    "    \n",
    "draw_histograms(numeric_merge_df,numeric_merge_df.columns,8,4)"
   ]
  },
  {
   "cell_type": "markdown",
   "metadata": {},
   "source": [
    "There are still bar locations that are further out than 1Km from Montreal bike stations. The distribution of 'cb_bike_num' is skewed with outliers.\n",
    "\n",
    "As per characteristic of bars (of numeric type except for 'price_level'): 'distance' looks somewhat like a uniform distribution. The distribution of 'review_count' looks skewed, 'rating' has a pretty good shape of normal distribution without outliers. \n",
    "\n",
    "We are dealing with outliers, and we can also test the normal distribution of some of those numeric columns."
   ]
  },
  {
   "cell_type": "code",
   "execution_count": 36,
   "metadata": {},
   "outputs": [],
   "source": [
    "# Enforce the condition 'distance'values must be <= 1000 from the bike stations\n",
    "merged_all_df = merged_all_df[merged_all_df['distance'] <= 1000]"
   ]
  },
  {
   "cell_type": "markdown",
   "metadata": {},
   "source": [
    "* Treating outliers: We won't take into accounts outliers in 'cb_latitude' and 'cb_longitude' since we want to include all bike stations in Montreal."
   ]
  },
  {
   "cell_type": "code",
   "execution_count": 37,
   "metadata": {},
   "outputs": [
    {
     "data": {
      "text/plain": [
       "0.9931752260706365"
      ]
     },
     "execution_count": 37,
     "metadata": {},
     "output_type": "execute_result"
    }
   ],
   "source": [
    "# Percentage of rows with outliers where 'cb_bike_num' >50\n",
    "len(merged_all_df[merged_all_df['cb_bike_num'] <= 50])/len(merged_all_df)"
   ]
  },
  {
   "cell_type": "code",
   "execution_count": 38,
   "metadata": {},
   "outputs": [
    {
     "data": {
      "text/plain": [
       "0.9993175226070636"
      ]
     },
     "execution_count": 38,
     "metadata": {},
     "output_type": "execute_result"
    }
   ],
   "source": [
    "# Percentage of rows with outliers where 'review_count' >300\n",
    "len(merged_all_df[merged_all_df['review_count'] <= 300])/len(merged_all_df)"
   ]
  },
  {
   "cell_type": "markdown",
   "metadata": {},
   "source": [
    "We'll lose around 1% of our data (~60 rows) for each outlier removal which is quite ok."
   ]
  },
  {
   "cell_type": "code",
   "execution_count": 39,
   "metadata": {},
   "outputs": [],
   "source": [
    "# Remove extreme outliers where 'cb_bike_num' >50\n",
    "merged_all_df = merged_all_df[merged_all_df['cb_bike_num'] <= 50]"
   ]
  },
  {
   "cell_type": "code",
   "execution_count": 40,
   "metadata": {},
   "outputs": [],
   "source": [
    "# Remove extreme outliers where 'review_count' >300\n",
    "merged_all_df = merged_all_df[merged_all_df['review_count'] <= 300]"
   ]
  },
  {
   "cell_type": "code",
   "execution_count": 41,
   "metadata": {},
   "outputs": [
    {
     "data": {
      "text/plain": [
       "(5819, 13)"
      ]
     },
     "execution_count": 41,
     "metadata": {},
     "output_type": "execute_result"
    }
   ],
   "source": [
    "merged_all_df.shape"
   ]
  },
  {
   "cell_type": "code",
   "execution_count": 42,
   "metadata": {},
   "outputs": [],
   "source": [
    "merged_all_df_clean = merged_all_df.copy()\n",
    "\n",
    "# Save the clean merged_all_df after EDA results to csv for part 4\n",
    "merged_all_df_clean.to_csv('../data/merged_all_df_clean.csv', index=False)"
   ]
  },
  {
   "cell_type": "markdown",
   "metadata": {},
   "source": [
    "* Perform Shapiro-Wilk's normality test on 'cb_bike_num', 'cb_name_count', 'distance', 'review_count', 'rating':\n",
    "- H<sub>0</sub>: data is normally distributed\n",
    "- H<sub>a</sub>: data is not normally distributed\n"
   ]
  },
  {
   "cell_type": "code",
   "execution_count": 43,
   "metadata": {},
   "outputs": [
    {
     "name": "stdout",
     "output_type": "stream",
     "text": [
      "0.0\n"
     ]
    }
   ],
   "source": [
    "stat, p = stats.shapiro(merged_all_df['cb_bike_num'])\n",
    "print(p)"
   ]
  },
  {
   "cell_type": "code",
   "execution_count": 44,
   "metadata": {},
   "outputs": [
    {
     "name": "stdout",
     "output_type": "stream",
     "text": [
      "0.0\n"
     ]
    }
   ],
   "source": [
    "stat, p = stats.shapiro(merged_all_df['cb_name_count'])\n",
    "print(p)"
   ]
  },
  {
   "cell_type": "code",
   "execution_count": 45,
   "metadata": {},
   "outputs": [
    {
     "name": "stdout",
     "output_type": "stream",
     "text": [
      "3.981596353374347e-34\n"
     ]
    }
   ],
   "source": [
    "stat, p = stats.shapiro(merged_all_df['distance'])\n",
    "print(p)"
   ]
  },
  {
   "cell_type": "code",
   "execution_count": 46,
   "metadata": {},
   "outputs": [
    {
     "name": "stdout",
     "output_type": "stream",
     "text": [
      "0.0\n"
     ]
    }
   ],
   "source": [
    "stat, p = stats.shapiro(merged_all_df['review_count'])\n",
    "print(p)"
   ]
  },
  {
   "cell_type": "code",
   "execution_count": 47,
   "metadata": {},
   "outputs": [
    {
     "name": "stdout",
     "output_type": "stream",
     "text": [
      "0.0\n"
     ]
    }
   ],
   "source": [
    "stat, p = stats.shapiro(merged_all_df['rating'])\n",
    "print(p)"
   ]
  },
  {
   "cell_type": "markdown",
   "metadata": {},
   "source": [
    "Since p<<0.05, we reject the null hypothesis that the data in these columns are normally distributed."
   ]
  },
  {
   "cell_type": "markdown",
   "metadata": {},
   "source": [
    "* Exploring categorical columns:"
   ]
  },
  {
   "cell_type": "markdown",
   "metadata": {},
   "source": [
    "Which station has the most bars close by?"
   ]
  },
  {
   "cell_type": "code",
   "execution_count": 48,
   "metadata": {},
   "outputs": [
    {
     "data": {
      "text/plain": [
       "746"
      ]
     },
     "execution_count": 48,
     "metadata": {},
     "output_type": "execute_result"
    }
   ],
   "source": [
    "merged_all_df['cb_station_id'].nunique()"
   ]
  },
  {
   "cell_type": "code",
   "execution_count": 49,
   "metadata": {},
   "outputs": [
    {
     "data": {
      "text/plain": [
       "746"
      ]
     },
     "execution_count": 49,
     "metadata": {},
     "output_type": "execute_result"
    }
   ],
   "source": [
    "merged_all_df['cb_station_name'].nunique()"
   ]
  },
  {
   "cell_type": "code",
   "execution_count": 50,
   "metadata": {},
   "outputs": [
    {
     "data": {
      "text/html": [
       "<div>\n",
       "<style scoped>\n",
       "    .dataframe tbody tr th:only-of-type {\n",
       "        vertical-align: middle;\n",
       "    }\n",
       "\n",
       "    .dataframe tbody tr th {\n",
       "        vertical-align: top;\n",
       "    }\n",
       "\n",
       "    .dataframe thead th {\n",
       "        text-align: right;\n",
       "    }\n",
       "</style>\n",
       "<table border=\"1\" class=\"dataframe\">\n",
       "  <thead>\n",
       "    <tr style=\"text-align: right;\">\n",
       "      <th></th>\n",
       "      <th>cb_station_id</th>\n",
       "      <th>cb_station_name</th>\n",
       "      <th>cb_name_count</th>\n",
       "    </tr>\n",
       "  </thead>\n",
       "  <tbody>\n",
       "    <tr>\n",
       "      <th>0</th>\n",
       "      <td>00c210cb99cf9d1b923c1548938aee56</td>\n",
       "      <td>Marché Jean-Talon (Casgrain / Shamrock)</td>\n",
       "      <td>10.0</td>\n",
       "    </tr>\n",
       "    <tr>\n",
       "      <th>1</th>\n",
       "      <td>636183b074c59d10b7ef068230b11fb9</td>\n",
       "      <td>Marie-Anne / St-Hubert</td>\n",
       "      <td>10.0</td>\n",
       "    </tr>\n",
       "    <tr>\n",
       "      <th>2</th>\n",
       "      <td>62f1efb1b3ff5fb90b87bbe17174fdde</td>\n",
       "      <td>8e avenue / Everett</td>\n",
       "      <td>10.0</td>\n",
       "    </tr>\n",
       "    <tr>\n",
       "      <th>3</th>\n",
       "      <td>c73445e90f1a3324b77d2c1fdb4d53e3</td>\n",
       "      <td>Durocher / Sherbrooke</td>\n",
       "      <td>10.0</td>\n",
       "    </tr>\n",
       "    <tr>\n",
       "      <th>4</th>\n",
       "      <td>6251ff1e68672d14ccd94dd4d5d86680</td>\n",
       "      <td>St-André / Ontario</td>\n",
       "      <td>10.0</td>\n",
       "    </tr>\n",
       "    <tr>\n",
       "      <th>...</th>\n",
       "      <td>...</td>\n",
       "      <td>...</td>\n",
       "      <td>...</td>\n",
       "    </tr>\n",
       "    <tr>\n",
       "      <th>741</th>\n",
       "      <td>b77888871c6837a551022c5c739042ac</td>\n",
       "      <td>Parc Kirkland (des Érables / Boyer)</td>\n",
       "      <td>1.0</td>\n",
       "    </tr>\n",
       "    <tr>\n",
       "      <th>742</th>\n",
       "      <td>efe7c56e36749af8000e9ef4ee4fc883</td>\n",
       "      <td>Gare Montpellier (Muir / de la Côte-Vertu)</td>\n",
       "      <td>1.0</td>\n",
       "    </tr>\n",
       "    <tr>\n",
       "      <th>743</th>\n",
       "      <td>8661cea9ae725868605cd27fbe516bf7</td>\n",
       "      <td>Hôpital Maisonneuve-Rosemont (Rosemont / Chate...</td>\n",
       "      <td>1.0</td>\n",
       "    </tr>\n",
       "    <tr>\n",
       "      <th>744</th>\n",
       "      <td>a65aa68cb23206fc1b15868873e36df2</td>\n",
       "      <td>90e Avenue / Boulevard Lévesque O</td>\n",
       "      <td>1.0</td>\n",
       "    </tr>\n",
       "    <tr>\n",
       "      <th>745</th>\n",
       "      <td>9c713595b12ffeacadc44a5217c1a4b0</td>\n",
       "      <td>Laforest / Dudemaine</td>\n",
       "      <td>1.0</td>\n",
       "    </tr>\n",
       "  </tbody>\n",
       "</table>\n",
       "<p>746 rows × 3 columns</p>\n",
       "</div>"
      ],
      "text/plain": [
       "                        cb_station_id  \\\n",
       "0    00c210cb99cf9d1b923c1548938aee56   \n",
       "1    636183b074c59d10b7ef068230b11fb9   \n",
       "2    62f1efb1b3ff5fb90b87bbe17174fdde   \n",
       "3    c73445e90f1a3324b77d2c1fdb4d53e3   \n",
       "4    6251ff1e68672d14ccd94dd4d5d86680   \n",
       "..                                ...   \n",
       "741  b77888871c6837a551022c5c739042ac   \n",
       "742  efe7c56e36749af8000e9ef4ee4fc883   \n",
       "743  8661cea9ae725868605cd27fbe516bf7   \n",
       "744  a65aa68cb23206fc1b15868873e36df2   \n",
       "745  9c713595b12ffeacadc44a5217c1a4b0   \n",
       "\n",
       "                                       cb_station_name  cb_name_count  \n",
       "0              Marché Jean-Talon (Casgrain / Shamrock)           10.0  \n",
       "1                               Marie-Anne / St-Hubert           10.0  \n",
       "2                                  8e avenue / Everett           10.0  \n",
       "3                                Durocher / Sherbrooke           10.0  \n",
       "4                                   St-André / Ontario           10.0  \n",
       "..                                                 ...            ...  \n",
       "741                Parc Kirkland (des Érables / Boyer)            1.0  \n",
       "742         Gare Montpellier (Muir / de la Côte-Vertu)            1.0  \n",
       "743  Hôpital Maisonneuve-Rosemont (Rosemont / Chate...            1.0  \n",
       "744                  90e Avenue / Boulevard Lévesque O            1.0  \n",
       "745                               Laforest / Dudemaine            1.0  \n",
       "\n",
       "[746 rows x 3 columns]"
      ]
     },
     "execution_count": 50,
     "metadata": {},
     "output_type": "execute_result"
    }
   ],
   "source": [
    "stations_barnum_sorted = merged_all_df.groupby(['cb_station_id', 'cb_station_name'])['cb_name_count'].mean().sort_values(ascending=False).reset_index()\n",
    "stations_barnum_sorted"
   ]
  },
  {
   "cell_type": "code",
   "execution_count": 51,
   "metadata": {},
   "outputs": [
    {
     "data": {
      "text/plain": [
       "count    746.000000\n",
       "mean       7.836461\n",
       "std        3.204872\n",
       "min        1.000000\n",
       "25%        5.000000\n",
       "50%       10.000000\n",
       "75%       10.000000\n",
       "max       10.000000\n",
       "Name: cb_name_count, dtype: float64"
      ]
     },
     "execution_count": 51,
     "metadata": {},
     "output_type": "execute_result"
    }
   ],
   "source": [
    "# The majority of numbar of bars associated per station is 10 bars on average\n",
    "stations_barnum_sorted['cb_name_count'].describe()"
   ]
  },
  {
   "cell_type": "code",
   "execution_count": 52,
   "metadata": {},
   "outputs": [
    {
     "data": {
      "image/png": "[encoded data removed]",
      "text/plain": [
       "<Figure size 400x200 with 1 Axes>"
      ]
     },
     "metadata": {},
     "output_type": "display_data"
    }
   ],
   "source": [
    "fig=plt.figure(figsize=(4,2))\n",
    "sns.boxplot(x=stations_barnum_sorted['cb_name_count'])\n",
    "plt.show()"
   ]
  },
  {
   "cell_type": "code",
   "execution_count": 53,
   "metadata": {},
   "outputs": [
    {
     "data": {
      "text/html": [
       "<div>\n",
       "<style scoped>\n",
       "    .dataframe tbody tr th:only-of-type {\n",
       "        vertical-align: middle;\n",
       "    }\n",
       "\n",
       "    .dataframe tbody tr th {\n",
       "        vertical-align: top;\n",
       "    }\n",
       "\n",
       "    .dataframe thead th {\n",
       "        text-align: right;\n",
       "    }\n",
       "</style>\n",
       "<table border=\"1\" class=\"dataframe\">\n",
       "  <thead>\n",
       "    <tr style=\"text-align: right;\">\n",
       "      <th></th>\n",
       "      <th>cb_station_id</th>\n",
       "      <th>cb_station_name</th>\n",
       "      <th>cb_name_count</th>\n",
       "    </tr>\n",
       "  </thead>\n",
       "  <tbody>\n",
       "    <tr>\n",
       "      <th>0</th>\n",
       "      <td>00c210cb99cf9d1b923c1548938aee56</td>\n",
       "      <td>Marché Jean-Talon (Casgrain / Shamrock)</td>\n",
       "      <td>10.0</td>\n",
       "    </tr>\n",
       "    <tr>\n",
       "      <th>1</th>\n",
       "      <td>636183b074c59d10b7ef068230b11fb9</td>\n",
       "      <td>Marie-Anne / St-Hubert</td>\n",
       "      <td>10.0</td>\n",
       "    </tr>\n",
       "    <tr>\n",
       "      <th>2</th>\n",
       "      <td>62f1efb1b3ff5fb90b87bbe17174fdde</td>\n",
       "      <td>8e avenue / Everett</td>\n",
       "      <td>10.0</td>\n",
       "    </tr>\n",
       "    <tr>\n",
       "      <th>3</th>\n",
       "      <td>c73445e90f1a3324b77d2c1fdb4d53e3</td>\n",
       "      <td>Durocher / Sherbrooke</td>\n",
       "      <td>10.0</td>\n",
       "    </tr>\n",
       "    <tr>\n",
       "      <th>4</th>\n",
       "      <td>6251ff1e68672d14ccd94dd4d5d86680</td>\n",
       "      <td>St-André / Ontario</td>\n",
       "      <td>10.0</td>\n",
       "    </tr>\n",
       "    <tr>\n",
       "      <th>...</th>\n",
       "      <td>...</td>\n",
       "      <td>...</td>\n",
       "      <td>...</td>\n",
       "    </tr>\n",
       "    <tr>\n",
       "      <th>454</th>\n",
       "      <td>301ddcb76b9061b666c8b0f473a4f74e</td>\n",
       "      <td>Louis-Hébert / Bélanger</td>\n",
       "      <td>10.0</td>\n",
       "    </tr>\n",
       "    <tr>\n",
       "      <th>455</th>\n",
       "      <td>3126d658666f5f32075689284fc0ae02</td>\n",
       "      <td>5e avenue / Masson</td>\n",
       "      <td>10.0</td>\n",
       "    </tr>\n",
       "    <tr>\n",
       "      <th>456</th>\n",
       "      <td>32062cce0f8aa927527eeca915fd3afd</td>\n",
       "      <td>Parc Joseph-Robin (18e avenue / Everett)</td>\n",
       "      <td>10.0</td>\n",
       "    </tr>\n",
       "    <tr>\n",
       "      <th>457</th>\n",
       "      <td>30b3972ded9afdaa750cbbeef330fe74</td>\n",
       "      <td>Marché Jean-Talon (Henri-Julien / Jean-Talon)</td>\n",
       "      <td>10.0</td>\n",
       "    </tr>\n",
       "    <tr>\n",
       "      <th>458</th>\n",
       "      <td>30efd061ab22a0caa3dc67f5e027154e</td>\n",
       "      <td>Square Viger (Berri / Viger)</td>\n",
       "      <td>10.0</td>\n",
       "    </tr>\n",
       "  </tbody>\n",
       "</table>\n",
       "<p>459 rows × 3 columns</p>\n",
       "</div>"
      ],
      "text/plain": [
       "                        cb_station_id  \\\n",
       "0    00c210cb99cf9d1b923c1548938aee56   \n",
       "1    636183b074c59d10b7ef068230b11fb9   \n",
       "2    62f1efb1b3ff5fb90b87bbe17174fdde   \n",
       "3    c73445e90f1a3324b77d2c1fdb4d53e3   \n",
       "4    6251ff1e68672d14ccd94dd4d5d86680   \n",
       "..                                ...   \n",
       "454  301ddcb76b9061b666c8b0f473a4f74e   \n",
       "455  3126d658666f5f32075689284fc0ae02   \n",
       "456  32062cce0f8aa927527eeca915fd3afd   \n",
       "457  30b3972ded9afdaa750cbbeef330fe74   \n",
       "458  30efd061ab22a0caa3dc67f5e027154e   \n",
       "\n",
       "                                   cb_station_name  cb_name_count  \n",
       "0          Marché Jean-Talon (Casgrain / Shamrock)           10.0  \n",
       "1                           Marie-Anne / St-Hubert           10.0  \n",
       "2                              8e avenue / Everett           10.0  \n",
       "3                            Durocher / Sherbrooke           10.0  \n",
       "4                               St-André / Ontario           10.0  \n",
       "..                                             ...            ...  \n",
       "454                        Louis-Hébert / Bélanger           10.0  \n",
       "455                             5e avenue / Masson           10.0  \n",
       "456       Parc Joseph-Robin (18e avenue / Everett)           10.0  \n",
       "457  Marché Jean-Talon (Henri-Julien / Jean-Talon)           10.0  \n",
       "458                   Square Viger (Berri / Viger)           10.0  \n",
       "\n",
       "[459 rows x 3 columns]"
      ]
     },
     "execution_count": 53,
     "metadata": {},
     "output_type": "execute_result"
    }
   ],
   "source": [
    "# The top stations with the most number of bars will be mostly those with 10 bars nearby\n",
    "top_barnum_stations = stations_barnum_sorted[stations_barnum_sorted['cb_name_count']==10]\n",
    "top_barnum_stations"
   ]
  },
  {
   "cell_type": "markdown",
   "metadata": {},
   "source": [
    "Is there any relationship between the bike station name and the bar postcode and categories?"
   ]
  },
  {
   "cell_type": "code",
   "execution_count": 54,
   "metadata": {},
   "outputs": [
    {
     "data": {
      "text/html": [
       "<div>\n",
       "<style scoped>\n",
       "    .dataframe tbody tr th:only-of-type {\n",
       "        vertical-align: middle;\n",
       "    }\n",
       "\n",
       "    .dataframe tbody tr th {\n",
       "        vertical-align: top;\n",
       "    }\n",
       "\n",
       "    .dataframe thead th {\n",
       "        text-align: right;\n",
       "    }\n",
       "</style>\n",
       "<table border=\"1\" class=\"dataframe\">\n",
       "  <thead>\n",
       "    <tr style=\"text-align: right;\">\n",
       "      <th></th>\n",
       "      <th>cb_station_name</th>\n",
       "      <th>postcode</th>\n",
       "    </tr>\n",
       "  </thead>\n",
       "  <tbody>\n",
       "    <tr>\n",
       "      <th>0</th>\n",
       "      <td>Cégep Marie-Victorin</td>\n",
       "      <td>Unavailable</td>\n",
       "    </tr>\n",
       "    <tr>\n",
       "      <th>1</th>\n",
       "      <td>Cégep Marie-Victorin</td>\n",
       "      <td>H1G 2V6</td>\n",
       "    </tr>\n",
       "    <tr>\n",
       "      <th>2</th>\n",
       "      <td>Cégep Marie-Victorin</td>\n",
       "      <td>H1E 1M4</td>\n",
       "    </tr>\n",
       "    <tr>\n",
       "      <th>3</th>\n",
       "      <td>Cégep Marie-Victorin</td>\n",
       "      <td>H1G 2V5</td>\n",
       "    </tr>\n",
       "    <tr>\n",
       "      <th>4</th>\n",
       "      <td>Gare d'autocars de Montréal (Berri / Ontario)</td>\n",
       "      <td>H2X 3K4</td>\n",
       "    </tr>\n",
       "    <tr>\n",
       "      <th>...</th>\n",
       "      <td>...</td>\n",
       "      <td>...</td>\n",
       "    </tr>\n",
       "    <tr>\n",
       "      <th>5902</th>\n",
       "      <td>Parc du Pélican (1ere Ave / Masson)</td>\n",
       "      <td>H1Y 1Y1</td>\n",
       "    </tr>\n",
       "    <tr>\n",
       "      <th>5903</th>\n",
       "      <td>Parc du Pélican (1ere Ave / Masson)</td>\n",
       "      <td>H2G 1V2</td>\n",
       "    </tr>\n",
       "    <tr>\n",
       "      <th>5904</th>\n",
       "      <td>Parc du Pélican (1ere Ave / Masson)</td>\n",
       "      <td>H1Y 1X6</td>\n",
       "    </tr>\n",
       "    <tr>\n",
       "      <th>5905</th>\n",
       "      <td>Parc du Pélican (1ere Ave / Masson)</td>\n",
       "      <td>H1Y 1W1</td>\n",
       "    </tr>\n",
       "    <tr>\n",
       "      <th>5906</th>\n",
       "      <td>Parc du Pélican (1ere Ave / Masson)</td>\n",
       "      <td>H1Y 1X5</td>\n",
       "    </tr>\n",
       "  </tbody>\n",
       "</table>\n",
       "<p>5399 rows × 2 columns</p>\n",
       "</div>"
      ],
      "text/plain": [
       "                                    cb_station_name     postcode\n",
       "0                              Cégep Marie-Victorin  Unavailable\n",
       "1                              Cégep Marie-Victorin      H1G 2V6\n",
       "2                              Cégep Marie-Victorin      H1E 1M4\n",
       "3                              Cégep Marie-Victorin      H1G 2V5\n",
       "4     Gare d'autocars de Montréal (Berri / Ontario)      H2X 3K4\n",
       "...                                             ...          ...\n",
       "5902            Parc du Pélican (1ere Ave / Masson)      H1Y 1Y1\n",
       "5903            Parc du Pélican (1ere Ave / Masson)      H2G 1V2\n",
       "5904            Parc du Pélican (1ere Ave / Masson)      H1Y 1X6\n",
       "5905            Parc du Pélican (1ere Ave / Masson)      H1Y 1W1\n",
       "5906            Parc du Pélican (1ere Ave / Masson)      H1Y 1X5\n",
       "\n",
       "[5399 rows x 2 columns]"
      ]
     },
     "execution_count": 54,
     "metadata": {},
     "output_type": "execute_result"
    }
   ],
   "source": [
    "stations_postcode = merged_all_df[['cb_station_name','postcode']].drop_duplicates()\n",
    "stations_postcode"
   ]
  },
  {
   "cell_type": "code",
   "execution_count": 55,
   "metadata": {},
   "outputs": [
    {
     "data": {
      "text/html": [
       "<div>\n",
       "<style scoped>\n",
       "    .dataframe tbody tr th:only-of-type {\n",
       "        vertical-align: middle;\n",
       "    }\n",
       "\n",
       "    .dataframe tbody tr th {\n",
       "        vertical-align: top;\n",
       "    }\n",
       "\n",
       "    .dataframe thead th {\n",
       "        text-align: right;\n",
       "    }\n",
       "</style>\n",
       "<table border=\"1\" class=\"dataframe\">\n",
       "  <thead>\n",
       "    <tr style=\"text-align: right;\">\n",
       "      <th></th>\n",
       "      <th>cb_station_name</th>\n",
       "      <th>postcode_prefix</th>\n",
       "    </tr>\n",
       "  </thead>\n",
       "  <tbody>\n",
       "    <tr>\n",
       "      <th>1</th>\n",
       "      <td>Cégep Marie-Victorin</td>\n",
       "      <td>H1G</td>\n",
       "    </tr>\n",
       "    <tr>\n",
       "      <th>2</th>\n",
       "      <td>Cégep Marie-Victorin</td>\n",
       "      <td>H1E</td>\n",
       "    </tr>\n",
       "    <tr>\n",
       "      <th>4</th>\n",
       "      <td>Gare d'autocars de Montréal (Berri / Ontario)</td>\n",
       "      <td>H2X</td>\n",
       "    </tr>\n",
       "    <tr>\n",
       "      <th>12</th>\n",
       "      <td>Gare d'autocars de Montréal (Berri / Ontario)</td>\n",
       "      <td>H2L</td>\n",
       "    </tr>\n",
       "    <tr>\n",
       "      <th>15</th>\n",
       "      <td>Centre des loisirs (Tassé / Grenet)</td>\n",
       "      <td>H4L</td>\n",
       "    </tr>\n",
       "    <tr>\n",
       "      <th>...</th>\n",
       "      <td>...</td>\n",
       "      <td>...</td>\n",
       "    </tr>\n",
       "    <tr>\n",
       "      <th>5890</th>\n",
       "      <td>de la Montagne / Notre-Dame</td>\n",
       "      <td>H3B</td>\n",
       "    </tr>\n",
       "    <tr>\n",
       "      <th>5891</th>\n",
       "      <td>de la Montagne / Notre-Dame</td>\n",
       "      <td>H3G</td>\n",
       "    </tr>\n",
       "    <tr>\n",
       "      <th>5897</th>\n",
       "      <td>Parc du Pélican (1ere Ave / Masson)</td>\n",
       "      <td>H1Y</td>\n",
       "    </tr>\n",
       "    <tr>\n",
       "      <th>5899</th>\n",
       "      <td>Parc du Pélican (1ere Ave / Masson)</td>\n",
       "      <td>H2G</td>\n",
       "    </tr>\n",
       "    <tr>\n",
       "      <th>5900</th>\n",
       "      <td>Parc du Pélican (1ere Ave / Masson)</td>\n",
       "      <td>H2H</td>\n",
       "    </tr>\n",
       "  </tbody>\n",
       "</table>\n",
       "<p>1702 rows × 2 columns</p>\n",
       "</div>"
      ],
      "text/plain": [
       "                                    cb_station_name postcode_prefix\n",
       "1                              Cégep Marie-Victorin             H1G\n",
       "2                              Cégep Marie-Victorin             H1E\n",
       "4     Gare d'autocars de Montréal (Berri / Ontario)             H2X\n",
       "12    Gare d'autocars de Montréal (Berri / Ontario)             H2L\n",
       "15              Centre des loisirs (Tassé / Grenet)             H4L\n",
       "...                                             ...             ...\n",
       "5890                    de la Montagne / Notre-Dame             H3B\n",
       "5891                    de la Montagne / Notre-Dame             H3G\n",
       "5897            Parc du Pélican (1ere Ave / Masson)             H1Y\n",
       "5899            Parc du Pélican (1ere Ave / Masson)             H2G\n",
       "5900            Parc du Pélican (1ere Ave / Masson)             H2H\n",
       "\n",
       "[1702 rows x 2 columns]"
      ]
     },
     "execution_count": 55,
     "metadata": {},
     "output_type": "execute_result"
    }
   ],
   "source": [
    "stations_postcode['postcode_prefix'] = stations_postcode['postcode'].str[:3]\n",
    "stations_postcode = stations_postcode[stations_postcode['postcode_prefix'] != 'Una'].drop('postcode', axis=1).drop_duplicates()\n",
    "stations_postcode"
   ]
  },
  {
   "cell_type": "markdown",
   "metadata": {},
   "source": [
    "It's unclear if there's any relationship between the bike station name and the bar postcode and categories at this point, because of the large number of unique combinations. Visualization won't be the best option to carry out EDA for our categorical columns overall. To keep things simpler, it's better to just use numerical columns for prediction in our model in part 4, and not going forward with encoding categorical data."
   ]
  },
  {
   "cell_type": "markdown",
   "metadata": {},
   "source": [
    "Recall in the previous section of data visualization, all of our numeric columns have p value = 0 or very small in the normality test. However, we won't apply data transformation to convert those numeric columns into normal distribution within our scope."
   ]
  },
  {
   "cell_type": "markdown",
   "metadata": {},
   "source": [
    "* Correlation matrix:"
   ]
  },
  {
   "cell_type": "code",
   "execution_count": 56,
   "metadata": {},
   "outputs": [
    {
     "data": {
      "text/html": [
       "<div>\n",
       "<style scoped>\n",
       "    .dataframe tbody tr th:only-of-type {\n",
       "        vertical-align: middle;\n",
       "    }\n",
       "\n",
       "    .dataframe tbody tr th {\n",
       "        vertical-align: top;\n",
       "    }\n",
       "\n",
       "    .dataframe thead th {\n",
       "        text-align: right;\n",
       "    }\n",
       "</style>\n",
       "<table border=\"1\" class=\"dataframe\">\n",
       "  <thead>\n",
       "    <tr style=\"text-align: right;\">\n",
       "      <th></th>\n",
       "      <th>cb_latitude</th>\n",
       "      <th>cb_longitude</th>\n",
       "      <th>cb_bike_num</th>\n",
       "      <th>distance</th>\n",
       "      <th>review_count</th>\n",
       "      <th>rating</th>\n",
       "      <th>cb_name_count</th>\n",
       "      <th>price_level</th>\n",
       "    </tr>\n",
       "  </thead>\n",
       "  <tbody>\n",
       "    <tr>\n",
       "      <th>cb_latitude</th>\n",
       "      <td>1.000000</td>\n",
       "      <td>-0.025354</td>\n",
       "      <td>-0.173026</td>\n",
       "      <td>0.071211</td>\n",
       "      <td>-0.154979</td>\n",
       "      <td>-0.038108</td>\n",
       "      <td>-0.125023</td>\n",
       "      <td>-0.082012</td>\n",
       "    </tr>\n",
       "    <tr>\n",
       "      <th>cb_longitude</th>\n",
       "      <td>-0.025354</td>\n",
       "      <td>1.000000</td>\n",
       "      <td>0.187417</td>\n",
       "      <td>-0.082700</td>\n",
       "      <td>0.126012</td>\n",
       "      <td>-0.025090</td>\n",
       "      <td>0.250283</td>\n",
       "      <td>0.050828</td>\n",
       "    </tr>\n",
       "    <tr>\n",
       "      <th>cb_bike_num</th>\n",
       "      <td>-0.173026</td>\n",
       "      <td>0.187417</td>\n",
       "      <td>1.000000</td>\n",
       "      <td>-0.105264</td>\n",
       "      <td>0.177271</td>\n",
       "      <td>-0.019131</td>\n",
       "      <td>0.154736</td>\n",
       "      <td>0.064774</td>\n",
       "    </tr>\n",
       "    <tr>\n",
       "      <th>distance</th>\n",
       "      <td>0.071211</td>\n",
       "      <td>-0.082700</td>\n",
       "      <td>-0.105264</td>\n",
       "      <td>1.000000</td>\n",
       "      <td>-0.054714</td>\n",
       "      <td>0.029262</td>\n",
       "      <td>-0.112028</td>\n",
       "      <td>0.004864</td>\n",
       "    </tr>\n",
       "    <tr>\n",
       "      <th>review_count</th>\n",
       "      <td>-0.154979</td>\n",
       "      <td>0.126012</td>\n",
       "      <td>0.177271</td>\n",
       "      <td>-0.054714</td>\n",
       "      <td>1.000000</td>\n",
       "      <td>0.252307</td>\n",
       "      <td>0.087482</td>\n",
       "      <td>0.267612</td>\n",
       "    </tr>\n",
       "    <tr>\n",
       "      <th>rating</th>\n",
       "      <td>-0.038108</td>\n",
       "      <td>-0.025090</td>\n",
       "      <td>-0.019131</td>\n",
       "      <td>0.029262</td>\n",
       "      <td>0.252307</td>\n",
       "      <td>1.000000</td>\n",
       "      <td>0.005056</td>\n",
       "      <td>0.120319</td>\n",
       "    </tr>\n",
       "    <tr>\n",
       "      <th>cb_name_count</th>\n",
       "      <td>-0.125023</td>\n",
       "      <td>0.250283</td>\n",
       "      <td>0.154736</td>\n",
       "      <td>-0.112028</td>\n",
       "      <td>0.087482</td>\n",
       "      <td>0.005056</td>\n",
       "      <td>1.000000</td>\n",
       "      <td>0.032525</td>\n",
       "    </tr>\n",
       "    <tr>\n",
       "      <th>price_level</th>\n",
       "      <td>-0.082012</td>\n",
       "      <td>0.050828</td>\n",
       "      <td>0.064774</td>\n",
       "      <td>0.004864</td>\n",
       "      <td>0.267612</td>\n",
       "      <td>0.120319</td>\n",
       "      <td>0.032525</td>\n",
       "      <td>1.000000</td>\n",
       "    </tr>\n",
       "  </tbody>\n",
       "</table>\n",
       "</div>"
      ],
      "text/plain": [
       "               cb_latitude  cb_longitude  cb_bike_num  distance  review_count  \\\n",
       "cb_latitude       1.000000     -0.025354    -0.173026  0.071211     -0.154979   \n",
       "cb_longitude     -0.025354      1.000000     0.187417 -0.082700      0.126012   \n",
       "cb_bike_num      -0.173026      0.187417     1.000000 -0.105264      0.177271   \n",
       "distance          0.071211     -0.082700    -0.105264  1.000000     -0.054714   \n",
       "review_count     -0.154979      0.126012     0.177271 -0.054714      1.000000   \n",
       "rating           -0.038108     -0.025090    -0.019131  0.029262      0.252307   \n",
       "cb_name_count    -0.125023      0.250283     0.154736 -0.112028      0.087482   \n",
       "price_level      -0.082012      0.050828     0.064774  0.004864      0.267612   \n",
       "\n",
       "                 rating  cb_name_count  price_level  \n",
       "cb_latitude   -0.038108      -0.125023    -0.082012  \n",
       "cb_longitude  -0.025090       0.250283     0.050828  \n",
       "cb_bike_num   -0.019131       0.154736     0.064774  \n",
       "distance       0.029262      -0.112028     0.004864  \n",
       "review_count   0.252307       0.087482     0.267612  \n",
       "rating         1.000000       0.005056     0.120319  \n",
       "cb_name_count  0.005056       1.000000     0.032525  \n",
       "price_level    0.120319       0.032525     1.000000  "
      ]
     },
     "execution_count": 56,
     "metadata": {},
     "output_type": "execute_result"
    }
   ],
   "source": [
    "merged_all_df.corr()"
   ]
  },
  {
   "cell_type": "code",
   "execution_count": 57,
   "metadata": {},
   "outputs": [
    {
     "data": {
      "text/plain": [
       "<Axes: >"
      ]
     },
     "execution_count": 57,
     "metadata": {},
     "output_type": "execute_result"
    },
    {
     "data": {
      "image/png": "[encoded data removed]",
      "text/plain": [
       "<Figure size 640x480 with 2 Axes>"
      ]
     },
     "metadata": {},
     "output_type": "display_data"
    }
   ],
   "source": [
    "sns.heatmap(merged_all_df.corr(), annot = True, cmap=\"Blues\")"
   ]
  },
  {
   "cell_type": "markdown",
   "metadata": {},
   "source": [
    "From this plot we can see that it seems like there may be a very small linear correlation between our target variable ('cb_bike_num') and these bar characteristics:\n",
    "\n",
    "* Minor positive correlation with 'review_count' (0.18), 'price level' (0.065)\n",
    "* Minor negative correlation with 'distance'(-0.11), 'rating' (-0.019)\n",
    "\n",
    "A correlation near zero indicates the variables are not linearly related. Thus, we can exclude the variables with near zero correlation. Thus, the dependent variables kept in our model to predict our our target variable ('cb_bike_num') are 'review_count', 'distance'."
   ]
  },
  {
   "cell_type": "markdown",
   "metadata": {},
   "source": [
    "# Database"
   ]
  },
  {
   "cell_type": "markdown",
   "metadata": {},
   "source": [
    "Put all your results in an SQLite3 database (remember, SQLite stores its databases as files in your local machine - make sure to create your database in your project's data/ directory!)"
   ]
  },
  {
   "cell_type": "markdown",
   "metadata": {},
   "source": [
    "Our scope for this SQLite3 database in Python for part 3:\n",
    "\n",
    "* Create connection and access data from three API results (dataframes) that we have from part 2 into 3 tables\n",
    "* Use SQL queries to access data from those 3 tables\n",
    "* Join data from three multiple tables"
   ]
  },
  {
   "cell_type": "code",
   "execution_count": 58,
   "metadata": {},
   "outputs": [],
   "source": [
    "# Import libraries and modules\n",
    "import sqlite3\n",
    "from sqlite3 import Error"
   ]
  },
  {
   "cell_type": "markdown",
   "metadata": {},
   "source": [
    "* Create connection and access data from three API results (dataframes) that we have from part 2 into 3 tables"
   ]
  },
  {
   "cell_type": "code",
   "execution_count": 59,
   "metadata": {},
   "outputs": [],
   "source": [
    "\n",
    "def create_connection(path):\n",
    "    \"\"\" Create a database connection to a SQLite database \"\"\"\n",
    "    connection = None\n",
    "    try:\n",
    "        connection = sqlite3.connect(path)\n",
    "        print('Connection to SQLite DB successful')\n",
    "    except Error as e:\n",
    "        print(f\"The error '{e}' occurred\")\n",
    "\n",
    "    return connection"
   ]
  },
  {
   "cell_type": "code",
   "execution_count": 60,
   "metadata": {},
   "outputs": [
    {
     "name": "stdout",
     "output_type": "stream",
     "text": [
      "Connection to SQLite DB successful\n"
     ]
    }
   ],
   "source": [
    "# Create an empty database named 'merged_all_sql.db' in '../data/' if not exists\n",
    "connection = create_connection('../data/merged_all_sql.db')"
   ]
  },
  {
   "cell_type": "code",
   "execution_count": 61,
   "metadata": {},
   "outputs": [],
   "source": [
    "# Create a new set of dataframes again for citybikes foursquare and yelp data\n",
    "cb_sql_df = pd.read_csv('../data/cb_montreal_stations.csv')\n",
    "fsq_sql_df = pd.read_csv('../data/fsq_bar_features.csv')\n",
    "yelp_sql_df = pd.read_csv('../data/yelp_bar_features.csv')"
   ]
  },
  {
   "cell_type": "code",
   "execution_count": 62,
   "metadata": {},
   "outputs": [
    {
     "data": {
      "text/plain": [
       "9081"
      ]
     },
     "execution_count": 62,
     "metadata": {},
     "output_type": "execute_result"
    }
   ],
   "source": [
    "# Write DataFrame to SQLite tables: 'citybikes', 'foursquare', 'yelp' without index\n",
    "cb_sql_df.to_sql('citybikes', connection, if_exists='replace', index='False')\n",
    "fsq_sql_df.to_sql('foursquare', connection, if_exists='replace', index='False')\n",
    "yelp_sql_df.to_sql('yelp', connection, if_exists='replace', index='False')"
   ]
  },
  {
   "cell_type": "markdown",
   "metadata": {},
   "source": [
    "* Use SQL queries to access data from those 3 tables"
   ]
  },
  {
   "cell_type": "markdown",
   "metadata": {},
   "source": [
    "Look at the data before and after the join to validate your data."
   ]
  },
  {
   "cell_type": "code",
   "execution_count": 63,
   "metadata": {},
   "outputs": [],
   "source": [
    "# Create a function execute_read_query()\n",
    "def execute_read_query(connection, query):\n",
    "    cursor = connection.cursor()\n",
    "    result = None\n",
    "    try:\n",
    "        cursor.execute(query)\n",
    "        result = cursor.fetchall()\n",
    "        return result\n",
    "    except Error as e:\n",
    "        print(f\"The error '{e}' occurred\")"
   ]
  },
  {
   "cell_type": "code",
   "execution_count": 64,
   "metadata": {},
   "outputs": [
    {
     "name": "stdout",
     "output_type": "stream",
     "text": [
      "(0, '72bfd647b3d2b650546f42319729757d', 'Cégep Marie-Victorin', 45.61749978312808, -73.60601127147675, 11)\n"
     ]
    }
   ],
   "source": [
    "# Query data from the 'citybikes' table\n",
    "select_citybikes = \"SELECT * from citybikes\"\n",
    "cb_rows = execute_read_query(connection, select_citybikes)\n",
    "\n",
    "# Print one sample\n",
    "for cb_row in cb_rows:\n",
    "    print(cb_row)\n",
    "    break"
   ]
  },
  {
   "cell_type": "code",
   "execution_count": 65,
   "metadata": {},
   "outputs": [
    {
     "name": "stdout",
     "output_type": "stream",
     "text": [
      "(0, 'Resto-bar Capucine - Nord-Est de Montréal', None, 'Sports Bar', 246.0, 45.61749978312808, -73.60601127147675)\n"
     ]
    }
   ],
   "source": [
    "# Query data from the 'foursquare' table\n",
    "select_foursquare = \"SELECT * from foursquare\"\n",
    "fsq_rows = execute_read_query(connection, select_foursquare)\n",
    "\n",
    "# Print one sample\n",
    "for fsq_row in fsq_rows:\n",
    "    print(fsq_row)\n",
    "    break"
   ]
  },
  {
   "cell_type": "code",
   "execution_count": 66,
   "metadata": {},
   "outputs": [
    {
     "name": "stdout",
     "output_type": "stream",
     "text": [
      "(0, 'Le 4e Mur', 'H2X 3K8', 'Bars', 99.0, 4.5, '$$', 145.03062584949998, 45.516926210319546, -73.56425732374191)\n"
     ]
    }
   ],
   "source": [
    "# Query data from the 'yelp' table\n",
    "select_yelp = \"SELECT * from yelp\"\n",
    "yelp_rows = execute_read_query(connection, select_yelp)\n",
    "\n",
    "# Print one sample\n",
    "for yelp_row in yelp_rows:\n",
    "    print(yelp_row)\n",
    "    break"
   ]
  },
  {
   "cell_type": "markdown",
   "metadata": {},
   "source": [
    "* Join data from three multiple tables into a database"
   ]
  },
  {
   "cell_type": "code",
   "execution_count": 67,
   "metadata": {},
   "outputs": [],
   "source": [
    "# Apply the same concept as in the pandas joining tables\n",
    "# Add 'review_count', 'rating', 'price' columns from the 'yelp' to 'fsq' dataframe\n",
    "\n",
    "left_join_foursquare_yelp = '''\n",
    "CREATE VIEW left_join_foursquare_yelp\n",
    "AS \n",
    "SELECT foursquare.*\n",
    "FROM foursquare\n",
    "LEFT JOIN (\n",
    "    SELECT DISTINCT name, review_count, rating, price\n",
    "    FROM yelp\n",
    ") As tbl ON foursquare.name = tbl.name;\n",
    "'''\n",
    "\n",
    "fsq_yelp_rows = execute_read_query(connection, left_join_foursquare_yelp)"
   ]
  },
  {
   "cell_type": "code",
   "execution_count": 68,
   "metadata": {},
   "outputs": [],
   "source": [
    "# Create a view that combines the 'left_join_foursquare_yelp' view and 'citybikes' table\n",
    "\n",
    "foursquare_yelp_citybikes = '''\n",
    "CREATE VIEW merge_foursquare_yelp_citybikes\n",
    "AS \n",
    "SELECT *\n",
    "FROM left_join_foursquare_yelp\n",
    "INNER JOIN citybikes AS cb\n",
    "ON cb.cb_latitude = left_join_foursquare_yelp.latitude\n",
    "AND cb.cb_longitude = left_join_foursquare_yelp.longitude;\n",
    "'''\n",
    "\n",
    "foursquare_yelp_citybikes = execute_read_query(connection, foursquare_yelp_citybikes)"
   ]
  },
  {
   "cell_type": "markdown",
   "metadata": {},
   "source": [
    "The joined database is saved now as a view named 'foursquare_yelp_citybikes' in the 'merged_all_sql.db' database."
   ]
  },
  {
   "cell_type": "code",
   "execution_count": null,
   "metadata": {},
   "outputs": [],
   "source": []
  }
 ],
 "metadata": {
  "kernelspec": {
   "display_name": "Python 3",
   "language": "python",
   "name": "python3"
  },
  "language_info": {
   "codemirror_mode": {
    "name": "ipython",
    "version": 3
   },
   "file_extension": ".py",
   "mimetype": "text/x-python",
   "name": "python",
   "nbconvert_exporter": "python",
   "pygments_lexer": "ipython3",
   "version": "3.11.5"
  }
 },
 "nbformat": 4,
 "nbformat_minor": 4
}
